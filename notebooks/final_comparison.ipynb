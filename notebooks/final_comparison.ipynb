{
 "cells": [
  {
   "cell_type": "code",
   "execution_count": 1,
   "metadata": {},
   "outputs": [
    {
     "name": "stdout",
     "output_type": "stream",
     "text": [
      "/Users/phottovy/galvanize/04_Capstone_1/song_lyric_classifier/src\n"
     ]
    }
   ],
   "source": [
    "cd ../src"
   ]
  },
  {
   "cell_type": "code",
   "execution_count": 2,
   "metadata": {},
   "outputs": [],
   "source": [
    "%matplotlib inline\n",
    "import glob\n",
    "import string\n",
    "import numpy as np\n",
    "import pandas as pd\n",
    "import matplotlib.pyplot as plt\n",
    "# import nltk\n",
    "# from nltk.corpus import stopwords\n",
    "from sklearn.feature_extraction.text import CountVectorizer, TfidfTransformer, TfidfVectorizer\n",
    "from sklearn.naive_bayes import MultinomialNB\n",
    "from sklearn.model_selection import train_test_split, KFold, GridSearchCV\n",
    "from sklearn.pipeline import Pipeline\n",
    "from sklearn.feature_extraction.stop_words import ENGLISH_STOP_WORDS\n",
    "from sklearn import metrics\n",
    "from sklearn.preprocessing import FunctionTransformer, StandardScaler\n",
    "import itertools\n",
    "import sys\n",
    "import os.path\n",
    "from nltk.stem.porter import PorterStemmer\n",
    "from nltk.stem.snowball import SnowballStemmer\n",
    "from nltk.stem.wordnet import WordNetLemmatizer\n",
    "from add_stop_words import add_stop_words, nltk_s_words\n",
    "from tabulate import tabulate\n",
    "from scipy import interp"
   ]
  },
  {
   "cell_type": "code",
   "execution_count": 3,
   "metadata": {},
   "outputs": [],
   "source": [
    "plt.style.use('seaborn-darkgrid')\n",
    "plt.rcParams[\"patch.force_edgecolor\"] = True"
   ]
  },
  {
   "cell_type": "code",
   "execution_count": 4,
   "metadata": {},
   "outputs": [],
   "source": [
    "porter = PorterStemmer()\n",
    "snowball = SnowballStemmer('english')\n",
    "wordnet = WordNetLemmatizer()\n",
    "sksw = ENGLISH_STOP_WORDS\n",
    "nltksw = nltk_s_words()\n",
    "addsw = add_stop_words()"
   ]
  },
  {
   "cell_type": "code",
   "execution_count": 5,
   "metadata": {},
   "outputs": [],
   "source": [
    "sw = sksw\n",
    "lm = None\n",
    "stm = None\n",
    "mxf = None"
   ]
  },
  {
   "cell_type": "code",
   "execution_count": 6,
   "metadata": {},
   "outputs": [],
   "source": [
    "# Create or import dataset\n",
    "def get_data(artist='Bob Dylan', exact=False):\n",
    "    '''\n",
    "    Import or create a new a sample dataset\n",
    "    '''\n",
    "    location = '../data/'\n",
    "    filename = artist.replace(' ', '_').lower()+'_sample_dataset_V2.csv'\n",
    "    loc_file = location + filename\n",
    "    if os.path.isfile(loc_file):\n",
    "        df = pd.read_csv(loc_file)\n",
    "    else:\n",
    "        df = create_dataset(artist, exact, location, loc_file)\n",
    "    return df"
   ]
  },
  {
   "cell_type": "code",
   "execution_count": 7,
   "metadata": {},
   "outputs": [],
   "source": [
    "def create_dataset(artist, exact, location, loc_file):\n",
    "    '''\n",
    "    Creates a sample dataset of from the 500K song\n",
    "    lyric dataset for the specified band/artist\n",
    "    along with a random sample of songs for comparison data.\n",
    "\n",
    "    Parameters\n",
    "    ----------\n",
    "    band: name of artist or band to be used in your analysis\n",
    "    exact: boolean, default False\n",
    "        Whether to filter by an exact match or a string that \n",
    "        contains the inputted artist/band value\n",
    "\n",
    "    Returns\n",
    "    -------\n",
    "    .csv file containing all of the songs of the specified\n",
    "    artist and a random sample (minimum 50 songs) of other\n",
    "    songs from the dataset.\n",
    "    '''\n",
    "    full_dataset = location + 'every-song-you-have-heard-almost/Lyrics*.csv'\n",
    "    full_dataset = pd.concat(\n",
    "        [pd.read_csv(f) for f in glob.glob(full_dataset)])\n",
    "    full_dataset.drop_duplicates(\n",
    "        ['Band', 'Song', 'Lyrics'], inplace=True)\n",
    "    if exact:\n",
    "        artist_dataset = full_dataset[full_dataset['Band'].str.match(\n",
    "            artist, case=False)].copy()\n",
    "    else:\n",
    "        artist_dataset = full_dataset[full_dataset['Band'].str.contains(\n",
    "            artist, case=False)].copy()\n",
    "    artist_dataset.drop_duplicates('Lyrics', inplace=True)\n",
    "    rand_dataset = full_dataset[~full_dataset['Band'].str.match(\n",
    "        artist, case=False)].sample(max(len(artist_dataset), 50))\n",
    "    artist_dataset['Test_Artist'] = 1\n",
    "    rand_dataset['Test_Artist'] = 0\n",
    "    sample_dataset = pd.concat(\n",
    "        [artist_dataset, rand_dataset]).copy()\n",
    "    del full_dataset, artist_dataset, rand_dataset\n",
    "    sample_dataset.to_csv(loc_file, index=False)\n",
    "    return sample_dataset"
   ]
  },
  {
   "cell_type": "code",
   "execution_count": 8,
   "metadata": {},
   "outputs": [],
   "source": [
    "def clean_full_dataset(dataset, stopwords=sksw, lemm=None, stem=None):\n",
    "    '''\n",
    "    Cleans the 'Lyrics' column from the master dataset.\n",
    "    Returns a new dataframe and series containing the clean lyrics.\n",
    "    '''\n",
    "    clean_dataset = dataset.copy()\n",
    "    clean_lyrics = clean_dataset['Lyrics']\n",
    "    clean_lyrics = clean_strip_lyrics(clean_dataset['Lyrics'], stopwords, lemm, stem)\n",
    "    \n",
    "#     clean_dataset['Lyrics'] = clean_strip_lyrics(clean_dataset['Lyrics'], stopwords, lemm, stem)\n",
    "#     print(clean_dataset)\n",
    "    clean_dataset['Lyrics'] = clean_lyrics\n",
    "#     print(clean_lyrics)\n",
    "    return clean_dataset, clean_lyrics"
   ]
  },
  {
   "cell_type": "code",
   "execution_count": 9,
   "metadata": {},
   "outputs": [],
   "source": [
    "def clean_strip_lyrics(dataset, stopwords=sksw, lemm=None, stem=None):\n",
    "    '''\n",
    "    Strip punctuation and cleans the word list\n",
    "\n",
    "    Steps\n",
    "    -----\n",
    "    1. remove punctuation\n",
    "    2. remove stopwords from provided dictionary, default sksw list\n",
    "        'all' for a combination of three sets of stopwords\n",
    "    3. stem word list, default None\n",
    "    4. lemmatize word list, default None\n",
    "    5. return list of clean word list from lyrics\n",
    "\n",
    "    Parameters\n",
    "    ----------\n",
    "    lyrics: string of lyrics to be cleaned\n",
    "    stopwords: dictionary of stopwords to exclude from model, default sksw from sklearn\n",
    "    '''\n",
    "#     if stopwords == 'all':\n",
    "#         stopwords = combine_stopwords()\n",
    "    rm_punct = [''.join(\n",
    "        [char for char in word if char not in string.punctuation]) for word in dataset]\n",
    "#     print(rm_punct[2])\n",
    "    rm_stop = [[word.lower() for word in words.split()if word.lower()\n",
    "                not in stopwords] for words in rm_punct]\n",
    "#     print(rm_stop[2])\n",
    "    if lemm == wordnet:\n",
    "        rm_lemm = [[wordnet.lemmatize(word)\n",
    "                    for word in words] for words in rm_stop]\n",
    "    else:\n",
    "        rm_lemm = rm_stop\n",
    "#     print(rm_lemm[2])\n",
    "    if stem == porter:\n",
    "        rm_stem = [[porter.stem(word) for word in words] for words in rm_lemm]\n",
    "    elif stem == snowball:\n",
    "        rm_stem = [[snowball.stem(word) for word in words]\n",
    "                   for words in rm_lemm]\n",
    "    else:\n",
    "        rm_stem = rm_lemm\n",
    "#     print(rm_stem[2])\n",
    "    clean_lyrics = [' '.join([word for word in words]) for words in rm_stem]\n",
    "#     print(clean_lyrics[2])\n",
    "#     print(pd.Series(clean_lyrics))\n",
    "    return pd.Series(clean_lyrics)"
   ]
  },
  {
   "cell_type": "code",
   "execution_count": 10,
   "metadata": {},
   "outputs": [],
   "source": [
    "def combine_stopwords():\n",
    "    return set(list(sksw) + nltksw + addsw)\n",
    "\n",
    "allsw = combine_stopwords"
   ]
  },
  {
   "cell_type": "code",
   "execution_count": 11,
   "metadata": {},
   "outputs": [],
   "source": [
    "# pipeline for the model\n",
    "def set_pipeline(X, y, max_feats=None):\n",
    "    lyrics_pipeline = Pipeline([\n",
    "        ('convert_lyrics', CountVectorizer(max_features=max_feats)),\n",
    "        ('tf-idf', TfidfTransformer()),\n",
    "        ('naive_bayes', MultinomialNB())\n",
    "    ])\n",
    "    return lyrics_pipeline.fit(X, y)"
   ]
  },
  {
   "cell_type": "code",
   "execution_count": 12,
   "metadata": {},
   "outputs": [],
   "source": [
    "# split data between test and training data\n",
    "def data_test_train_split(dataset, X_col='Lyrics', y_col='Test_Artist', size=0.3):\n",
    "    '''\n",
    "    Splits the dataset into training and test sets.\n",
    "    '''\n",
    "    X_train, X_test, y_train, y_test = train_test_split(\n",
    "        dataset[X_col], dataset[y_col], test_size=size)\n",
    "    return X_train, X_test, y_train, y_test"
   ]
  },
  {
   "cell_type": "code",
   "execution_count": 13,
   "metadata": {},
   "outputs": [],
   "source": [
    "def make_predictions(pipeline, X_test):\n",
    "    '''\n",
    "    Makes predictions of y values based on the model.\n",
    "    '''\n",
    "    return pipeline.predict(X_test)"
   ]
  },
  {
   "cell_type": "code",
   "execution_count": 14,
   "metadata": {},
   "outputs": [],
   "source": [
    "# Calculate Results\n",
    "def print_classification_info(y_test, y_predict):\n",
    "    cols = ['Statistic', 'Result']\n",
    "    acc = ['Accuracy', '{:.4f}'.format(metrics.accuracy_score(y_test, y_predict))]   \n",
    "    pre = ['Precision', '{:.4f}'.format(metrics.precision_score(y_test, y_predict))]\n",
    "    rec = ['Recall', '{:.4f}'.format(metrics.recall_score(y_test, y_predict))]\n",
    "    f1 = ['F1-Score', '{:.4f}'.format(metrics.f1_score(y_test, y_predict))]                                  \n",
    "    print('Classification Statistics:\\n')\n",
    "    print(tabulate([cols, acc, pre, rec, f1], headers='firstrow', tablefmt='pipe'))       "
   ]
  },
  {
   "cell_type": "code",
   "execution_count": 15,
   "metadata": {},
   "outputs": [],
   "source": [
    "def confuse_matrix(y_test, y_predict):\n",
    "    '''\n",
    "    Creates a confusion matrix. It flips the order of\n",
    "    Sklearn's built in function.\n",
    "    '''\n",
    "    tn, fp, fn, tp = metrics.confusion_matrix(y_test, y_predict).ravel()\n",
    "    cm_arr = np.array([[tp, fn], [fp, tn]])\n",
    "    return cm_arr"
   ]
  },
  {
   "cell_type": "code",
   "execution_count": 84,
   "metadata": {},
   "outputs": [],
   "source": [
    "def confusion_matrix_plot(y_test, y_predict, save_fig=False, cmap=plt.cm.Blues):\n",
    "    '''\n",
    "    This function prints and plots the confusion matrix.\n",
    "    '''\n",
    "    cm = confuse_matrix(y_test, y_predict)\n",
    "    classes = ['True', 'False']\n",
    "    plt.figure(figsize=(4, 4))\n",
    "    plt.imshow(cm, interpolation='nearest', cmap=cmap)\n",
    "    plt.grid(b=None)\n",
    "    plt.title('Confusion Matrix', fontsize=20)\n",
    "    tick_marks = np.arange(len(classes))\n",
    "    plt.xticks(tick_marks, classes, rotation=45)\n",
    "    plt.yticks(tick_marks, classes)\n",
    "    fmt = 'd'\n",
    "    thresh = cm.max() / 2.\n",
    "    for i, j in itertools.product(range(cm.shape[0]), range(cm.shape[1])):\n",
    "        plt.text(j, i, format(cm[i, j], fmt),\n",
    "                 horizontalalignment=\"center\",\n",
    "                 color=\"white\" if cm[i, j] > thresh else \"black\")\n",
    "    plt.ylabel('True label', fontsize=12)\n",
    "    plt.xlabel('Predicted label', fontsize=12)\n",
    "    plt.tight_layout()\n",
    "    if save_fig:\n",
    "        plt.savefig('confusion_matrix.png')\n",
    "    plt.show()"
   ]
  },
  {
   "cell_type": "code",
   "execution_count": 17,
   "metadata": {},
   "outputs": [
    {
     "data": {
      "text/html": [
       "<div>\n",
       "<style scoped>\n",
       "    .dataframe tbody tr th:only-of-type {\n",
       "        vertical-align: middle;\n",
       "    }\n",
       "\n",
       "    .dataframe tbody tr th {\n",
       "        vertical-align: top;\n",
       "    }\n",
       "\n",
       "    .dataframe thead th {\n",
       "        text-align: right;\n",
       "    }\n",
       "</style>\n",
       "<table border=\"1\" class=\"dataframe\">\n",
       "  <thead>\n",
       "    <tr style=\"text-align: right;\">\n",
       "      <th></th>\n",
       "      <th>Band</th>\n",
       "      <th>Lyrics</th>\n",
       "      <th>Song</th>\n",
       "    </tr>\n",
       "  </thead>\n",
       "  <tbody>\n",
       "    <tr>\n",
       "      <th>count</th>\n",
       "      <td>1234</td>\n",
       "      <td>1234</td>\n",
       "      <td>1234</td>\n",
       "    </tr>\n",
       "    <tr>\n",
       "      <th>unique</th>\n",
       "      <td>575</td>\n",
       "      <td>1230</td>\n",
       "      <td>1223</td>\n",
       "    </tr>\n",
       "    <tr>\n",
       "      <th>top</th>\n",
       "      <td>Bob Dylan</td>\n",
       "      <td>Everything is set, skies are blue,\\r\\nCan't be...</td>\n",
       "      <td>Tears</td>\n",
       "    </tr>\n",
       "    <tr>\n",
       "      <th>freq</th>\n",
       "      <td>617</td>\n",
       "      <td>2</td>\n",
       "      <td>2</td>\n",
       "    </tr>\n",
       "  </tbody>\n",
       "</table>\n",
       "</div>"
      ],
      "text/plain": [
       "             Band                                             Lyrics   Song\n",
       "count        1234                                               1234   1234\n",
       "unique        575                                               1230   1223\n",
       "top     Bob Dylan  Everything is set, skies are blue,\\r\\nCan't be...  Tears\n",
       "freq          617                                                  2      2"
      ]
     },
     "execution_count": 17,
     "metadata": {},
     "output_type": "execute_result"
    }
   ],
   "source": [
    "# create new dataset\n",
    "\n",
    "new_dataset = get_data()\n",
    "new_dataset.drop('Test_Artist', axis=1).describe()"
   ]
  },
  {
   "cell_type": "code",
   "execution_count": 18,
   "metadata": {},
   "outputs": [],
   "source": [
    "def roc_curve_plot(y_test, y_probs, save_fig=False):\n",
    "    '''\n",
    "    This function prints and plots the ROC plot.\n",
    "    '''\n",
    "    fpr, tpr, thresholds = metrics.roc_curve(y_test, y_probs)\n",
    "    plt.figure(figsize=(10, 8))\n",
    "    plt.plot(fpr, tpr, label='ROC curve', lw=2)\n",
    "    plt.plot([0,1], [0,1], linestyle='--', lw=2, color='r')\n",
    "    plt.xlabel(\"False Positive Rate (1 - Specificity)\", fontsize=14)\n",
    "    plt.ylabel(\"True Positive Rate (Sensitivity, Recall)\", fontsize=14)\n",
    "    plt.title(\"ROC plot\", fontsize=20)\n",
    "    plt.legend()\n",
    "    if save_fig:\n",
    "        plt.savefig('roc_plot.png')\n",
    "    plt.show();"
   ]
  },
  {
   "cell_type": "code",
   "execution_count": 19,
   "metadata": {},
   "outputs": [
    {
     "data": {
      "text/html": [
       "<div>\n",
       "<style scoped>\n",
       "    .dataframe tbody tr th:only-of-type {\n",
       "        vertical-align: middle;\n",
       "    }\n",
       "\n",
       "    .dataframe tbody tr th {\n",
       "        vertical-align: top;\n",
       "    }\n",
       "\n",
       "    .dataframe thead th {\n",
       "        text-align: right;\n",
       "    }\n",
       "</style>\n",
       "<table border=\"1\" class=\"dataframe\">\n",
       "  <thead>\n",
       "    <tr style=\"text-align: right;\">\n",
       "      <th></th>\n",
       "      <th>Band</th>\n",
       "      <th>Lyrics</th>\n",
       "      <th>Song</th>\n",
       "    </tr>\n",
       "  </thead>\n",
       "  <tbody>\n",
       "    <tr>\n",
       "      <th>count</th>\n",
       "      <td>1234</td>\n",
       "      <td>1234</td>\n",
       "      <td>1234</td>\n",
       "    </tr>\n",
       "    <tr>\n",
       "      <th>unique</th>\n",
       "      <td>575</td>\n",
       "      <td>1230</td>\n",
       "      <td>1223</td>\n",
       "    </tr>\n",
       "    <tr>\n",
       "      <th>top</th>\n",
       "      <td>Bob Dylan</td>\n",
       "      <td>Everything is set, skies are blue,\\r\\nCan't be...</td>\n",
       "      <td>Tears</td>\n",
       "    </tr>\n",
       "    <tr>\n",
       "      <th>freq</th>\n",
       "      <td>617</td>\n",
       "      <td>2</td>\n",
       "      <td>2</td>\n",
       "    </tr>\n",
       "  </tbody>\n",
       "</table>\n",
       "</div>"
      ],
      "text/plain": [
       "             Band                                             Lyrics   Song\n",
       "count        1234                                               1234   1234\n",
       "unique        575                                               1230   1223\n",
       "top     Bob Dylan  Everything is set, skies are blue,\\r\\nCan't be...  Tears\n",
       "freq          617                                                  2      2"
      ]
     },
     "execution_count": 19,
     "metadata": {},
     "output_type": "execute_result"
    }
   ],
   "source": [
    "# create new dataset\n",
    "\n",
    "new_dataset = get_data()\n",
    "new_dataset.drop('Test_Artist', axis=1).describe()"
   ]
  },
  {
   "cell_type": "code",
   "execution_count": 20,
   "metadata": {},
   "outputs": [],
   "source": [
    "X_train, X_test, y_train, y_test = data_test_train_split(new_dataset)"
   ]
  },
  {
   "cell_type": "code",
   "execution_count": 21,
   "metadata": {},
   "outputs": [
    {
     "data": {
      "text/html": [
       "<div>\n",
       "<style scoped>\n",
       "    .dataframe tbody tr th:only-of-type {\n",
       "        vertical-align: middle;\n",
       "    }\n",
       "\n",
       "    .dataframe tbody tr th {\n",
       "        vertical-align: top;\n",
       "    }\n",
       "\n",
       "    .dataframe thead th {\n",
       "        text-align: right;\n",
       "    }\n",
       "</style>\n",
       "<table border=\"1\" class=\"dataframe\">\n",
       "  <thead>\n",
       "    <tr style=\"text-align: right;\">\n",
       "      <th></th>\n",
       "      <th>Lyrics</th>\n",
       "      <th>Test_Artist</th>\n",
       "    </tr>\n",
       "  </thead>\n",
       "  <tbody>\n",
       "    <tr>\n",
       "      <th>0</th>\n",
       "      <td>If I was king\\r\\nI would rule the hands that y...</td>\n",
       "      <td>0</td>\n",
       "    </tr>\n",
       "    <tr>\n",
       "      <th>1</th>\n",
       "      <td>Well, my shoes, they come from Singapore\\nMy f...</td>\n",
       "      <td>1</td>\n",
       "    </tr>\n",
       "    <tr>\n",
       "      <th>2</th>\n",
       "      <td>Who's gonna throw that minstrel boy a coin?\\r\\...</td>\n",
       "      <td>1</td>\n",
       "    </tr>\n",
       "    <tr>\n",
       "      <th>3</th>\n",
       "      <td>We live in a political world\\nLove don't have ...</td>\n",
       "      <td>1</td>\n",
       "    </tr>\n",
       "    <tr>\n",
       "      <th>4</th>\n",
       "      <td>It's just a good excuse to watch the sun go do...</td>\n",
       "      <td>0</td>\n",
       "    </tr>\n",
       "  </tbody>\n",
       "</table>\n",
       "</div>"
      ],
      "text/plain": [
       "                                              Lyrics  Test_Artist\n",
       "0  If I was king\\r\\nI would rule the hands that y...            0\n",
       "1  Well, my shoes, they come from Singapore\\nMy f...            1\n",
       "2  Who's gonna throw that minstrel boy a coin?\\r\\...            1\n",
       "3  We live in a political world\\nLove don't have ...            1\n",
       "4  It's just a good excuse to watch the sun go do...            0"
      ]
     },
     "execution_count": 21,
     "metadata": {},
     "output_type": "execute_result"
    }
   ],
   "source": [
    "train_df = pd.DataFrame()\n",
    "train_df['Lyrics'] = X_train\n",
    "train_df['Test_Artist'] = y_train\n",
    "train_df.reset_index(drop=True, inplace=True)\n",
    "train_df.head()"
   ]
  },
  {
   "cell_type": "code",
   "execution_count": 22,
   "metadata": {},
   "outputs": [
    {
     "data": {
      "text/html": [
       "<div>\n",
       "<style scoped>\n",
       "    .dataframe tbody tr th:only-of-type {\n",
       "        vertical-align: middle;\n",
       "    }\n",
       "\n",
       "    .dataframe tbody tr th {\n",
       "        vertical-align: top;\n",
       "    }\n",
       "\n",
       "    .dataframe thead th {\n",
       "        text-align: right;\n",
       "    }\n",
       "</style>\n",
       "<table border=\"1\" class=\"dataframe\">\n",
       "  <thead>\n",
       "    <tr style=\"text-align: right;\">\n",
       "      <th></th>\n",
       "      <th>Lyrics</th>\n",
       "      <th>Test_Artist</th>\n",
       "    </tr>\n",
       "  </thead>\n",
       "  <tbody>\n",
       "    <tr>\n",
       "      <th>0</th>\n",
       "      <td>Ah!\\r\\n\\r\\nRolling down the hill, snowballing ...</td>\n",
       "      <td>0</td>\n",
       "    </tr>\n",
       "    <tr>\n",
       "      <th>1</th>\n",
       "      <td>L'estate che scorre \\r\\nChe mi vengon' le vogl...</td>\n",
       "      <td>0</td>\n",
       "    </tr>\n",
       "    <tr>\n",
       "      <th>2</th>\n",
       "      <td>And all my sorrows awaken\\r\\nAnd all my fear's...</td>\n",
       "      <td>0</td>\n",
       "    </tr>\n",
       "    <tr>\n",
       "      <th>3</th>\n",
       "      <td>Everything is set, skies are blue,\\r\\nCan't be...</td>\n",
       "      <td>0</td>\n",
       "    </tr>\n",
       "    <tr>\n",
       "      <th>4</th>\n",
       "      <td>Who's got a beard\\r\\nThat's long and white?\\r\\...</td>\n",
       "      <td>1</td>\n",
       "    </tr>\n",
       "  </tbody>\n",
       "</table>\n",
       "</div>"
      ],
      "text/plain": [
       "                                              Lyrics  Test_Artist\n",
       "0  Ah!\\r\\n\\r\\nRolling down the hill, snowballing ...            0\n",
       "1  L'estate che scorre \\r\\nChe mi vengon' le vogl...            0\n",
       "2  And all my sorrows awaken\\r\\nAnd all my fear's...            0\n",
       "3  Everything is set, skies are blue,\\r\\nCan't be...            0\n",
       "4  Who's got a beard\\r\\nThat's long and white?\\r\\...            1"
      ]
     },
     "execution_count": 22,
     "metadata": {},
     "output_type": "execute_result"
    }
   ],
   "source": [
    "test_df = pd.DataFrame()\n",
    "test_df['Lyrics'] = X_test\n",
    "test_df['Test_Artist'] = y_test\n",
    "test_df.reset_index(drop=True, inplace=True)\n",
    "test_df.head()"
   ]
  },
  {
   "cell_type": "code",
   "execution_count": 23,
   "metadata": {},
   "outputs": [
    {
     "name": "stdout",
     "output_type": "stream",
     "text": [
      "Classification Statistics:\n",
      "\n",
      "| Statistic   |   Result |\n",
      "|:------------|---------:|\n",
      "| Accuracy    |   0.6631 |\n",
      "| Precision   |   0.5966 |\n",
      "| Recall      |   0.9558 |\n",
      "| F1-Score    |   0.7346 |\n"
     ]
    }
   ],
   "source": [
    "# original model parameters without CV\n",
    "sw = sksw\n",
    "lm = None\n",
    "stm = None\n",
    "mxf = None\n",
    "\n",
    "clean_orig_train_df, clean_orig_train_lyrics = clean_full_dataset(train_df, stopwords=sw, lemm=lm, stem=lm)\n",
    "clean_orig_test_df, clean_orig_test_lyrics = clean_full_dataset(test_df, stopwords=sw, lemm=lm, stem=lm)\n",
    "orig_X_train, orig_y_train = clean_orig_train_df['Lyrics'], clean_orig_train_df['Test_Artist']\n",
    "orig_X_test, orig_y_test = clean_orig_test_df['Lyrics'], clean_orig_test_df['Test_Artist']\n",
    "orig_lyrics_pipeline = set_pipeline(orig_X_train, orig_y_train, max_feats=mxf)\n",
    "orig_y_predictions = make_predictions(orig_lyrics_pipeline, orig_X_test)\n",
    "orig_y_probs = orig_lyrics_pipeline.predict_proba(orig_X_test)[:,1]\n",
    "print_classification_info(orig_y_test, orig_y_predictions)\n",
    "confuse_matrix(orig_y_test, orig_y_predictions)\n",
    "orig_fpr, orig_tpr, orig_thresholds = metrics.roc_curve(orig_y_test, orig_y_probs)\n",
    "orig_auc = metrics.auc(orig_fpr, orig_tpr)"
   ]
  },
  {
   "cell_type": "code",
   "execution_count": 24,
   "metadata": {},
   "outputs": [
    {
     "name": "stdout",
     "output_type": "stream",
     "text": [
      "Classification Statistics:\n",
      "\n",
      "| Statistic   |   Result |\n",
      "|:------------|---------:|\n",
      "| Accuracy    |   0.6685 |\n",
      "| Precision   |   0.6007 |\n",
      "| Recall      |   0.9558 |\n",
      "| F1-Score    |   0.7377 |\n"
     ]
    }
   ],
   "source": [
    "# top metrics without cv\n",
    "sw = sksw\n",
    "lm = None\n",
    "stm = None\n",
    "mxf = 12000\n",
    "\n",
    "clean_top_train_df, clean_top_train_lyrics = clean_full_dataset(train_df, stopwords=sw, lemm=lm, stem=lm)\n",
    "clean_top_test_df, clean_top_test_lyrics = clean_full_dataset(test_df, stopwords=sw, lemm=lm, stem=lm)\n",
    "top_X_train, top_y_train = clean_top_train_df['Lyrics'], clean_top_train_df['Test_Artist']\n",
    "top_X_test, top_y_test = clean_top_test_df['Lyrics'], clean_top_test_df['Test_Artist']\n",
    "top_lyrics_pipeline = set_pipeline(top_X_train, top_y_train, max_feats=mxf)\n",
    "top_y_predictions = make_predictions(top_lyrics_pipeline, top_X_test)\n",
    "top_y_probs = top_lyrics_pipeline.predict_proba(top_X_test)[:,1]\n",
    "print_classification_info(top_y_test, top_y_predictions)\n",
    "confuse_matrix(top_y_test, top_y_predictions)\n",
    "top_fpr, top_tpr, top_thresholds = metrics.roc_curve(top_y_test, top_y_probs)\n",
    "top_auc = metrics.auc(top_fpr, top_tpr)"
   ]
  },
  {
   "cell_type": "code",
   "execution_count": 25,
   "metadata": {},
   "outputs": [
    {
     "name": "stdout",
     "output_type": "stream",
     "text": [
      "Classification Statistics:\n",
      "\n",
      "| Statistic   |   Result |\n",
      "|:------------|---------:|\n",
      "| Accuracy    |   0.7143 |\n",
      "| Precision   |   0.6667 |\n",
      "| Recall      |   0.8287 |\n",
      "| F1-Score    |   0.7389 |\n"
     ]
    }
   ],
   "source": [
    "# bottom metrics\n",
    "sw = addsw\n",
    "lm = None\n",
    "stm = snowball\n",
    "mxf = 500\n",
    "\n",
    "clean_bot_train_df, clean_bot_train_lyrics = clean_full_dataset(train_df, stopwords=sw, lemm=lm, stem=lm)\n",
    "clean_bot_test_df, clean_bot_test_lyrics = clean_full_dataset(test_df, stopwords=sw, lemm=lm, stem=lm)\n",
    "bot_X_train, bot_y_train = clean_bot_train_df['Lyrics'], clean_bot_train_df['Test_Artist']\n",
    "bot_X_test, bot_y_test = clean_bot_test_df['Lyrics'], clean_bot_test_df['Test_Artist']\n",
    "bot_lyrics_pipeline = set_pipeline(bot_X_train, bot_y_train, max_feats=mxf)\n",
    "bot_y_predictions = make_predictions(bot_lyrics_pipeline, bot_X_test)\n",
    "bot_y_probs = bot_lyrics_pipeline.predict_proba(bot_X_test)[:,1]\n",
    "print_classification_info(bot_y_test, bot_y_predictions)\n",
    "confuse_matrix(bot_y_test, bot_y_predictions)\n",
    "bot_fpr, bot_tpr, bot_thresholds = metrics.roc_curve(bot_y_test, bot_y_probs)\n",
    "bot_auc = metrics.auc(bot_fpr, bot_tpr)"
   ]
  },
  {
   "cell_type": "code",
   "execution_count": 26,
   "metadata": {},
   "outputs": [],
   "source": [
    "# confusion_matrix_plot(orig_y_test, orig_y_predictions, save_fig=False)\n",
    "# confusion_matrix_plot(top_y_test, top_y_predictions, save_fig=False)\n",
    "# roc_curve_plot(orig_y_test, orig_y_probs, save_fig=False)\n",
    "# roc_curve_plot(top_y_test, top_y_probs, save_fig=False)"
   ]
  },
  {
   "cell_type": "code",
   "execution_count": 27,
   "metadata": {},
   "outputs": [],
   "source": [
    "# confusion_matrix_plot(orig_y_test, orig_y_predictions, save_fig=False)\n",
    "# roc_curve_plot(orig_y_test, orig_y_probs, save_fig=False)"
   ]
  },
  {
   "cell_type": "code",
   "execution_count": 28,
   "metadata": {},
   "outputs": [],
   "source": [
    "# confusion_matrix_plot(bot_y_test, bot_y_predictions, save_fig=False)\n",
    "# roc_curve_plot(bot_y_test, bot_y_probs, save_fig=False)"
   ]
  },
  {
   "cell_type": "markdown",
   "metadata": {},
   "source": [
    "# Gridsearch"
   ]
  },
  {
   "cell_type": "code",
   "execution_count": 29,
   "metadata": {},
   "outputs": [],
   "source": [
    "def gridsearch_with_output(estimator, parameter_grid, X, y):\n",
    "    '''\n",
    "        Parameters: estimator: the type of model (e.g. RandomForestRegressor())\n",
    "                    paramter_grid: dictionary defining the gridsearch parameters\n",
    "                    X_train: 2d numpy array\n",
    "                    y_train: 1d numpy array\n",
    "\n",
    "        Returns:  best parameters and model fit with those parameters\n",
    "    '''\n",
    "    model_gridsearch = GridSearchCV(estimator,\n",
    "                                    parameter_grid,\n",
    "                                    n_jobs=-1,\n",
    "                                    verbose=True,\n",
    "                                    refit=True,\n",
    "                                    cv=4,\n",
    "                                    scoring='f1')  # ['f1', 'precision', 'recall', 'accuracy'])\n",
    "    model_gridsearch.fit(X, y)\n",
    "    best_params = model_gridsearch.best_params_\n",
    "    model_best = model_gridsearch.best_estimator_\n",
    "    print(\"\\nResult of gridsearch:\")\n",
    "    print(\"{0:<20s} | {1:<8s} | {2}\".format(\n",
    "        \"Parameter\", \"Optimal\", \"Gridsearch values\"))\n",
    "    print(\"-\" * 55)\n",
    "    for param, vals in parameter_grid.items():\n",
    "        print(\"{0:<20s} | {1:<8s} | {2}\".format(str(param),\n",
    "                                                str(best_params[param]),\n",
    "                                                str(vals)))\n",
    "    return best_params, model_best"
   ]
  },
  {
   "cell_type": "code",
   "execution_count": 30,
   "metadata": {},
   "outputs": [],
   "source": [
    "def display_default_and_gsearch_model_results(model_default, model_gridsearch,\n",
    "                                              X_test, y_test):\n",
    "    '''\n",
    "        Parameters: model_default: fit model using initial parameters\n",
    "                    model_gridsearch: fit model using parameters from gridsearch\n",
    "                    X_test: 2d numpy array\n",
    "                    y_test: 1d numpy array\n",
    "        Return: None, but prints out mse and r2 for the default and model with\n",
    "                gridsearched parameters\n",
    "    '''\n",
    "    name = model_default.__class__.__name__.replace(\n",
    "        'Regressor', '')  # for printing\n",
    "    y_test_pred = model_gridsearch.predict(X_test)\n",
    "    acc = metrics.accuracy_score(y_test, y_test_pred)\n",
    "    pre = metrics.precision_score(y_test, y_test_pred)\n",
    "    rec = metrics.recall_score(y_test, y_test_pred)\n",
    "    f1 = metrics.f1_score(y_test, y_test_pred)\n",
    "#     print(\"Results for {0}\".format(name))\n",
    "    print(\"Gridsearched model acc: {:0.3f} | pre: {:0.3f} | rec = {:0.3f} | f1 = {:0.3f}\".format(\n",
    "        acc, pre, rec, f1))\n",
    "    y_test_pred = model_default.predict(X_test)\n",
    "    acc = metrics.accuracy_score(y_test, y_test_pred)\n",
    "    pre = metrics.precision_score(y_test, y_test_pred)\n",
    "    rec = metrics.recall_score(y_test, y_test_pred)\n",
    "    f1 = metrics.f1_score(y_test, y_test_pred)\n",
    "    print(\"     Default model acc: {:0.3f} | pre: {:0.3f} | rec = {:0.3f} | f1 = {:0.3f}\".format(\n",
    "        acc, pre, rec, f1))"
   ]
  },
  {
   "cell_type": "code",
   "execution_count": 31,
   "metadata": {},
   "outputs": [],
   "source": [
    "cv_pipeline = Pipeline([\n",
    "    ('convert_lyrics', CountVectorizer()),\n",
    "    ('tf-idf', TfidfTransformer()),\n",
    "    ('naive_bayes', MultinomialNB())\n",
    "])"
   ]
  },
  {
   "cell_type": "code",
   "execution_count": 32,
   "metadata": {},
   "outputs": [
    {
     "name": "stdout",
     "output_type": "stream",
     "text": [
      "Fitting 4 folds for each of 1 candidates, totalling 4 fits\n"
     ]
    },
    {
     "name": "stderr",
     "output_type": "stream",
     "text": [
      "[Parallel(n_jobs=-1)]: Done   2 out of   4 | elapsed:    0.8s remaining:    0.8s\n",
      "[Parallel(n_jobs=-1)]: Done   4 out of   4 | elapsed:    0.8s finished\n"
     ]
    },
    {
     "name": "stdout",
     "output_type": "stream",
     "text": [
      "\n",
      "Result of gridsearch:\n",
      "Parameter            | Optimal  | Gridsearch values\n",
      "-------------------------------------------------------\n",
      "convert_lyrics__max_features | None     | [None]\n"
     ]
    }
   ],
   "source": [
    "# original paramters with CV\n",
    "sw = sksw\n",
    "lm = None\n",
    "stm = None\n",
    "mxf = None\n",
    "feats_grid = {'convert_lyrics__max_features': [mxf]}\n",
    "\n",
    "clean_dataset, clean_lyrics = clean_full_dataset(\n",
    "    new_dataset, stopwords=sw, lemm=lm, stem=stm)\n",
    "X = clean_dataset['Lyrics']\n",
    "y = clean_dataset['Test_Artist']\n",
    "orig_cv_best_params, orig_cv_best_model = gridsearch_with_output(cv_pipeline, \n",
    "                                                                 feats_grid, \n",
    "                                                                 X, y)"
   ]
  },
  {
   "cell_type": "code",
   "execution_count": 92,
   "metadata": {},
   "outputs": [],
   "source": [
    "orig_cv_y_predict = orig_cv_best_model.predict(orig_X_test)\n",
    "orig_cv_best_model.predict_proba(orig_X_train)[:, 1]\n",
    "orig_cv_y_probs = orig_cv_best_model.predict_proba(orig_X_test)[:, 1]\n",
    "orig_cv_fpr, orig_cv_tpr, t1 = metrics.roc_curve(orig_y_test, orig_cv_y_probs)\n",
    "orig_cv_auc = metrics.auc(orig_cv_fpr, orig_cv_tpr)"
   ]
  },
  {
   "cell_type": "code",
   "execution_count": 34,
   "metadata": {},
   "outputs": [
    {
     "name": "stdout",
     "output_type": "stream",
     "text": [
      "Fitting 4 folds for each of 1 candidates, totalling 4 fits\n"
     ]
    },
    {
     "name": "stderr",
     "output_type": "stream",
     "text": [
      "[Parallel(n_jobs=-1)]: Done   2 out of   4 | elapsed:    0.8s remaining:    0.8s\n",
      "[Parallel(n_jobs=-1)]: Done   4 out of   4 | elapsed:    0.8s finished\n"
     ]
    },
    {
     "name": "stdout",
     "output_type": "stream",
     "text": [
      "\n",
      "Result of gridsearch:\n",
      "Parameter            | Optimal  | Gridsearch values\n",
      "-------------------------------------------------------\n",
      "convert_lyrics__max_features | 12000    | [12000]\n"
     ]
    }
   ],
   "source": [
    "# top paramters with CV\n",
    "sw = sksw\n",
    "lm = None\n",
    "stm = None\n",
    "mxf = 12000\n",
    "feats_grid = {'convert_lyrics__max_features': [mxf]}\n",
    "\n",
    "clean_dataset, clean_lyrics = clean_full_dataset(\n",
    "    new_dataset, stopwords=sw, lemm=lm, stem=stm)\n",
    "X = clean_dataset['Lyrics']\n",
    "y = clean_dataset['Test_Artist']\n",
    "top_cv_best_params, top_cv_best_model = gridsearch_with_output(cv_pipeline, \n",
    "                                                                 feats_grid, \n",
    "                                                                 X, y)"
   ]
  },
  {
   "cell_type": "code",
   "execution_count": 94,
   "metadata": {},
   "outputs": [],
   "source": [
    "top_cv_y_predict = top_cv_best_model.predict(top_X_test)\n",
    "top_cv_best_model.predict_proba(top_X_train)[:, 1]\n",
    "top_cv_y_probs = top_cv_best_model.predict_proba(top_X_test)[:, 1]\n",
    "top_cv_fpr, top_cv_tpr, t1 = metrics.roc_curve(top_y_test, top_cv_y_probs)\n",
    "top_cv_auc = metrics.auc(top_cv_fpr, top_cv_tpr)"
   ]
  },
  {
   "cell_type": "code",
   "execution_count": 36,
   "metadata": {},
   "outputs": [
    {
     "name": "stdout",
     "output_type": "stream",
     "text": [
      "Fitting 4 folds for each of 1 candidates, totalling 4 fits\n"
     ]
    },
    {
     "name": "stderr",
     "output_type": "stream",
     "text": [
      "[Parallel(n_jobs=-1)]: Done   2 out of   4 | elapsed:    1.7s remaining:    1.7s\n",
      "[Parallel(n_jobs=-1)]: Done   4 out of   4 | elapsed:    1.8s finished\n"
     ]
    },
    {
     "name": "stdout",
     "output_type": "stream",
     "text": [
      "\n",
      "Result of gridsearch:\n",
      "Parameter            | Optimal  | Gridsearch values\n",
      "-------------------------------------------------------\n",
      "convert_lyrics__max_features | 500      | [500]\n"
     ]
    }
   ],
   "source": [
    "# bottom metrics with CV\n",
    "sw = addsw\n",
    "lm = None\n",
    "stm = snowball\n",
    "mxf = 500\n",
    "feats_grid = {'convert_lyrics__max_features': [mxf]}\n",
    "\n",
    "clean_dataset, clean_lyrics = clean_full_dataset(\n",
    "    new_dataset, stopwords=sw, lemm=lm, stem=stm)\n",
    "X = clean_dataset['Lyrics']\n",
    "y = clean_dataset['Test_Artist']\n",
    "bot_cv_best_params, bot_cv_best_model = gridsearch_with_output(cv_pipeline, \n",
    "                                                                 feats_grid, \n",
    "                                                                 X, y)"
   ]
  },
  {
   "cell_type": "code",
   "execution_count": 95,
   "metadata": {},
   "outputs": [],
   "source": [
    "bot_cv_y_predict = bot_cv_best_model.predict(bot_X_test)\n",
    "bot_cv_best_model.predict_proba(bot_X_train)[:, 1]\n",
    "bot_cv_y_probs = bot_cv_best_model.predict_proba(bot_X_test)[:, 1]\n",
    "bot_cv_fpr, bot_cv_tpr, t1 = metrics.roc_curve(bot_y_test, bot_cv_y_probs)\n",
    "bot_cv_auc = metrics.auc(bot_cv_fpr, bot_cv_tpr)"
   ]
  },
  {
   "cell_type": "code",
   "execution_count": 96,
   "metadata": {},
   "outputs": [
    {
     "data": {
      "image/png": "[encoded data removed]",
      "text/plain": [
       "<Figure size 720x576 with 1 Axes>"
      ]
     },
     "metadata": {},
     "output_type": "display_data"
    }
   ],
   "source": [
    "plt.figure(figsize=(10, 8))\n",
    "palette = plt.get_cmap('seismic', lut=6)\n",
    "plt.plot(orig_fpr, orig_tpr, label=f'Orig ROC (AUC = {orig_auc:.2f})', alpha=0.8, lw=2, color=palette(1))\n",
    "plt.plot(top_fpr, top_tpr, label=f'Top ROC (AUC = {top_auc:.2f})', alpha=0.8, lw=2, color=palette(2))\n",
    "plt.plot(bot_fpr, bot_tpr, label=f'Bot ROC (AUC = {bot_auc:.2f})', alpha=0.8, lw=2, color=palette(3))\n",
    "plt.plot(orig_cv_fpr, orig_cv_tpr, label=f'CV Orig ROC (AUC = {orig_cv_auc:.2f})', alpha=0.8, lw=2, color=palette(4))\n",
    "plt.plot(top_cv_fpr, top_cv_tpr, label=f'CV Top ROC (AUC = {top_cv_auc:.2f})', alpha=0.8, lw=2, color=palette(5))\n",
    "plt.plot(bot_cv_fpr, bot_cv_tpr, label=f'CV Bot ROC (AUC = {bot_cv_auc:.2f})', alpha=0.8, lw=2, color=palette(6))\n",
    "plt.plot([0,1], [0,1], linestyle='--', lw=2, color='r')\n",
    "plt.xlabel(\"False Positive Rate (1 - Specificity)\", fontsize=14)\n",
    "plt.ylabel(\"True Positive Rate (Sensitivity, Recall)\", fontsize=14)\n",
    "plt.title(\"ROC plot\", fontsize=20)\n",
    "plt.legend()\n",
    "plt.tight_layout()\n",
    "plt.savefig('../images/cv_roc_plot.png')\n",
    "plt.show();"
   ]
  },
  {
   "cell_type": "code",
   "execution_count": 109,
   "metadata": {},
   "outputs": [],
   "source": [
    "def confusion_matrix_plot_grid(y_test, y_predict, name='', save_fig=False, cmap=plt.cm.Blues):\n",
    "    '''\n",
    "    This function prints and plots the confusion matrix.\n",
    "    '''\n",
    "    plt.figure(figsize=(12, 4))\n",
    "    # first plot\n",
    "    cm1 = confuse_matrix(y_test[0], y_predict[0])\n",
    "    plt.subplot(1, 3, 1)\n",
    "    classes = ['True', 'False']\n",
    "    plt.imshow(cm1, interpolation='nearest', cmap=cmap)\n",
    "    plt.grid(b=None)\n",
    "    plt.title('Confusion Matrix\\nOriginal Parameters', fontsize=20)\n",
    "    tick_marks = np.arange(len(classes))\n",
    "    plt.xticks(tick_marks, classes, rotation=45)\n",
    "    plt.yticks(tick_marks, classes)\n",
    "    fmt = 'd'\n",
    "    thresh = cm1.max() / 2.\n",
    "    for i, j in itertools.product(range(cm1.shape[0]), range(cm1.shape[1])):\n",
    "        plt.text(j, i, format(cm1[i, j], fmt),\n",
    "                 horizontalalignment=\"center\",\n",
    "                 color=\"white\" if cm1[i, j] > thresh else \"black\")\n",
    "    plt.ylabel('True label', fontsize=12)\n",
    "    plt.xlabel('Predicted label', fontsize=12)\n",
    "    \n",
    "    # second plot\n",
    "    cm2 = confuse_matrix(y_test[1], y_predict[1])\n",
    "    plt.subplot(1, 3, 2)\n",
    "    classes = ['True', 'False']\n",
    "    plt.imshow(cm2, interpolation='nearest', cmap=cmap)\n",
    "    plt.grid(b=None)\n",
    "    plt.title('Confusion Matrix\\nTop Parameters', fontsize=20)\n",
    "    tick_marks = np.arange(len(classes))\n",
    "    plt.xticks(tick_marks, classes, rotation=45)\n",
    "    plt.yticks(tick_marks, classes)\n",
    "    fmt = 'd'\n",
    "    thresh = cm2.max() / 2.\n",
    "    for i, j in itertools.product(range(cm2.shape[0]), range(cm2.shape[1])):\n",
    "        plt.text(j, i, format(cm2[i, j], fmt),\n",
    "                 horizontalalignment=\"center\",\n",
    "                 color=\"white\" if cm2[i, j] > thresh else \"black\")\n",
    "    plt.ylabel('True label', fontsize=12)\n",
    "    plt.xlabel('Predicted label', fontsize=12)\n",
    "    \n",
    "    # third plot\n",
    "    cm3 = confuse_matrix(y_test[2], y_predict[2])\n",
    "    plt.subplot(1, 3, 3)\n",
    "    classes = ['True', 'False']\n",
    "    plt.imshow(cm3, interpolation='nearest', cmap=cmap)\n",
    "    plt.grid(b=None)\n",
    "    plt.title('Confusion Matrix\\nBottom Parameters', fontsize=20)\n",
    "    tick_marks = np.arange(len(classes))\n",
    "    plt.xticks(tick_marks, classes, rotation=45)\n",
    "    plt.yticks(tick_marks, classes)\n",
    "    fmt = 'd'\n",
    "    thresh = cm3.max() / 2.\n",
    "    for i, j in itertools.product(range(cm3.shape[0]), range(cm3.shape[1])):\n",
    "        plt.text(j, i, format(cm3[i, j], fmt),\n",
    "                 horizontalalignment=\"center\",\n",
    "                 color=\"white\" if cm3[i, j] > thresh else \"black\")\n",
    "    plt.ylabel('True label', fontsize=12)\n",
    "    plt.xlabel('Predicted label', fontsize=12)\n",
    "    \n",
    "    \n",
    "    plt.tight_layout()\n",
    "    if save_fig:\n",
    "        plt.savefig(f'../images/{name}confusion_matrix.png')\n",
    "    plt.show()"
   ]
  },
  {
   "cell_type": "code",
   "execution_count": 115,
   "metadata": {},
   "outputs": [],
   "source": [
    "y_test_list = [orig_y_test, top_y_test, bot_y_test]\n",
    "y_predict_list = [orig_y_predictions, top_y_predictions, bot_y_predictions]\n",
    "y_cv_predict_list = [orig_cv_y_predict, top_cv_y_predict, bot_cv_y_predict]"
   ]
  },
  {
   "cell_type": "code",
   "execution_count": 116,
   "metadata": {},
   "outputs": [
    {
     "data": {
      "image/png": "[encoded data removed]",
      "text/plain": [
       "<Figure size 864x288 with 3 Axes>"
      ]
     },
     "metadata": {},
     "output_type": "display_data"
    }
   ],
   "source": [
    "confusion_matrix_plot_grid(y_test_list, y_predict_list, save_fig=False)"
   ]
  },
  {
   "cell_type": "code",
   "execution_count": 117,
   "metadata": {},
   "outputs": [
    {
     "data": {
      "image/png": "[encoded data removed]",
      "text/plain": [
       "<Figure size 864x288 with 3 Axes>"
      ]
     },
     "metadata": {},
     "output_type": "display_data"
    }
   ],
   "source": [
    "confusion_matrix_plot_grid(y_test_list, y_cv_predict_list, name='cv_', save_fig=False)"
   ]
  },
  {
   "cell_type": "code",
   "execution_count": 85,
   "metadata": {},
   "outputs": [
    {
     "name": "stdout",
     "output_type": "stream",
     "text": [
      "Classification Statistics:\n",
      "\n",
      "| Statistic   |   Result |\n",
      "|:------------|---------:|\n",
      "| Accuracy    |   0.6631 |\n",
      "| Precision   |   0.5966 |\n",
      "| Recall      |   0.9558 |\n",
      "| F1-Score    |   0.7346 |\n"
     ]
    },
    {
     "data": {
      "image/png": "[encoded data removed]",
      "text/plain": [
       "<Figure size 288x288 with 1 Axes>"
      ]
     },
     "metadata": {},
     "output_type": "display_data"
    }
   ],
   "source": [
    "print_classification_info(orig_y_test, orig_y_predictions)\n",
    "confusion_matrix_plot(orig_y_test, orig_y_predictions)"
   ]
  },
  {
   "cell_type": "code",
   "execution_count": 88,
   "metadata": {},
   "outputs": [
    {
     "name": "stdout",
     "output_type": "stream",
     "text": [
      "Classification Statistics:\n",
      "\n",
      "| Statistic   |   Result |\n",
      "|:------------|---------:|\n",
      "| Accuracy    |   0.6685 |\n",
      "| Precision   |   0.6007 |\n",
      "| Recall      |   0.9558 |\n",
      "| F1-Score    |   0.7377 |\n",
      "[[173   8]\n",
      " [115  75]]\n"
     ]
    },
    {
     "data": {
      "image/png": "[encoded data removed]",
      "text/plain": [
       "<Figure size 288x288 with 1 Axes>"
      ]
     },
     "metadata": {},
     "output_type": "display_data"
    }
   ],
   "source": [
    "print_classification_info(top_y_test, top_y_predictions)\n",
    "confusion_matrix_plot(top_y_test, top_y_predictions)"
   ]
  },
  {
   "cell_type": "code",
   "execution_count": 89,
   "metadata": {},
   "outputs": [
    {
     "name": "stdout",
     "output_type": "stream",
     "text": [
      "Classification Statistics:\n",
      "\n",
      "| Statistic   |   Result |\n",
      "|:------------|---------:|\n",
      "| Accuracy    |   0.7143 |\n",
      "| Precision   |   0.6667 |\n",
      "| Recall      |   0.8287 |\n",
      "| F1-Score    |   0.7389 |\n"
     ]
    },
    {
     "data": {
      "image/png": "[encoded data removed]",
      "text/plain": [
       "<Figure size 288x288 with 1 Axes>"
      ]
     },
     "metadata": {},
     "output_type": "display_data"
    }
   ],
   "source": [
    "print_classification_info(bot_y_test, bot_y_predictions)\n",
    "confusion_matrix_plot(bot_y_test, bot_y_predictions)"
   ]
  },
  {
   "cell_type": "code",
   "execution_count": 93,
   "metadata": {},
   "outputs": [
    {
     "name": "stdout",
     "output_type": "stream",
     "text": [
      "Classification Statistics:\n",
      "\n",
      "| Statistic   |   Result |\n",
      "|:------------|---------:|\n",
      "| Accuracy    |   0.8814 |\n",
      "| Precision   |   0.8128 |\n",
      "| Recall      |   0.9834 |\n",
      "| F1-Score    |   0.89   |\n"
     ]
    },
    {
     "data": {
      "image/png": "[encoded data removed]",
      "text/plain": [
       "<Figure size 288x288 with 1 Axes>"
      ]
     },
     "metadata": {},
     "output_type": "display_data"
    }
   ],
   "source": [
    "print_classification_info(orig_y_test, orig_cv_y_predict)\n",
    "confusion_matrix_plot(orig_y_test, orig_cv_y_predict)"
   ]
  },
  {
   "cell_type": "code",
   "execution_count": 98,
   "metadata": {},
   "outputs": [
    {
     "name": "stdout",
     "output_type": "stream",
     "text": [
      "Classification Statistics:\n",
      "\n",
      "| Statistic   |   Result |\n",
      "|:------------|---------:|\n",
      "| Accuracy    |   0.8949 |\n",
      "| Precision   |   0.8318 |\n",
      "| Recall      |   0.9834 |\n",
      "| F1-Score    |   0.9013 |\n"
     ]
    },
    {
     "data": {
      "image/png": "[encoded data removed]",
      "text/plain": [
       "<Figure size 288x288 with 1 Axes>"
      ]
     },
     "metadata": {},
     "output_type": "display_data"
    }
   ],
   "source": [
    "print_classification_info(top_y_test, top_cv_y_predict)\n",
    "confusion_matrix_plot(top_y_test, top_cv_y_predict)"
   ]
  },
  {
   "cell_type": "code",
   "execution_count": 99,
   "metadata": {},
   "outputs": [
    {
     "name": "stdout",
     "output_type": "stream",
     "text": [
      "Classification Statistics:\n",
      "\n",
      "| Statistic   |   Result |\n",
      "|:------------|---------:|\n",
      "| Accuracy    |   0.7898 |\n",
      "| Precision   |   0.7269 |\n",
      "| Recall      |   0.9116 |\n",
      "| F1-Score    |   0.8088 |\n"
     ]
    },
    {
     "data": {
      "image/png": "[encoded data removed]",
      "text/plain": [
       "<Figure size 288x288 with 1 Axes>"
      ]
     },
     "metadata": {},
     "output_type": "display_data"
    }
   ],
   "source": [
    "print_classification_info(bot_y_test, bot_cv_y_predict)\n",
    "confusion_matrix_plot(bot_y_test, bot_cv_y_predict)"
   ]
  },
  {
   "cell_type": "code",
   "execution_count": null,
   "metadata": {},
   "outputs": [],
   "source": []
  },
  {
   "cell_type": "code",
   "execution_count": null,
   "metadata": {},
   "outputs": [],
   "source": []
  },
  {
   "cell_type": "code",
   "execution_count": 43,
   "metadata": {},
   "outputs": [],
   "source": [
    "def confusion_matrix_plot_cv(tn, fp, fn, tp, save_fig=False, cmap=plt.cm.Blues):\n",
    "    '''\n",
    "    This function prints and plots the confusion matrix.\n",
    "    '''\n",
    "    cm = np.array([[tp, fn], [fp, tn]])\n",
    "    classes = ['True', 'False']\n",
    "    plt.figure(figsize=(4, 4))\n",
    "    plt.imshow(cm, interpolation='nearest', cmap=cmap)\n",
    "    plt.grid(b=None)\n",
    "    plt.title('Confusion Matrix', fontsize=20)\n",
    "    tick_marks = np.arange(len(classes))\n",
    "    plt.xticks(tick_marks, classes, rotation=45)\n",
    "    plt.yticks(tick_marks, classes)\n",
    "    fmt = 'd'\n",
    "    thresh = cm.max() / 2.\n",
    "    for i, j in itertools.product(range(cm.shape[0]), range(cm.shape[1])):\n",
    "        plt.text(j, i, format(cm[i, j], fmt),\n",
    "                 horizontalalignment=\"center\",\n",
    "                 color=\"white\" if cm[i, j] > thresh else \"black\")\n",
    "    plt.ylabel('True label', fontsize=12)\n",
    "    plt.xlabel('Predicted label', fontsize=12)\n",
    "    plt.tight_layout()\n",
    "    if save_fig:\n",
    "        plt.savefig('confusion_matrix.png')\n",
    "    plt.show()"
   ]
  },
  {
   "cell_type": "code",
   "execution_count": 44,
   "metadata": {},
   "outputs": [],
   "source": [
    "def my_cross_val_score(dataset, num_folds=4, stopwords=sksw, lemm=None, stem=None, max_feats=None):\n",
    "    ''' Returns error for k-fold cross validation. '''\n",
    "#     print(stopwords)\n",
    "    \n",
    "    clean_dataset, clean_lyrics = clean_full_dataset(\n",
    "        dataset, stopwords, lemm, stem)\n",
    "    X = clean_dataset['Lyrics']\n",
    "#     print(X)\n",
    "    y = clean_dataset['Test_Artist']\n",
    "\n",
    "    kf = KFold(n_splits=num_folds, shuffle=True)\n",
    "    acc_cv = np.empty(num_folds)\n",
    "    pre_cv = np.empty(num_folds)\n",
    "    rec_cv = np.empty(num_folds)\n",
    "    f1_cv = np.empty(num_folds)\n",
    "    tn, fp, fn, tp = 0, 0, 0, 0\n",
    "    \n",
    "    tprs = []\n",
    "    aucs = []\n",
    "    mean_fpr = np.linspace(0,1,100)\n",
    "    \n",
    "    index = 0\n",
    "    for train_index, test_index in kf.split(X):\n",
    "        X_train, X_test = X[train_index], X[test_index]\n",
    "        y_train, y_test = y[train_index], y[test_index]\n",
    "        lyrics_pipeline = set_pipeline(X_train, y_train, max_feats)\n",
    "        y_predict = make_predictions(lyrics_pipeline, X_test)\n",
    "        y_probs = lyrics_pipeline.predict_proba(X_test)[:, 1]\n",
    "        fpr, tpr, thresholds = metrics.roc_curve(y_test, y_probs)\n",
    "        tprs.append(interp(mean_fpr, fpr, tpr))\n",
    "        tprs[-1][0] = 0.0\n",
    "        roc_auc = metrics.auc(fpr, tpr)\n",
    "        aucs.append(roc_auc)\n",
    "        acc_cv[index] = metrics.accuracy_score(y_test, y_predict)\n",
    "        pre_cv[index] = metrics.precision_score(y_test, y_predict)\n",
    "        rec_cv[index] = metrics.recall_score(y_test, y_predict)\n",
    "        f1_cv[index] = metrics.f1_score(y_test, y_predict)\n",
    "        tn += metrics.confusion_matrix(y_test, y_predict).ravel()[0]\n",
    "        fp += metrics.confusion_matrix(y_test, y_predict).ravel()[1]\n",
    "        fn += metrics.confusion_matrix(y_test, y_predict).ravel()[2]\n",
    "        tp += metrics.confusion_matrix(y_test, y_predict).ravel()[3]\n",
    "        index += 1  \n",
    "    mean_tpr = np.mean(tprs, axis=0)\n",
    "    mean_tpr[-1] = 1.0\n",
    "    mean_auc = metrics.auc(mean_fpr, mean_tpr)\n",
    "    std_auc = np.std(aucs)\n",
    "    cols = ['Statistic', 'Result']\n",
    "    acc = ['Accuracy', '{:.4f}'.format(np.mean(acc_cv))]\n",
    "    pre = ['Precision', '{:.4f}'.format(np.mean(pre_cv))]\n",
    "    rec = ['Recall', '{:.4f}'.format(np.mean(rec_cv))]\n",
    "    f1 = ['F1-Score', '{:.4f}'.format(np.mean(f1_cv))]\n",
    "    print('Classification Statistics:\\n')\n",
    "    print(tabulate([cols, acc, pre, rec, f1],\n",
    "                   headers='firstrow', tablefmt='pipe'))\n",
    "    print(np.array([[tp, fn], [fp, tn]]))\n",
    "#     confusion_matrix_plot_cv(tn, fp, fn, tp)\n",
    "    return tn, fp, fn, tp, mean_fpr, mean_tpr, mean_auc, std_auc"
   ]
  },
  {
   "cell_type": "code",
   "execution_count": 45,
   "metadata": {},
   "outputs": [],
   "source": [
    "# # original paramters with CV\n",
    "# sw = sksw\n",
    "# lm = None\n",
    "# stm = None\n",
    "# mxf = None\n",
    "\n",
    "# def_tn, def_fp, def_fn, def_tp, def_mean_fpr, def_mean_tpr, def_mean_auc, def_std_auc = my_cross_val_score(new_dataset, stopwords=sw, lemm=lm, stem=stm, max_feats=mxf)"
   ]
  },
  {
   "cell_type": "code",
   "execution_count": 46,
   "metadata": {},
   "outputs": [],
   "source": [
    "# # top paramters with CV\n",
    "# sw = sksw\n",
    "# lm = None\n",
    "# stm = None\n",
    "# mxf = 12000\n",
    "\n",
    "# top_tn, top_fp, top_fn, top_tp, top_mean_fpr, top_mean_tpr, top_mean_auc, top_std_auc = my_cross_val_score(new_dataset, stopwords=sw, lemm=lm, stem=stm, max_feats=mxf)"
   ]
  },
  {
   "cell_type": "code",
   "execution_count": 47,
   "metadata": {},
   "outputs": [],
   "source": [
    "# # bottom metrics with CV\n",
    "# sw = addsw\n",
    "# lm = None\n",
    "# stm = snowball\n",
    "# mxf = 500\n",
    "\n",
    "# low_tn, low_fp, low_fn, low_tp, low_mean_fpr, low_mean_tpr, low_mean_auc, low_std_auc = my_cross_val_score(new_dataset, stopwords=sw, lemm=lm, stem=stm, max_feats=mxf)"
   ]
  },
  {
   "cell_type": "code",
   "execution_count": 48,
   "metadata": {},
   "outputs": [],
   "source": [
    "# plt.figure(figsize=(10, 8))\n",
    "# plt.plot(def_mean_fpr, def_mean_tpr, label=f'Def Mean ROC (AUC = {def_mean_auc:.2f} $\\pm$ {def_std_auc:.2f})', alpha=0.5, lw=2)\n",
    "# plt.plot(top_mean_fpr, top_mean_tpr, label=f'Top Mean ROC (AUC = {top_mean_auc:.2f} $\\pm$ {top_std_auc:.2f})', alpha=0.5, lw=2)\n",
    "# plt.plot(low_mean_fpr, low_mean_tpr, label=f'Low Mean ROC (AUC = {low_mean_auc:.2f} $\\pm$ {low_std_auc:.2f})', alpha=0.5, lw=2)\n",
    "# plt.plot(orig_fpr, orig_tpr, label=f'Orig ROC (AUC = {orig_auc:.2f})', alpha=0.5, lw=2)\n",
    "# plt.plot(top_fpr, top_tpr, label=f'top ROC (AUC = {top_auc:.2f})', alpha=0.5, lw=2)\n",
    "# plt.plot(bot_fpr, bot_tpr, label=f'bot ROC (AUC = {bot_auc:.2f})', alpha=0.5, lw=2)\n",
    "\n",
    "# plt.plot([0,1], [0,1], linestyle='--', lw=2, color='r')\n",
    "# plt.xlabel(\"False Positive Rate (1 - Specificity)\", fontsize=14)\n",
    "# plt.ylabel(\"True Positive Rate (Sensitivity, Recall)\", fontsize=14)\n",
    "# plt.title(\"ROC plot\", fontsize=20)\n",
    "# plt.legend()\n",
    "# ;"
   ]
  }
 ],
 "metadata": {
  "kernelspec": {
   "display_name": "Python 3",
   "language": "python",
   "name": "python3"
  },
  "language_info": {
   "codemirror_mode": {
    "name": "ipython",
    "version": 3
   },
   "file_extension": ".py",
   "mimetype": "text/x-python",
   "name": "python",
   "nbconvert_exporter": "python",
   "pygments_lexer": "ipython3",
   "version": "3.6.5"
  }
 },
 "nbformat": 4,
 "nbformat_minor": 2
}
