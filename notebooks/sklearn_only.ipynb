{
 "cells": [
  {
   "cell_type": "code",
   "execution_count": 1,
   "metadata": {},
   "outputs": [],
   "source": [
    "import numpy as np\n",
    "import pandas as pd\n",
    "import matplotlib.pyplot as plt\n",
    "%matplotlib inline"
   ]
  },
  {
   "cell_type": "code",
   "execution_count": 2,
   "metadata": {},
   "outputs": [],
   "source": [
    "import string\n",
    "import nltk\n",
    "from nltk.corpus import stopwords\n",
    "from sklearn.feature_extraction.text import CountVectorizer\n",
    "from sklearn.feature_extraction.text import TfidfTransformer\n",
    "from sklearn.naive_bayes import MultinomialNB\n",
    "from sklearn.model_selection import train_test_split\n",
    "from sklearn.pipeline import Pipeline\n",
    "from sklearn import metrics"
   ]
  },
  {
   "cell_type": "code",
   "execution_count": 3,
   "metadata": {},
   "outputs": [],
   "source": [
    "plt.style.use('seaborn')\n",
    "plt.rcParams[\"patch.force_edgecolor\"] = True"
   ]
  },
  {
   "cell_type": "code",
   "execution_count": 4,
   "metadata": {},
   "outputs": [],
   "source": [
    "combined_df = pd.read_csv('data/bob_dylan_sample_dataset.csv')"
   ]
  },
  {
   "cell_type": "code",
   "execution_count": 5,
   "metadata": {},
   "outputs": [],
   "source": [
    "# additional_s_words = [\"aren't\", \"can't\", \"couldn't\", 'did', \"didn't\", 'does', \"doesn't\", 'doing', \"don't\", \"hadn't\",\n",
    "#                       \"hasn't\", \"haven't\", 'having', \"he'd\", \"he'll\", \"he's\", \"here's\", \"how's\", \"i'd\", \"i'll\", \"i'm\",\n",
    "#                       \"i've\", \"isn't\", \"it's\", \"let's\", \"mustn't\", 'ought', 'ours', 'ourselves', \"shan't\", \"she'd\",\n",
    "#                       \"she'll\", \"she's\", \"shouldn't\", \"that's\", 'theirs', \"there's\", \"they'd\", \"they'll\", \"they're\",\n",
    "#                       \"they've\", \"wasn't\", \"we'd\", \"we'll\", \"we're\", \"we've\", \"weren't\", \"what's\", \"when's\", \"where's\",\n",
    "#                       \"who's\", \"why's\", \"won't\", \"wouldn't\", \"you'd\", \"you'll\", \"you're\", \"you've\"]"
   ]
  },
  {
   "cell_type": "code",
   "execution_count": 6,
   "metadata": {},
   "outputs": [],
   "source": [
    "additional_s_words = []"
   ]
  },
  {
   "cell_type": "code",
   "execution_count": 7,
   "metadata": {},
   "outputs": [
    {
     "data": {
      "text/html": [
       "<div>\n",
       "<style scoped>\n",
       "    .dataframe tbody tr th:only-of-type {\n",
       "        vertical-align: middle;\n",
       "    }\n",
       "\n",
       "    .dataframe tbody tr th {\n",
       "        vertical-align: top;\n",
       "    }\n",
       "\n",
       "    .dataframe thead th {\n",
       "        text-align: right;\n",
       "    }\n",
       "</style>\n",
       "<table border=\"1\" class=\"dataframe\">\n",
       "  <thead>\n",
       "    <tr style=\"text-align: right;\">\n",
       "      <th></th>\n",
       "      <th>Band</th>\n",
       "      <th>Lyrics</th>\n",
       "      <th>Song</th>\n",
       "    </tr>\n",
       "  </thead>\n",
       "  <tbody>\n",
       "    <tr>\n",
       "      <th>count</th>\n",
       "      <td>1269</td>\n",
       "      <td>1269</td>\n",
       "      <td>1269</td>\n",
       "    </tr>\n",
       "    <tr>\n",
       "      <th>unique</th>\n",
       "      <td>618</td>\n",
       "      <td>1255</td>\n",
       "      <td>1250</td>\n",
       "    </tr>\n",
       "    <tr>\n",
       "      <th>top</th>\n",
       "      <td>Bob Dylan</td>\n",
       "      <td>Maybe I should have saved those left over drea...</td>\n",
       "      <td>Here's That Rainy Day</td>\n",
       "    </tr>\n",
       "    <tr>\n",
       "      <th>freq</th>\n",
       "      <td>617</td>\n",
       "      <td>4</td>\n",
       "      <td>5</td>\n",
       "    </tr>\n",
       "  </tbody>\n",
       "</table>\n",
       "</div>"
      ],
      "text/plain": [
       "             Band                                             Lyrics  \\\n",
       "count        1269                                               1269   \n",
       "unique        618                                               1255   \n",
       "top     Bob Dylan  Maybe I should have saved those left over drea...   \n",
       "freq          617                                                  4   \n",
       "\n",
       "                         Song  \n",
       "count                    1269  \n",
       "unique                   1250  \n",
       "top     Here's That Rainy Day  \n",
       "freq                        5  "
      ]
     },
     "execution_count": 7,
     "metadata": {},
     "output_type": "execute_result"
    }
   ],
   "source": [
    "combined_df.drop('Test_Artist', axis=1).describe()"
   ]
  },
  {
   "cell_type": "code",
   "execution_count": 8,
   "metadata": {},
   "outputs": [
    {
     "data": {
      "text/plain": [
       "0    With your mercury mouth in the missionary time...\n",
       "1    How many roads must a man walk down\\r\\nBefore ...\n",
       "2    Everybody's building\\r\\nThe big ships and the ...\n",
       "3    Well, today has been a sad ol' lonesome day\\r\\...\n",
       "4    0l' black Bascom, don't break no mirrors\\r\\nCo...\n",
       "5    Well, the rainman comes with his magic wand\\r\\...\n",
       "6    Now I taught the weeping willow how to cry,\\r\\...\n",
       "7    Love, oh, love, oh careless love\\r\\nLove, oh, ...\n",
       "8    Well, if you're travelin' in the north country...\n",
       "9    Well you asked me if I'll forget my baby.\\r\\nI...\n",
       "Name: Lyrics, dtype: object"
      ]
     },
     "execution_count": 8,
     "metadata": {},
     "output_type": "execute_result"
    }
   ],
   "source": [
    "combined_df['Lyrics'][:10]"
   ]
  },
  {
   "cell_type": "code",
   "execution_count": 9,
   "metadata": {},
   "outputs": [],
   "source": [
    "# for lyric in combined_df['Lyrics'][:10]:\n",
    "#     print(lyric)\n",
    "#     print('\\n')"
   ]
  },
  {
   "cell_type": "code",
   "execution_count": 10,
   "metadata": {},
   "outputs": [],
   "source": [
    "# def lyric_cleanup(lyrics):\n",
    "#     '''\n",
    "#     1. remove punctuation\n",
    "#     2. remove stopwords from nltk.corpus\n",
    "#     3. return list of clean word list from lyrics\n",
    "#     '''\n",
    "#     rm_additional = [word for word in lyrics.split() if word.lower() not in additional_s_words]\n",
    "#     rm_additional = ' '.join(rm_additional)\n",
    "#     rm_punct = [char for char in rm_additional if char not in string.punctuation]\n",
    "#     rm_punct = ''.join(rm_punct)\n",
    "#     return [word.lower() for word in rm_punct.split() if word.lower() not in stopwords.words('english')]"
   ]
  },
  {
   "cell_type": "code",
   "execution_count": 11,
   "metadata": {},
   "outputs": [],
   "source": [
    "# lyrics_pipeline = Pipeline([\n",
    "#         ('convert_lyrics', CountVectorizer(analyzer=lyric_cleanup)),\n",
    "#         ('tf-idf', TfidfTransformer()),\n",
    "#         ('naive_bayes', MultinomialNB())\n",
    "#     ])"
   ]
  },
  {
   "cell_type": "code",
   "execution_count": 12,
   "metadata": {},
   "outputs": [],
   "source": [
    "vectorize = CountVectorizer(stop_words='english').fit(combined_df['Lyrics'])"
   ]
  },
  {
   "cell_type": "code",
   "execution_count": 13,
   "metadata": {},
   "outputs": [
    {
     "name": "stdout",
     "output_type": "stream",
     "text": [
      "15298\n"
     ]
    }
   ],
   "source": [
    "print(len(vectorize.vocabulary_))"
   ]
  },
  {
   "cell_type": "code",
   "execution_count": 14,
   "metadata": {},
   "outputs": [],
   "source": [
    "# song_example = combined_df['Lyrics'][972]\n",
    "# print(song_example)"
   ]
  },
  {
   "cell_type": "code",
   "execution_count": 15,
   "metadata": {},
   "outputs": [],
   "source": [
    "# vect_example = vectorize.transform([song_example])\n",
    "# print(vect_example)\n",
    "# # print(vect_example.shape)"
   ]
  },
  {
   "cell_type": "code",
   "execution_count": 16,
   "metadata": {},
   "outputs": [],
   "source": [
    "# # see what is repeated 10 times\n",
    "# print(vectorize.get_feature_names()[2238])"
   ]
  },
  {
   "cell_type": "code",
   "execution_count": 17,
   "metadata": {},
   "outputs": [],
   "source": [
    "lyrics_vector = vectorize.transform(combined_df['Lyrics'])"
   ]
  },
  {
   "cell_type": "code",
   "execution_count": 18,
   "metadata": {},
   "outputs": [
    {
     "data": {
      "text/html": [
       "<div>\n",
       "<style scoped>\n",
       "    .dataframe tbody tr th:only-of-type {\n",
       "        vertical-align: middle;\n",
       "    }\n",
       "\n",
       "    .dataframe tbody tr th {\n",
       "        vertical-align: top;\n",
       "    }\n",
       "\n",
       "    .dataframe thead th {\n",
       "        text-align: right;\n",
       "    }\n",
       "</style>\n",
       "<table border=\"1\" class=\"dataframe\">\n",
       "  <thead>\n",
       "    <tr style=\"text-align: right;\">\n",
       "      <th></th>\n",
       "      <th>word</th>\n",
       "      <th>count</th>\n",
       "    </tr>\n",
       "  </thead>\n",
       "  <tbody>\n",
       "    <tr>\n",
       "      <th>3912</th>\n",
       "      <td>don</td>\n",
       "      <td>1625</td>\n",
       "    </tr>\n",
       "    <tr>\n",
       "      <th>7587</th>\n",
       "      <td>like</td>\n",
       "      <td>1452</td>\n",
       "    </tr>\n",
       "    <tr>\n",
       "      <th>7787</th>\n",
       "      <td>love</td>\n",
       "      <td>1450</td>\n",
       "    </tr>\n",
       "    <tr>\n",
       "      <th>7136</th>\n",
       "      <td>just</td>\n",
       "      <td>1443</td>\n",
       "    </tr>\n",
       "    <tr>\n",
       "      <th>7272</th>\n",
       "      <td>know</td>\n",
       "      <td>1346</td>\n",
       "    </tr>\n",
       "    <tr>\n",
       "      <th>7661</th>\n",
       "      <td>ll</td>\n",
       "      <td>1324</td>\n",
       "    </tr>\n",
       "    <tr>\n",
       "      <th>5769</th>\n",
       "      <td>got</td>\n",
       "      <td>1192</td>\n",
       "    </tr>\n",
       "    <tr>\n",
       "      <th>9117</th>\n",
       "      <td>oh</td>\n",
       "      <td>964</td>\n",
       "    </tr>\n",
       "    <tr>\n",
       "      <th>13563</th>\n",
       "      <td>time</td>\n",
       "      <td>933</td>\n",
       "    </tr>\n",
       "    <tr>\n",
       "      <th>14250</th>\n",
       "      <td>ve</td>\n",
       "      <td>832</td>\n",
       "    </tr>\n",
       "    <tr>\n",
       "      <th>2614</th>\n",
       "      <td>come</td>\n",
       "      <td>820</td>\n",
       "    </tr>\n",
       "    <tr>\n",
       "      <th>7310</th>\n",
       "      <td>la</td>\n",
       "      <td>817</td>\n",
       "    </tr>\n",
       "    <tr>\n",
       "      <th>851</th>\n",
       "      <td>baby</td>\n",
       "      <td>802</td>\n",
       "    </tr>\n",
       "    <tr>\n",
       "      <th>7977</th>\n",
       "      <td>man</td>\n",
       "      <td>710</td>\n",
       "    </tr>\n",
       "    <tr>\n",
       "      <th>14578</th>\n",
       "      <td>want</td>\n",
       "      <td>676</td>\n",
       "    </tr>\n",
       "    <tr>\n",
       "      <th>11539</th>\n",
       "      <td>say</td>\n",
       "      <td>676</td>\n",
       "    </tr>\n",
       "    <tr>\n",
       "      <th>7502</th>\n",
       "      <td>let</td>\n",
       "      <td>666</td>\n",
       "    </tr>\n",
       "    <tr>\n",
       "      <th>5747</th>\n",
       "      <td>gonna</td>\n",
       "      <td>664</td>\n",
       "    </tr>\n",
       "    <tr>\n",
       "      <th>14642</th>\n",
       "      <td>way</td>\n",
       "      <td>603</td>\n",
       "    </tr>\n",
       "    <tr>\n",
       "      <th>303</th>\n",
       "      <td>ain</td>\n",
       "      <td>596</td>\n",
       "    </tr>\n",
       "  </tbody>\n",
       "</table>\n",
       "</div>"
      ],
      "text/plain": [
       "        word  count\n",
       "3912     don   1625\n",
       "7587    like   1452\n",
       "7787    love   1450\n",
       "7136    just   1443\n",
       "7272    know   1346\n",
       "7661      ll   1324\n",
       "5769     got   1192\n",
       "9117      oh    964\n",
       "13563   time    933\n",
       "14250     ve    832\n",
       "2614    come    820\n",
       "7310      la    817\n",
       "851     baby    802\n",
       "7977     man    710\n",
       "14578   want    676\n",
       "11539    say    676\n",
       "7502     let    666\n",
       "5747   gonna    664\n",
       "14642    way    603\n",
       "303      ain    596"
      ]
     },
     "execution_count": 18,
     "metadata": {},
     "output_type": "execute_result"
    }
   ],
   "source": [
    "sum_words = np.asarray(lyrics_vector.sum(axis=0)).ravel().tolist()\n",
    "counts_df = pd.DataFrame({'word': vectorize.get_feature_names(), 'count': sum_words})\n",
    "counts_df.sort_values(by='count', ascending=False).head(20)"
   ]
  },
  {
   "cell_type": "code",
   "execution_count": 19,
   "metadata": {},
   "outputs": [
    {
     "name": "stdout",
     "output_type": "stream",
     "text": [
      "Shape of Sparse Matrix:  (1269, 15298)\n",
      "Amount of Non-Zero occurences:  83474\n"
     ]
    }
   ],
   "source": [
    "print('Shape of Sparse Matrix: ', lyrics_vector.shape)\n",
    "print('Amount of Non-Zero occurences: ', lyrics_vector.nnz)"
   ]
  },
  {
   "cell_type": "code",
   "execution_count": 20,
   "metadata": {},
   "outputs": [
    {
     "name": "stdout",
     "output_type": "stream",
     "text": [
      "sparsity: 0\n"
     ]
    }
   ],
   "source": [
    "sparsity = (100.0 * lyrics_vector.nnz / (lyrics_vector.shape[0] * lyrics_vector.shape[1]))\n",
    "print('sparsity: {}'.format(round(sparsity)))"
   ]
  },
  {
   "cell_type": "code",
   "execution_count": 21,
   "metadata": {},
   "outputs": [],
   "source": [
    "tfidf_transformer = TfidfTransformer().fit(lyrics_vector)"
   ]
  },
  {
   "cell_type": "code",
   "execution_count": 22,
   "metadata": {},
   "outputs": [
    {
     "data": {
      "text/html": [
       "<div>\n",
       "<style scoped>\n",
       "    .dataframe tbody tr th:only-of-type {\n",
       "        vertical-align: middle;\n",
       "    }\n",
       "\n",
       "    .dataframe tbody tr th {\n",
       "        vertical-align: top;\n",
       "    }\n",
       "\n",
       "    .dataframe thead th {\n",
       "        text-align: right;\n",
       "    }\n",
       "</style>\n",
       "<table border=\"1\" class=\"dataframe\">\n",
       "  <thead>\n",
       "    <tr style=\"text-align: right;\">\n",
       "      <th></th>\n",
       "      <th>word</th>\n",
       "      <th>weight</th>\n",
       "    </tr>\n",
       "  </thead>\n",
       "  <tbody>\n",
       "    <tr>\n",
       "      <th>7787</th>\n",
       "      <td>love</td>\n",
       "      <td>0.036103</td>\n",
       "    </tr>\n",
       "    <tr>\n",
       "      <th>3912</th>\n",
       "      <td>don</td>\n",
       "      <td>0.031913</td>\n",
       "    </tr>\n",
       "    <tr>\n",
       "      <th>7661</th>\n",
       "      <td>ll</td>\n",
       "      <td>0.028470</td>\n",
       "    </tr>\n",
       "    <tr>\n",
       "      <th>7272</th>\n",
       "      <td>know</td>\n",
       "      <td>0.028249</td>\n",
       "    </tr>\n",
       "    <tr>\n",
       "      <th>7136</th>\n",
       "      <td>just</td>\n",
       "      <td>0.027770</td>\n",
       "    </tr>\n",
       "    <tr>\n",
       "      <th>7587</th>\n",
       "      <td>like</td>\n",
       "      <td>0.026939</td>\n",
       "    </tr>\n",
       "    <tr>\n",
       "      <th>5769</th>\n",
       "      <td>got</td>\n",
       "      <td>0.023954</td>\n",
       "    </tr>\n",
       "    <tr>\n",
       "      <th>851</th>\n",
       "      <td>baby</td>\n",
       "      <td>0.023451</td>\n",
       "    </tr>\n",
       "    <tr>\n",
       "      <th>13563</th>\n",
       "      <td>time</td>\n",
       "      <td>0.022701</td>\n",
       "    </tr>\n",
       "    <tr>\n",
       "      <th>9117</th>\n",
       "      <td>oh</td>\n",
       "      <td>0.021450</td>\n",
       "    </tr>\n",
       "    <tr>\n",
       "      <th>14250</th>\n",
       "      <td>ve</td>\n",
       "      <td>0.021122</td>\n",
       "    </tr>\n",
       "    <tr>\n",
       "      <th>2614</th>\n",
       "      <td>come</td>\n",
       "      <td>0.020063</td>\n",
       "    </tr>\n",
       "    <tr>\n",
       "      <th>7502</th>\n",
       "      <td>let</td>\n",
       "      <td>0.018693</td>\n",
       "    </tr>\n",
       "    <tr>\n",
       "      <th>14578</th>\n",
       "      <td>want</td>\n",
       "      <td>0.017972</td>\n",
       "    </tr>\n",
       "    <tr>\n",
       "      <th>11539</th>\n",
       "      <td>say</td>\n",
       "      <td>0.017748</td>\n",
       "    </tr>\n",
       "    <tr>\n",
       "      <th>5747</th>\n",
       "      <td>gonna</td>\n",
       "      <td>0.017273</td>\n",
       "    </tr>\n",
       "    <tr>\n",
       "      <th>3352</th>\n",
       "      <td>day</td>\n",
       "      <td>0.017039</td>\n",
       "    </tr>\n",
       "    <tr>\n",
       "      <th>6202</th>\n",
       "      <td>heart</td>\n",
       "      <td>0.016758</td>\n",
       "    </tr>\n",
       "    <tr>\n",
       "      <th>14642</th>\n",
       "      <td>way</td>\n",
       "      <td>0.016258</td>\n",
       "    </tr>\n",
       "    <tr>\n",
       "      <th>7977</th>\n",
       "      <td>man</td>\n",
       "      <td>0.015889</td>\n",
       "    </tr>\n",
       "  </tbody>\n",
       "</table>\n",
       "</div>"
      ],
      "text/plain": [
       "        word    weight\n",
       "7787    love  0.036103\n",
       "3912     don  0.031913\n",
       "7661      ll  0.028470\n",
       "7272    know  0.028249\n",
       "7136    just  0.027770\n",
       "7587    like  0.026939\n",
       "5769     got  0.023954\n",
       "851     baby  0.023451\n",
       "13563   time  0.022701\n",
       "9117      oh  0.021450\n",
       "14250     ve  0.021122\n",
       "2614    come  0.020063\n",
       "7502     let  0.018693\n",
       "14578   want  0.017972\n",
       "11539    say  0.017748\n",
       "5747   gonna  0.017273\n",
       "3352     day  0.017039\n",
       "6202   heart  0.016758\n",
       "14642    way  0.016258\n",
       "7977     man  0.015889"
      ]
     },
     "execution_count": 22,
     "metadata": {},
     "output_type": "execute_result"
    }
   ],
   "source": [
    "tfidf_weights = TfidfTransformer().fit_transform(lyrics_vector)\n",
    "weights = np.asarray(tfidf_weights.mean(axis=0)).ravel().tolist()\n",
    "weights_df = pd.DataFrame({'word': vectorize.get_feature_names(), 'weight': weights})\n",
    "weights_df.sort_values(by='weight', ascending=False).head(20)"
   ]
  },
  {
   "cell_type": "code",
   "execution_count": 23,
   "metadata": {},
   "outputs": [],
   "source": [
    "# tfidf_example = tfidf_transformer.transform(vect_example)"
   ]
  },
  {
   "cell_type": "code",
   "execution_count": 24,
   "metadata": {},
   "outputs": [],
   "source": [
    "# print(tfidf_example)"
   ]
  },
  {
   "cell_type": "code",
   "execution_count": 25,
   "metadata": {},
   "outputs": [],
   "source": [
    "# tfidf_transformer.idf_[vectorize.vocabulary_['Ghostbusters']]"
   ]
  },
  {
   "cell_type": "code",
   "execution_count": 26,
   "metadata": {},
   "outputs": [],
   "source": [
    "# lyrics_tfidf = tfidf_transformer.transform(lyrics_vector)"
   ]
  },
  {
   "cell_type": "code",
   "execution_count": 27,
   "metadata": {},
   "outputs": [],
   "source": [
    "# bd_detect_model = MultinomialNB().fit(lyrics_tfidf,combined_df['Test_Artist'])"
   ]
  },
  {
   "cell_type": "code",
   "execution_count": 28,
   "metadata": {},
   "outputs": [],
   "source": [
    "# bd_detect_model.predict(tfidf_example)[0]"
   ]
  },
  {
   "cell_type": "code",
   "execution_count": 29,
   "metadata": {},
   "outputs": [],
   "source": [
    "# all_predictions = bd_detect_model.predict(lyrics_tfidf)"
   ]
  },
  {
   "cell_type": "code",
   "execution_count": 30,
   "metadata": {},
   "outputs": [],
   "source": [
    "# all_predictions"
   ]
  },
  {
   "cell_type": "code",
   "execution_count": 31,
   "metadata": {},
   "outputs": [],
   "source": [
    "lyric_train, lyric_test, bd_train, bd_test = train_test_split(combined_df['Lyrics'], combined_df['Test_Artist'],test_size=0.3)"
   ]
  },
  {
   "cell_type": "markdown",
   "metadata": {},
   "source": [
    "## Create a pipeline"
   ]
  },
  {
   "cell_type": "code",
   "execution_count": 32,
   "metadata": {},
   "outputs": [],
   "source": [
    "lyrics_pipeline = Pipeline([\n",
    "        ('convert_lyrics', CountVectorizer(stop_words='english')),\n",
    "        ('tf-idf', TfidfTransformer()),\n",
    "        ('naive_bayes', MultinomialNB())\n",
    "    ])"
   ]
  },
  {
   "cell_type": "code",
   "execution_count": 33,
   "metadata": {
    "scrolled": true
   },
   "outputs": [
    {
     "data": {
      "text/plain": [
       "Pipeline(memory=None,\n",
       "     steps=[('convert_lyrics', CountVectorizer(analyzer='word', binary=False, decode_error='strict',\n",
       "        dtype=<class 'numpy.int64'>, encoding='utf-8', input='content',\n",
       "        lowercase=True, max_df=1.0, max_features=None, min_df=1,\n",
       "        ngram_range=(1, 1), preprocessor=None, stop_words='english'...=False, use_idf=True)), ('naive_bayes', MultinomialNB(alpha=1.0, class_prior=None, fit_prior=True))])"
      ]
     },
     "execution_count": 33,
     "metadata": {},
     "output_type": "execute_result"
    }
   ],
   "source": [
    "lyrics_pipeline.fit(lyric_train, bd_train)"
   ]
  },
  {
   "cell_type": "code",
   "execution_count": 34,
   "metadata": {},
   "outputs": [],
   "source": [
    "predictions = lyrics_pipeline.predict(lyric_test)"
   ]
  },
  {
   "cell_type": "code",
   "execution_count": 35,
   "metadata": {},
   "outputs": [
    {
     "name": "stdout",
     "output_type": "stream",
     "text": [
      "             precision    recall  f1-score   support\n",
      "\n",
      "          0       0.87      0.50      0.63       200\n",
      "          1       0.62      0.92      0.74       181\n",
      "\n",
      "avg / total       0.75      0.70      0.69       381\n",
      "\n"
     ]
    }
   ],
   "source": [
    "print(metrics.classification_report(bd_test, predictions))"
   ]
  },
  {
   "cell_type": "code",
   "execution_count": 36,
   "metadata": {},
   "outputs": [
    {
     "data": {
      "text/plain": [
       "array([[100, 100],\n",
       "       [ 15, 166]])"
      ]
     },
     "execution_count": 36,
     "metadata": {},
     "output_type": "execute_result"
    }
   ],
   "source": [
    "metrics.confusion_matrix(bd_test, predictions)"
   ]
  },
  {
   "cell_type": "code",
   "execution_count": 37,
   "metadata": {},
   "outputs": [],
   "source": [
    "TN = metrics.confusion_matrix(bd_test, predictions)[0][0]\n",
    "FN = metrics.confusion_matrix(bd_test, predictions)[1][0]\n",
    "FP = metrics.confusion_matrix(bd_test, predictions)[0][1]\n",
    "TP = metrics.confusion_matrix(bd_test, predictions)[1][1]"
   ]
  },
  {
   "cell_type": "code",
   "execution_count": 38,
   "metadata": {},
   "outputs": [],
   "source": [
    "accuracy = (TN + TP) / (FP + FN + TN + TP)\n",
    "precision = TP / (TP + FP)\n",
    "recall = TP / (TP + FN)\n",
    "f1_score = 2/((1/recall) + (1/precision))"
   ]
  },
  {
   "cell_type": "code",
   "execution_count": 39,
   "metadata": {},
   "outputs": [
    {
     "name": "stdout",
     "output_type": "stream",
     "text": [
      "Accuracy: 0.6982\n",
      "Precision: 0.6241\n",
      "Recall: 0.9171\n",
      "F1-Score: 0.7427\n"
     ]
    }
   ],
   "source": [
    "print(f'''Accuracy: {accuracy:.4f}\n",
    "Precision: {precision:.4f}\n",
    "Recall: {recall:.4f}\n",
    "F1-Score: {f1_score:.4f}''')"
   ]
  },
  {
   "cell_type": "code",
   "execution_count": 40,
   "metadata": {},
   "outputs": [],
   "source": [
    "def print_classification_information(y_true, y_predict):\n",
    "    print(f'Accuracy: {metrics.accuracy_score(y_true, y_predict):.4f}')\n",
    "    print(f'Precision: {metrics.precision_score(y_true, y_predict):.4f}')\n",
    "    print(f'Recall: {metrics.recall_score(y_true, y_predict):.4f}')\n",
    "    print(f'F1-Score: {metrics.f1_score(y_true, y_predict):.4f}')"
   ]
  },
  {
   "cell_type": "code",
   "execution_count": 41,
   "metadata": {},
   "outputs": [
    {
     "name": "stdout",
     "output_type": "stream",
     "text": [
      "Accuracy: 0.6982\n",
      "Precision: 0.6241\n",
      "Recall: 0.9171\n",
      "F1-Score: 0.7427\n"
     ]
    }
   ],
   "source": [
    "print_classification_information(bd_test, predictions)"
   ]
  },
  {
   "cell_type": "code",
   "execution_count": 42,
   "metadata": {},
   "outputs": [],
   "source": [
    "def calc_vector(data):\n",
    "    return [vectorize.transform([i]) for i in data]\n",
    "\n",
    "def calc_tfidf(data):\n",
    "    return [tfidf_transformer.transform(i) for i in data]"
   ]
  },
  {
   "cell_type": "code",
   "execution_count": 43,
   "metadata": {},
   "outputs": [],
   "source": [
    "lyric_test_vector = calc_vector(lyric_test)"
   ]
  },
  {
   "cell_type": "code",
   "execution_count": 44,
   "metadata": {},
   "outputs": [],
   "source": [
    "tfidf_test_vector = calc_tfidf(lyric_test_vector)"
   ]
  },
  {
   "cell_type": "code",
   "execution_count": 45,
   "metadata": {},
   "outputs": [],
   "source": [
    "x_values = []\n",
    "\n",
    "length = len(lyric_test_vector)\n",
    "for i in range(length):\n",
    "    lyric_value = 0\n",
    "    vect = lyric_test_vector[i].data\n",
    "    tf = tfidf_test_vector[i].sorted_indices().data\n",
    "    len2 = len(vect)\n",
    "    for a, b in zip(vect.data, tf.data):\n",
    "        lyric_value += (a*b)\n",
    "    x_values.append(lyric_value)"
   ]
  },
  {
   "cell_type": "code",
   "execution_count": 46,
   "metadata": {},
   "outputs": [
    {
     "data": {
      "text/plain": [
       "(381,)"
      ]
     },
     "execution_count": 46,
     "metadata": {},
     "output_type": "execute_result"
    }
   ],
   "source": [
    "np.array(x_values).shape"
   ]
  },
  {
   "cell_type": "code",
   "execution_count": 47,
   "metadata": {},
   "outputs": [],
   "source": [
    "d = {'x_values': x_values, 'bd_test': bd_test.values, 'bd_predictions': predictions}"
   ]
  },
  {
   "cell_type": "code",
   "execution_count": 48,
   "metadata": {},
   "outputs": [],
   "source": [
    "plot_df = pd.DataFrame(data=d)"
   ]
  },
  {
   "cell_type": "code",
   "execution_count": 49,
   "metadata": {},
   "outputs": [],
   "source": [
    "plot_df['correct'] = plot_df['bd_test'] == plot_df['bd_predictions']\n",
    "plot_df['TP'] = (plot_df['bd_test'] == 1) & (plot_df['bd_predictions'] == 1)\n",
    "plot_df['TN'] = (plot_df['bd_test'] == 0) & (plot_df['bd_predictions'] == 0)\n",
    "plot_df['FP'] = (plot_df['bd_test'] == 0) & (plot_df['bd_predictions'] == 1)\n",
    "plot_df['FN'] = (plot_df['bd_test'] == 1) & (plot_df['bd_predictions'] == 0)"
   ]
  },
  {
   "cell_type": "code",
   "execution_count": 50,
   "metadata": {},
   "outputs": [
    {
     "data": {
      "text/plain": [
       "x_values          6902.538739\n",
       "bd_test            181.000000\n",
       "bd_predictions     266.000000\n",
       "correct            266.000000\n",
       "TP                 166.000000\n",
       "TN                 100.000000\n",
       "FP                 100.000000\n",
       "FN                  15.000000\n",
       "dtype: float64"
      ]
     },
     "execution_count": 50,
     "metadata": {},
     "output_type": "execute_result"
    }
   ],
   "source": [
    "plot_df.sum()"
   ]
  },
  {
   "cell_type": "code",
   "execution_count": 51,
   "metadata": {},
   "outputs": [
    {
     "data": {
      "image/png": "[encoded data removed]",
      "text/plain": [
       "<Figure size 1080x360 with 1 Axes>"
      ]
     },
     "metadata": {},
     "output_type": "display_data"
    }
   ],
   "source": [
    "plt.figure(figsize=(15,5))\n",
    "plt.ylim(ymax=1.1, ymin=(-.1))\n",
    "plt.scatter(plot_df[plot_df['TP'] == True]['x_values'],plot_df[plot_df['TP'] == True]['bd_predictions'], alpha=0.8, label=f\"TP: {plot_df['TP'].sum()}\", edgecolors='black')\n",
    "plt.scatter(plot_df[plot_df['TN'] == True]['x_values'],plot_df[plot_df['TN'] == True]['bd_predictions'], alpha=0.8, label=f\"TN: {plot_df['TN'].sum()}\", edgecolors='black')\n",
    "plt.scatter(plot_df[plot_df['FP'] == True]['x_values'],plot_df[plot_df['FP'] == True]['bd_predictions'], alpha=0.8, marker='x', label=f\"FP: {plot_df['FP'].sum()}\", s=100, edgecolors='black', vmin=0, vmax=1)\n",
    "plt.scatter(plot_df[plot_df['FN'] == True]['x_values'],plot_df[plot_df['FN'] == True]['bd_predictions'], alpha=0.8, marker='x', label=f\"FN: {plot_df['FN'].sum()}\", s=100, edgecolors='black', vmin=0, vmax=1)\n",
    "# plt.xlim(0,60)\n",
    "plt.legend();"
   ]
  },
  {
   "cell_type": "code",
   "execution_count": 52,
   "metadata": {},
   "outputs": [
    {
     "data": {
      "image/png": "[encoded data removed]",
      "text/plain": [
       "<Figure size 1080x360 with 1 Axes>"
      ]
     },
     "metadata": {},
     "output_type": "display_data"
    }
   ],
   "source": [
    "plt.figure(figsize=(15,5))\n",
    "plt.ylim(ymax=1.1, ymin=(-.1))\n",
    "plt.scatter(plot_df[plot_df['correct'] == False]['x_values'],plot_df[plot_df['correct'] == False]['bd_predictions']-.02, alpha=0.8, marker='x', label='Incorrect', edgecolors='black', vmin=0, vmax=1)\n",
    "plt.scatter(plot_df[plot_df['correct'] == True]['x_values'],plot_df[plot_df['correct'] == True]['bd_predictions']+.02, alpha=0.8, label='Correct', s=60, edgecolors='black')\n",
    "plt.xlim(0,60)\n",
    "plt.legend();"
   ]
  },
  {
   "cell_type": "code",
   "execution_count": 53,
   "metadata": {},
   "outputs": [
    {
     "data": {
      "text/plain": [
       "True     266\n",
       "False    115\n",
       "Name: correct, dtype: int64"
      ]
     },
     "execution_count": 53,
     "metadata": {},
     "output_type": "execute_result"
    }
   ],
   "source": [
    "plot_df['correct'].value_counts()"
   ]
  },
  {
   "cell_type": "code",
   "execution_count": 54,
   "metadata": {},
   "outputs": [
    {
     "data": {
      "text/plain": [
       "0    200\n",
       "1    181\n",
       "Name: bd_test, dtype: int64"
      ]
     },
     "execution_count": 54,
     "metadata": {},
     "output_type": "execute_result"
    }
   ],
   "source": [
    "plot_df['bd_test'].value_counts()"
   ]
  },
  {
   "cell_type": "code",
   "execution_count": 55,
   "metadata": {},
   "outputs": [
    {
     "data": {
      "text/plain": [
       "1    266\n",
       "0    115\n",
       "Name: bd_predictions, dtype: int64"
      ]
     },
     "execution_count": 55,
     "metadata": {},
     "output_type": "execute_result"
    }
   ],
   "source": [
    "plot_df['bd_predictions'].value_counts()"
   ]
  },
  {
   "cell_type": "code",
   "execution_count": null,
   "metadata": {},
   "outputs": [],
   "source": []
  }
 ],
 "metadata": {
  "kernelspec": {
   "display_name": "Python 3",
   "language": "python",
   "name": "python3"
  },
  "language_info": {
   "codemirror_mode": {
    "name": "ipython",
    "version": 3
   },
   "file_extension": ".py",
   "mimetype": "text/x-python",
   "name": "python",
   "nbconvert_exporter": "python",
   "pygments_lexer": "ipython3",
   "version": "3.6.5"
  }
 },
 "nbformat": 4,
 "nbformat_minor": 2
}
