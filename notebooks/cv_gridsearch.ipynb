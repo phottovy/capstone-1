{
 "cells": [
  {
   "cell_type": "code",
   "execution_count": 1,
   "metadata": {},
   "outputs": [
    {
     "name": "stdout",
     "output_type": "stream",
     "text": [
      "/Users/phottovy/galvanize/04_Capstone_1/song_lyric_classifier/src\n"
     ]
    }
   ],
   "source": [
    "cd ../src"
   ]
  },
  {
   "cell_type": "code",
   "execution_count": 2,
   "metadata": {},
   "outputs": [],
   "source": [
    "import numpy as np\n",
    "import pandas as pd\n",
    "import matplotlib.pyplot as plt\n",
    "import string\n",
    "from sklearn.model_selection import train_test_split, KFold, GridSearchCV\n",
    "from sklearn.feature_extraction.stop_words import ENGLISH_STOP_WORDS\n",
    "from sklearn.pipeline import Pipeline\n",
    "from sklearn.feature_extraction.text import CountVectorizer, TfidfTransformer\n",
    "from sklearn.naive_bayes import MultinomialNB\n",
    "from sklearn import metrics\n",
    "from nltk.stem.porter import PorterStemmer\n",
    "from nltk.stem.snowball import SnowballStemmer\n",
    "from nltk.stem.wordnet import WordNetLemmatizer\n",
    "import itertools\n",
    "from tabulate import tabulate"
   ]
  },
  {
   "cell_type": "code",
   "execution_count": 3,
   "metadata": {},
   "outputs": [],
   "source": [
    "from add_stop_words import add_stop_words, nltk_s_words\n",
    "from main import get_data, set_pipeline, make_predictions, data_test_train_split, combine_stopwords"
   ]
  },
  {
   "cell_type": "code",
   "execution_count": 4,
   "metadata": {},
   "outputs": [],
   "source": [
    "plt.style.use('seaborn-darkgrid')\n",
    "plt.rcParams[\"patch.force_edgecolor\"] = True"
   ]
  },
  {
   "cell_type": "code",
   "execution_count": 5,
   "metadata": {},
   "outputs": [],
   "source": [
    "porter = PorterStemmer()\n",
    "snowball = SnowballStemmer('english')\n",
    "wordnet = WordNetLemmatizer()\n",
    "sksw = ENGLISH_STOP_WORDS\n",
    "nltksw = nltk_s_words()\n",
    "addsw = add_stop_words()\n",
    "allsw = combine_stopwords"
   ]
  },
  {
   "cell_type": "code",
   "execution_count": 6,
   "metadata": {},
   "outputs": [],
   "source": [
    "def clean_full_dataset(dataset, stopwords=sksw, lemm=None, stem=None):\n",
    "    clean_dataset = dataset.copy()\n",
    "    clean_dataset['Lyrics'] = clean_strip_lyrics(\n",
    "        clean_dataset['Lyrics'], stopwords, lemm, stem)\n",
    "    clean_lyrics = clean_dataset['Lyrics']\n",
    "    return clean_dataset, clean_lyrics"
   ]
  },
  {
   "cell_type": "code",
   "execution_count": 7,
   "metadata": {},
   "outputs": [],
   "source": [
    "def clean_strip_lyrics(dataset, stopwords=sksw, lemm=None, stem=None):\n",
    "    '''\n",
    "    Strip punctuation and cleans the word list\n",
    "\n",
    "    Steps\n",
    "    -----\n",
    "    1. remove punctuation\n",
    "    2. remove stopwords from provided dictionary, default sksw list\n",
    "        allsw for a combination of three sets of stopwords\n",
    "    3. stem word list, default None\n",
    "    4. lemmatize word list, default None\n",
    "    5. return list of clean word list from lyrics\n",
    "\n",
    "    Parameters\n",
    "    ----------\n",
    "    lyrics: string of lyrics to be cleaned\n",
    "    stopwords: dictionary of stopwords to exclude from model, default sksw from sklearn\n",
    "    '''\n",
    "    rm_punct = [''.join(\n",
    "        [char for char in word if char not in string.punctuation]) for word in dataset]\n",
    "    rm_stop = [[word.lower() for word in words.split()if word.lower()\n",
    "                not in stopwords] for words in rm_punct]\n",
    "    if lemm == wordnet:\n",
    "        rm_lemm = [[wordnet.lemmatize(word)\n",
    "                    for word in words] for words in rm_stop]\n",
    "    else:\n",
    "        rm_lemm = rm_stop\n",
    "    if stem == porter:\n",
    "        rm_stem = [[porter.stem(word) for word in words] for words in rm_lemm]\n",
    "    elif stem == snowball:\n",
    "        rm_stem = [[snowball.stem(word) for word in words]\n",
    "                   for words in rm_lemm]\n",
    "    else:\n",
    "        rm_stem = rm_lemm\n",
    "    clean_lyrics = [' '.join([word for word in words]) for words in rm_stem]\n",
    "    return pd.Series(clean_lyrics)"
   ]
  },
  {
   "cell_type": "code",
   "execution_count": 8,
   "metadata": {},
   "outputs": [],
   "source": [
    "full_dataset = get_data()\n",
    "clean_dataset, clean_lyrics = clean_full_dataset(\n",
    "    full_dataset, stopwords=sksw, lemm=None, stem=None)\n",
    "X_train, X_test, y_train, y_test = data_test_train_split(clean_dataset)\n",
    "X = clean_dataset['Lyrics']\n",
    "y = clean_dataset['Test_Artist']"
   ]
  },
  {
   "cell_type": "code",
   "execution_count": 9,
   "metadata": {},
   "outputs": [],
   "source": [
    "def confusion_matrix_plot_cv(tn, fp, fn, tp, save_fig=False, cmap=plt.cm.Blues):\n",
    "    '''\n",
    "    This function prints and plots the confusion matrix.\n",
    "    '''\n",
    "    cm = np.array([[tp, fn], [fp, tn]])\n",
    "    classes = ['True', 'False']\n",
    "    plt.figure(figsize=(4, 4))\n",
    "    plt.imshow(cm, interpolation='nearest', cmap=cmap)\n",
    "    plt.grid(b=None)\n",
    "    plt.title('Confusion Matrix', fontsize=20)\n",
    "    tick_marks = np.arange(len(classes))\n",
    "    plt.xticks(tick_marks, classes, rotation=45)\n",
    "    plt.yticks(tick_marks, classes)\n",
    "    fmt = 'd'\n",
    "    thresh = cm.max() / 2.\n",
    "    for i, j in itertools.product(range(cm.shape[0]), range(cm.shape[1])):\n",
    "        plt.text(j, i, format(cm[i, j], fmt),\n",
    "                 horizontalalignment=\"center\",\n",
    "                 color=\"white\" if cm[i, j] > thresh else \"black\")\n",
    "    plt.ylabel('True label', fontsize=12)\n",
    "    plt.xlabel('Predicted label', fontsize=12)\n",
    "    if save_fig:\n",
    "        plt.savefig('confusion_matrix.png')\n",
    "    plt.show()"
   ]
  },
  {
   "cell_type": "code",
   "execution_count": 10,
   "metadata": {},
   "outputs": [],
   "source": [
    "def my_cross_val_score(dataset, num_folds=3, stopwords=sksw, lemm=None, stem=None, max_feats=None):\n",
    "    ''' Returns error for k-fold cross validation. '''\n",
    "    clean_dataset, clean_lyrics = clean_full_dataset(\n",
    "        dataset, stopwords, lemm, stem)\n",
    "    X = clean_dataset['Lyrics']\n",
    "    y = clean_dataset['Test_Artist']\n",
    "\n",
    "    kf = KFold(n_splits=num_folds, shuffle=True)\n",
    "    acc_cv = np.empty(num_folds)\n",
    "    pre_cv = np.empty(num_folds)\n",
    "    rec_cv = np.empty(num_folds)\n",
    "    f1_cv = np.empty(num_folds)\n",
    "    tn, fp, fn, tp = 0, 0, 0, 0\n",
    "    index = 0\n",
    "    for train_index, test_index in kf.split(X):\n",
    "        X_train, X_test = X[train_index], X[test_index]\n",
    "        y_train, y_test = y[train_index], y[test_index]\n",
    "        lyrics_pipeline = set_pipeline(X_train, y_train, max_feats)\n",
    "        y_predict = make_predictions(lyrics_pipeline, X_test)\n",
    "        y_probs = lyrics_pipeline.predict_proba(X_test)[:, 1]\n",
    "        acc_cv[index] = metrics.accuracy_score(y_test, y_predict)\n",
    "        pre_cv[index] = metrics.precision_score(y_test, y_predict)\n",
    "        rec_cv[index] = metrics.recall_score(y_test, y_predict)\n",
    "        f1_cv[index] = metrics.f1_score(y_test, y_predict)\n",
    "        tn += metrics.confusion_matrix(y_test, y_predict).ravel()[0]\n",
    "        fp += metrics.confusion_matrix(y_test, y_predict).ravel()[1]\n",
    "        fn += metrics.confusion_matrix(y_test, y_predict).ravel()[2]\n",
    "        tp += metrics.confusion_matrix(y_test, y_predict).ravel()[3]\n",
    "        index += 1\n",
    "    cols = ['Statistic', 'Result']\n",
    "    acc = ['Accuracy', '{:.4f}'.format(np.mean(acc_cv))]\n",
    "    pre = ['Precision', '{:.4f}'.format(np.mean(pre_cv))]\n",
    "    rec = ['Recall', '{:.4f}'.format(np.mean(rec_cv))]\n",
    "    f1 = ['F1-Score', '{:.4f}'.format(np.mean(f1_cv))]\n",
    "    print('Classification Statistics:\\n')\n",
    "    print(tabulate([cols, acc, pre, rec, f1],\n",
    "                   headers='firstrow', tablefmt='pipe'))\n",
    "    print(np.array([[tp, fn], [fp, tn]]))\n",
    "    confusion_matrix_plot_cv(tn, fp, fn, tp)"
   ]
  },
  {
   "cell_type": "code",
   "execution_count": 11,
   "metadata": {},
   "outputs": [],
   "source": [
    "def cv_scores(max_splits=10, stopwords=sksw, lemm=None, stem=None, max_feats=None):\n",
    "    cv_range = range(2, max_splits+1)\n",
    "\n",
    "    for num in cv_range:\n",
    "        print(f'# of splits: {num}\\n')\n",
    "        my_cross_val_score(full_dataset, num, stopwords, lemm, stem, max_feats)"
   ]
  },
  {
   "cell_type": "code",
   "execution_count": 12,
   "metadata": {
    "scrolled": false
   },
   "outputs": [
    {
     "name": "stdout",
     "output_type": "stream",
     "text": [
      "# of splits: 2\n",
      "\n",
      "Classification Statistics:\n",
      "\n",
      "| Statistic   |   Result |\n",
      "|:------------|---------:|\n",
      "| Accuracy    |   0.6686 |\n",
      "| Precision   |   0.6514 |\n",
      "| Recall      |   0.8554 |\n",
      "| F1-Score    |   0.7228 |\n",
      "[[524  93]\n",
      " [316 301]]\n"
     ]
    },
    {
     "data": {
      "image/png": "[encoded data removed]",
      "text/plain": [
       "<Figure size 288x288 with 1 Axes>"
      ]
     },
     "metadata": {},
     "output_type": "display_data"
    },
    {
     "name": "stdout",
     "output_type": "stream",
     "text": [
      "# of splits: 3\n",
      "\n",
      "Classification Statistics:\n",
      "\n",
      "| Statistic   |   Result |\n",
      "|:------------|---------:|\n",
      "| Accuracy    |   0.6912 |\n",
      "| Precision   |   0.636  |\n",
      "| Recall      |   0.8961 |\n",
      "| F1-Score    |   0.7435 |\n",
      "[[553  64]\n",
      " [317 300]]\n"
     ]
    },
    {
     "data": {
      "image/png": "[encoded data removed]",
      "text/plain": [
       "<Figure size 288x288 with 1 Axes>"
      ]
     },
     "metadata": {},
     "output_type": "display_data"
    },
    {
     "name": "stdout",
     "output_type": "stream",
     "text": [
      "# of splits: 4\n",
      "\n",
      "Classification Statistics:\n",
      "\n",
      "| Statistic   |   Result |\n",
      "|:------------|---------:|\n",
      "| Accuracy    |   0.7034 |\n",
      "| Precision   |   0.6428 |\n",
      "| Recall      |   0.9211 |\n",
      "| F1-Score    |   0.7563 |\n",
      "[[568  49]\n",
      " [317 300]]\n"
     ]
    },
    {
     "data": {
      "image/png": "[encoded data removed]",
      "text/plain": [
       "<Figure size 288x288 with 1 Axes>"
      ]
     },
     "metadata": {},
     "output_type": "display_data"
    },
    {
     "name": "stdout",
     "output_type": "stream",
     "text": [
      "# of splits: 5\n",
      "\n",
      "Classification Statistics:\n",
      "\n",
      "| Statistic   |   Result |\n",
      "|:------------|---------:|\n",
      "| Accuracy    |   0.6969 |\n",
      "| Precision   |   0.6402 |\n",
      "| Recall      |   0.9032 |\n",
      "| F1-Score    |   0.7487 |\n",
      "[[557  60]\n",
      " [314 303]]\n"
     ]
    },
    {
     "data": {
      "image/png": "[encoded data removed]",
      "text/plain": [
       "<Figure size 288x288 with 1 Axes>"
      ]
     },
     "metadata": {},
     "output_type": "display_data"
    },
    {
     "name": "stdout",
     "output_type": "stream",
     "text": [
      "# of splits: 6\n",
      "\n",
      "Classification Statistics:\n",
      "\n",
      "| Statistic   |   Result |\n",
      "|:------------|---------:|\n",
      "| Accuracy    |   0.6921 |\n",
      "| Precision   |   0.6346 |\n",
      "| Recall      |   0.9061 |\n",
      "| F1-Score    |   0.746  |\n",
      "[[559  58]\n",
      " [322 295]]\n"
     ]
    },
    {
     "data": {
      "image/png": "[encoded data removed]",
      "text/plain": [
       "<Figure size 288x288 with 1 Axes>"
      ]
     },
     "metadata": {},
     "output_type": "display_data"
    }
   ],
   "source": [
    "cv_scores(6)"
   ]
  },
  {
   "cell_type": "code",
   "execution_count": 13,
   "metadata": {
    "scrolled": false
   },
   "outputs": [
    {
     "name": "stdout",
     "output_type": "stream",
     "text": [
      "# of splits: 2\n",
      "\n",
      "Classification Statistics:\n",
      "\n",
      "| Statistic   |   Result |\n",
      "|:------------|---------:|\n",
      "| Accuracy    |   0.6977 |\n",
      "| Precision   |   0.6428 |\n",
      "| Recall      |   0.8952 |\n",
      "| F1-Score    |   0.7476 |\n",
      "[[552  65]\n",
      " [308 309]]\n"
     ]
    },
    {
     "data": {
      "image/png": "[encoded data removed]",
      "text/plain": [
       "<Figure size 288x288 with 1 Axes>"
      ]
     },
     "metadata": {},
     "output_type": "display_data"
    },
    {
     "name": "stdout",
     "output_type": "stream",
     "text": [
      "# of splits: 3\n",
      "\n",
      "Classification Statistics:\n",
      "\n",
      "| Statistic   |   Result |\n",
      "|:------------|---------:|\n",
      "| Accuracy    |   0.6978 |\n",
      "| Precision   |   0.6461 |\n",
      "| Recall      |   0.8978 |\n",
      "| F1-Score    |   0.7485 |\n",
      "[[553  64]\n",
      " [309 308]]\n"
     ]
    },
    {
     "data": {
      "image/png": "[encoded data removed]",
      "text/plain": [
       "<Figure size 288x288 with 1 Axes>"
      ]
     },
     "metadata": {},
     "output_type": "display_data"
    },
    {
     "name": "stdout",
     "output_type": "stream",
     "text": [
      "# of splits: 4\n",
      "\n",
      "Classification Statistics:\n",
      "\n",
      "| Statistic   |   Result |\n",
      "|:------------|---------:|\n",
      "| Accuracy    |   0.701  |\n",
      "| Precision   |   0.647  |\n",
      "| Recall      |   0.8867 |\n",
      "| F1-Score    |   0.7477 |\n",
      "[[547  70]\n",
      " [299 318]]\n"
     ]
    },
    {
     "data": {
      "image/png": "[encoded data removed]",
      "text/plain": [
       "<Figure size 288x288 with 1 Axes>"
      ]
     },
     "metadata": {},
     "output_type": "display_data"
    },
    {
     "name": "stdout",
     "output_type": "stream",
     "text": [
      "# of splits: 5\n",
      "\n",
      "Classification Statistics:\n",
      "\n",
      "| Statistic   |   Result |\n",
      "|:------------|---------:|\n",
      "| Accuracy    |   0.718  |\n",
      "| Precision   |   0.6618 |\n",
      "| Recall      |   0.8947 |\n",
      "| F1-Score    |   0.7599 |\n",
      "[[551  66]\n",
      " [282 335]]\n"
     ]
    },
    {
     "data": {
      "image/png": "[encoded data removed]",
      "text/plain": [
       "<Figure size 288x288 with 1 Axes>"
      ]
     },
     "metadata": {},
     "output_type": "display_data"
    },
    {
     "name": "stdout",
     "output_type": "stream",
     "text": [
      "# of splits: 6\n",
      "\n",
      "Classification Statistics:\n",
      "\n",
      "| Statistic   |   Result |\n",
      "|:------------|---------:|\n",
      "| Accuracy    |   0.7147 |\n",
      "| Precision   |   0.6613 |\n",
      "| Recall      |   0.8871 |\n",
      "| F1-Score    |   0.7561 |\n",
      "[[547  70]\n",
      " [282 335]]\n"
     ]
    },
    {
     "data": {
      "image/png": "[encoded data removed]",
      "text/plain": [
       "<Figure size 288x288 with 1 Axes>"
      ]
     },
     "metadata": {},
     "output_type": "display_data"
    }
   ],
   "source": [
    "cv_scores(6, stopwords=nltksw, lemm=wordnet, stem=None, max_feats=5000)"
   ]
  },
  {
   "cell_type": "code",
   "execution_count": 15,
   "metadata": {},
   "outputs": [],
   "source": [
    "def gridsearch_with_output(estimator, parameter_grid, X, y):\n",
    "    '''\n",
    "        Parameters: estimator: the type of model (e.g. RandomForestRegressor())\n",
    "                    paramter_grid: dictionary defining the gridsearch parameters\n",
    "                    X_train: 2d numpy array\n",
    "                    y_train: 1d numpy array\n",
    "\n",
    "        Returns:  best parameters and model fit with those parameters\n",
    "    '''\n",
    "    model_gridsearch = GridSearchCV(estimator,\n",
    "                                    parameter_grid,\n",
    "                                    n_jobs=-1,\n",
    "                                    verbose=True,\n",
    "                                    refit=True,\n",
    "                                    cv=4,\n",
    "                                    scoring='f1')  # ['f1', 'precision', 'recall', 'accuracy'])\n",
    "    model_gridsearch.fit(X, y)\n",
    "    best_params = model_gridsearch.best_params_\n",
    "    model_best = model_gridsearch.best_estimator_\n",
    "    print(\"\\nResult of gridsearch:\")\n",
    "    print(\"{0:<20s} | {1:<8s} | {2}\".format(\n",
    "        \"Parameter\", \"Optimal\", \"Gridsearch values\"))\n",
    "    print(\"-\" * 55)\n",
    "    for param, vals in parameter_grid.items():\n",
    "        print(\"{0:<20s} | {1:<8s} | {2}\".format(str(param),\n",
    "                                                str(best_params[param]),\n",
    "                                                str(vals)))\n",
    "    return best_params, model_best"
   ]
  },
  {
   "cell_type": "code",
   "execution_count": 16,
   "metadata": {},
   "outputs": [],
   "source": [
    "def display_default_and_gsearch_model_results(model_default, model_gridsearch,\n",
    "                                              X_test, y_test):\n",
    "    '''\n",
    "        Parameters: model_default: fit model using initial parameters\n",
    "                    model_gridsearch: fit model using parameters from gridsearch\n",
    "                    X_test: 2d numpy array\n",
    "                    y_test: 1d numpy array\n",
    "        Return: None, but prints out mse and r2 for the default and model with\n",
    "                gridsearched parameters\n",
    "    '''\n",
    "    name = model_default.__class__.__name__.replace(\n",
    "        'Regressor', '')  # for printing\n",
    "    y_test_pred = model_gridsearch.predict(X_test)\n",
    "    acc = metrics.accuracy_score(y_test, y_test_pred)\n",
    "    pre = metrics.precision_score(y_test, y_test_pred)\n",
    "    rec = metrics.recall_score(y_test, y_test_pred)\n",
    "    f1 = metrics.f1_score(y_test, y_test_pred)\n",
    "#     print(\"Results for {0}\".format(name))\n",
    "    print(\"Gridsearched model acc: {:0.3f} | pre: {:0.3f} | rec = {:0.3f} | f1 = {:0.3f}\".format(\n",
    "        acc, pre, rec, f1))\n",
    "    y_test_pred = model_default.predict(X_test)\n",
    "    acc = metrics.accuracy_score(y_test, y_test_pred)\n",
    "    pre = metrics.precision_score(y_test, y_test_pred)\n",
    "    rec = metrics.recall_score(y_test, y_test_pred)\n",
    "    f1 = metrics.f1_score(y_test, y_test_pred)\n",
    "    print(\"     Default model acc: {:0.3f} | pre: {:0.3f} | rec = {:0.3f} | f1 = {:0.3f}\".format(\n",
    "        acc, pre, rec, f1))"
   ]
  },
  {
   "cell_type": "code",
   "execution_count": 17,
   "metadata": {},
   "outputs": [],
   "source": [
    "feats_grid = {'convert_lyrics__max_features': [\n",
    "    None, 50, 100, 500, 1000, 5000, 10000, 12000]}"
   ]
  },
  {
   "cell_type": "code",
   "execution_count": 18,
   "metadata": {},
   "outputs": [],
   "source": [
    "cv_pipeline = Pipeline([\n",
    "    ('convert_lyrics', CountVectorizer()),\n",
    "    ('tf-idf', TfidfTransformer()),\n",
    "    ('naive_bayes', MultinomialNB())\n",
    "])"
   ]
  },
  {
   "cell_type": "code",
   "execution_count": 19,
   "metadata": {},
   "outputs": [],
   "source": [
    "full_nb_grid = {'stopwords': ['sksw', 'nltksw', 'addsw', 'allsw', 'sw_none'],\n",
    "                'lemm': [None, 'wordnet'],\n",
    "                'stem': [None, 'snowball', 'porter']}"
   ]
  },
  {
   "cell_type": "code",
   "execution_count": 20,
   "metadata": {},
   "outputs": [],
   "source": [
    "combs = itertools.product(*(full_nb_grid[Name] for Name in full_nb_grid))\n",
    "\n",
    "\n",
    "def print_combs(data=combs):\n",
    "    return ['{}, {}, {}'.format(item[0], item[1], item[2]) for item in data]\n",
    "\n",
    "\n",
    "combs_list = print_combs()"
   ]
  },
  {
   "cell_type": "code",
   "execution_count": 21,
   "metadata": {},
   "outputs": [],
   "source": [
    "combs_dict = {'None': None, 'sksw': sksw, 'nltksw': nltksw, 'addsw': addsw, \n",
    "              'allsw': allsw(),'sw_none': [], 'wordnet': wordnet, \n",
    "              'snowball': snowball, 'porter': porter}"
   ]
  },
  {
   "cell_type": "code",
   "execution_count": 22,
   "metadata": {},
   "outputs": [],
   "source": [
    "def lyrics_gridsearch(full_dataset, feature_list=combs_list):\n",
    "    for item in feature_list:\n",
    "        sw = combs_dict[item.split(', ')[0]]\n",
    "        lm = combs_dict[item.split(', ')[1]]\n",
    "        stm = combs_dict[item.split(', ')[2]]\n",
    "\n",
    "        clean_dataset, clean_lyrics = clean_full_dataset(\n",
    "            full_dataset, sw, lm, stm)\n",
    "        X = clean_lyrics\n",
    "        y = clean_dataset['Test_Artist']\n",
    "\n",
    "        nb_best_params, nb_best_model = gridsearch_with_output(cv_pipeline,\n",
    "                                                               feats_grid,\n",
    "                                                               X, y)\n",
    "        print(\"\\nComparing model with gridsearch params to initial model on Test set.\\n\")\n",
    "        print(\n",
    "            f\"Stopwords: {item.split(', ')[0]}, Lemm: {item.split(', ')[1]}, Stem: {item.split(', ')[2]}\\n\")\n",
    "        lyrics_pipeline = set_pipeline(X, y)\n",
    "        display_default_and_gsearch_model_results(\n",
    "            lyrics_pipeline, nb_best_model, X, y)\n",
    "        print('-------------------------------------------------------\\n')"
   ]
  },
  {
   "cell_type": "code",
   "execution_count": 23,
   "metadata": {
    "scrolled": false
   },
   "outputs": [
    {
     "name": "stdout",
     "output_type": "stream",
     "text": [
      "Fitting 4 folds for each of 8 candidates, totalling 32 fits\n"
     ]
    },
    {
     "name": "stderr",
     "output_type": "stream",
     "text": [
      "[Parallel(n_jobs=-1)]: Done  32 out of  32 | elapsed:   18.8s finished\n"
     ]
    },
    {
     "name": "stdout",
     "output_type": "stream",
     "text": [
      "\n",
      "Result of gridsearch:\n",
      "Parameter            | Optimal  | Gridsearch values\n",
      "-------------------------------------------------------\n",
      "convert_lyrics__max_features | 12000    | [None, 50, 100, 500, 1000, 5000, 10000, 12000]\n",
      "\n",
      "Comparing model with gridsearch params to initial model on Test set.\n",
      "\n",
      "Stopwords: sksw, Lemm: None, Stem: None\n",
      "\n",
      "Gridsearched model acc: 0.910 | pre: 0.860 | rec = 0.979 | f1 = 0.916\n",
      "     Default model acc: 0.910 | pre: 0.858 | rec = 0.982 | f1 = 0.916\n",
      "-------------------------------------------------------\n",
      "\n",
      "Fitting 4 folds for each of 8 candidates, totalling 32 fits\n"
     ]
    },
    {
     "name": "stderr",
     "output_type": "stream",
     "text": [
      "[Parallel(n_jobs=-1)]: Done  32 out of  32 | elapsed:   12.4s finished\n"
     ]
    },
    {
     "name": "stdout",
     "output_type": "stream",
     "text": [
      "\n",
      "Result of gridsearch:\n",
      "Parameter            | Optimal  | Gridsearch values\n",
      "-------------------------------------------------------\n",
      "convert_lyrics__max_features | 500      | [None, 50, 100, 500, 1000, 5000, 10000, 12000]\n",
      "\n",
      "Comparing model with gridsearch params to initial model on Test set.\n",
      "\n",
      "Stopwords: sksw, Lemm: None, Stem: snowball\n",
      "\n",
      "Gridsearched model acc: 0.823 | pre: 0.786 | rec = 0.888 | f1 = 0.834\n",
      "     Default model acc: 0.870 | pre: 0.803 | rec = 0.981 | f1 = 0.883\n",
      "-------------------------------------------------------\n",
      "\n",
      "Fitting 4 folds for each of 8 candidates, totalling 32 fits\n"
     ]
    },
    {
     "name": "stderr",
     "output_type": "stream",
     "text": [
      "[Parallel(n_jobs=-1)]: Done  32 out of  32 | elapsed:    9.8s finished\n"
     ]
    },
    {
     "name": "stdout",
     "output_type": "stream",
     "text": [
      "\n",
      "Result of gridsearch:\n",
      "Parameter            | Optimal  | Gridsearch values\n",
      "-------------------------------------------------------\n",
      "convert_lyrics__max_features | 500      | [None, 50, 100, 500, 1000, 5000, 10000, 12000]\n",
      "\n",
      "Comparing model with gridsearch params to initial model on Test set.\n",
      "\n",
      "Stopwords: sksw, Lemm: None, Stem: porter\n",
      "\n",
      "Gridsearched model acc: 0.825 | pre: 0.785 | rec = 0.895 | f1 = 0.836\n",
      "     Default model acc: 0.872 | pre: 0.805 | rec = 0.982 | f1 = 0.885\n",
      "-------------------------------------------------------\n",
      "\n",
      "Fitting 4 folds for each of 8 candidates, totalling 32 fits\n"
     ]
    },
    {
     "name": "stderr",
     "output_type": "stream",
     "text": [
      "[Parallel(n_jobs=-1)]: Done  32 out of  32 | elapsed:   11.9s finished\n"
     ]
    },
    {
     "name": "stdout",
     "output_type": "stream",
     "text": [
      "\n",
      "Result of gridsearch:\n",
      "Parameter            | Optimal  | Gridsearch values\n",
      "-------------------------------------------------------\n",
      "convert_lyrics__max_features | 500      | [None, 50, 100, 500, 1000, 5000, 10000, 12000]\n",
      "\n",
      "Comparing model with gridsearch params to initial model on Test set.\n",
      "\n",
      "Stopwords: sksw, Lemm: wordnet, Stem: None\n",
      "\n",
      "Gridsearched model acc: 0.824 | pre: 0.783 | rec = 0.896 | f1 = 0.836\n",
      "     Default model acc: 0.886 | pre: 0.824 | rec = 0.981 | f1 = 0.896\n",
      "-------------------------------------------------------\n",
      "\n",
      "Fitting 4 folds for each of 8 candidates, totalling 32 fits\n"
     ]
    },
    {
     "name": "stderr",
     "output_type": "stream",
     "text": [
      "[Parallel(n_jobs=-1)]: Done  32 out of  32 | elapsed:    9.7s finished\n"
     ]
    },
    {
     "name": "stdout",
     "output_type": "stream",
     "text": [
      "\n",
      "Result of gridsearch:\n",
      "Parameter            | Optimal  | Gridsearch values\n",
      "-------------------------------------------------------\n",
      "convert_lyrics__max_features | 500      | [None, 50, 100, 500, 1000, 5000, 10000, 12000]\n",
      "\n",
      "Comparing model with gridsearch params to initial model on Test set.\n",
      "\n",
      "Stopwords: sksw, Lemm: wordnet, Stem: snowball\n",
      "\n",
      "Gridsearched model acc: 0.824 | pre: 0.789 | rec = 0.885 | f1 = 0.834\n",
      "     Default model acc: 0.870 | pre: 0.803 | rec = 0.982 | f1 = 0.883\n",
      "-------------------------------------------------------\n",
      "\n",
      "Fitting 4 folds for each of 8 candidates, totalling 32 fits\n"
     ]
    },
    {
     "name": "stderr",
     "output_type": "stream",
     "text": [
      "[Parallel(n_jobs=-1)]: Done  32 out of  32 | elapsed:   14.7s finished\n"
     ]
    },
    {
     "name": "stdout",
     "output_type": "stream",
     "text": [
      "\n",
      "Result of gridsearch:\n",
      "Parameter            | Optimal  | Gridsearch values\n",
      "-------------------------------------------------------\n",
      "convert_lyrics__max_features | 500      | [None, 50, 100, 500, 1000, 5000, 10000, 12000]\n",
      "\n",
      "Comparing model with gridsearch params to initial model on Test set.\n",
      "\n",
      "Stopwords: sksw, Lemm: wordnet, Stem: porter\n",
      "\n",
      "Gridsearched model acc: 0.826 | pre: 0.788 | rec = 0.891 | f1 = 0.837\n",
      "     Default model acc: 0.873 | pre: 0.805 | rec = 0.984 | f1 = 0.885\n",
      "-------------------------------------------------------\n",
      "\n",
      "Fitting 4 folds for each of 8 candidates, totalling 32 fits\n"
     ]
    },
    {
     "name": "stderr",
     "output_type": "stream",
     "text": [
      "[Parallel(n_jobs=-1)]: Done  32 out of  32 | elapsed:   10.3s finished\n"
     ]
    },
    {
     "name": "stdout",
     "output_type": "stream",
     "text": [
      "\n",
      "Result of gridsearch:\n",
      "Parameter            | Optimal  | Gridsearch values\n",
      "-------------------------------------------------------\n",
      "convert_lyrics__max_features | 1000     | [None, 50, 100, 500, 1000, 5000, 10000, 12000]\n",
      "\n",
      "Comparing model with gridsearch params to initial model on Test set.\n",
      "\n",
      "Stopwords: nltksw, Lemm: None, Stem: None\n",
      "\n",
      "Gridsearched model acc: 0.839 | pre: 0.806 | rec = 0.891 | f1 = 0.847\n",
      "     Default model acc: 0.897 | pre: 0.837 | rec = 0.987 | f1 = 0.906\n",
      "-------------------------------------------------------\n",
      "\n",
      "Fitting 4 folds for each of 8 candidates, totalling 32 fits\n"
     ]
    },
    {
     "name": "stderr",
     "output_type": "stream",
     "text": [
      "[Parallel(n_jobs=-1)]: Done  32 out of  32 | elapsed:   12.4s finished\n"
     ]
    },
    {
     "name": "stdout",
     "output_type": "stream",
     "text": [
      "\n",
      "Result of gridsearch:\n",
      "Parameter            | Optimal  | Gridsearch values\n",
      "-------------------------------------------------------\n",
      "convert_lyrics__max_features | 500      | [None, 50, 100, 500, 1000, 5000, 10000, 12000]\n",
      "\n",
      "Comparing model with gridsearch params to initial model on Test set.\n",
      "\n",
      "Stopwords: nltksw, Lemm: None, Stem: snowball\n",
      "\n",
      "Gridsearched model acc: 0.814 | pre: 0.771 | rec = 0.891 | f1 = 0.827\n",
      "     Default model acc: 0.861 | pre: 0.789 | rec = 0.985 | f1 = 0.876\n",
      "-------------------------------------------------------\n",
      "\n",
      "Fitting 4 folds for each of 8 candidates, totalling 32 fits\n"
     ]
    },
    {
     "name": "stderr",
     "output_type": "stream",
     "text": [
      "[Parallel(n_jobs=-1)]: Done  32 out of  32 | elapsed:    9.5s finished\n"
     ]
    },
    {
     "name": "stdout",
     "output_type": "stream",
     "text": [
      "\n",
      "Result of gridsearch:\n",
      "Parameter            | Optimal  | Gridsearch values\n",
      "-------------------------------------------------------\n",
      "convert_lyrics__max_features | 5000     | [None, 50, 100, 500, 1000, 5000, 10000, 12000]\n",
      "\n",
      "Comparing model with gridsearch params to initial model on Test set.\n",
      "\n",
      "Stopwords: nltksw, Lemm: None, Stem: porter\n",
      "\n",
      "Gridsearched model acc: 0.891 | pre: 0.840 | rec = 0.964 | f1 = 0.898\n",
      "     Default model acc: 0.860 | pre: 0.788 | rec = 0.984 | f1 = 0.875\n",
      "-------------------------------------------------------\n",
      "\n",
      "Fitting 4 folds for each of 8 candidates, totalling 32 fits\n"
     ]
    },
    {
     "name": "stderr",
     "output_type": "stream",
     "text": [
      "[Parallel(n_jobs=-1)]: Done  32 out of  32 | elapsed:   10.4s finished\n"
     ]
    },
    {
     "name": "stdout",
     "output_type": "stream",
     "text": [
      "\n",
      "Result of gridsearch:\n",
      "Parameter            | Optimal  | Gridsearch values\n",
      "-------------------------------------------------------\n",
      "convert_lyrics__max_features | 5000     | [None, 50, 100, 500, 1000, 5000, 10000, 12000]\n",
      "\n",
      "Comparing model with gridsearch params to initial model on Test set.\n",
      "\n",
      "Stopwords: nltksw, Lemm: wordnet, Stem: None\n",
      "\n",
      "Gridsearched model acc: 0.904 | pre: 0.857 | rec = 0.969 | f1 = 0.910\n",
      "     Default model acc: 0.877 | pre: 0.810 | rec = 0.985 | f1 = 0.889\n",
      "-------------------------------------------------------\n",
      "\n",
      "Fitting 4 folds for each of 8 candidates, totalling 32 fits\n"
     ]
    },
    {
     "name": "stderr",
     "output_type": "stream",
     "text": [
      "[Parallel(n_jobs=-1)]: Done  32 out of  32 | elapsed:   12.0s finished\n"
     ]
    },
    {
     "name": "stdout",
     "output_type": "stream",
     "text": [
      "\n",
      "Result of gridsearch:\n",
      "Parameter            | Optimal  | Gridsearch values\n",
      "-------------------------------------------------------\n",
      "convert_lyrics__max_features | 500      | [None, 50, 100, 500, 1000, 5000, 10000, 12000]\n",
      "\n",
      "Comparing model with gridsearch params to initial model on Test set.\n",
      "\n",
      "Stopwords: nltksw, Lemm: wordnet, Stem: snowball\n",
      "\n",
      "Gridsearched model acc: 0.817 | pre: 0.776 | rec = 0.891 | f1 = 0.830\n",
      "     Default model acc: 0.861 | pre: 0.790 | rec = 0.984 | f1 = 0.877\n",
      "-------------------------------------------------------\n",
      "\n",
      "Fitting 4 folds for each of 8 candidates, totalling 32 fits\n"
     ]
    },
    {
     "name": "stderr",
     "output_type": "stream",
     "text": [
      "[Parallel(n_jobs=-1)]: Done  32 out of  32 | elapsed:   12.7s finished\n"
     ]
    },
    {
     "name": "stdout",
     "output_type": "stream",
     "text": [
      "\n",
      "Result of gridsearch:\n",
      "Parameter            | Optimal  | Gridsearch values\n",
      "-------------------------------------------------------\n",
      "convert_lyrics__max_features | 500      | [None, 50, 100, 500, 1000, 5000, 10000, 12000]\n",
      "\n",
      "Comparing model with gridsearch params to initial model on Test set.\n",
      "\n",
      "Stopwords: nltksw, Lemm: wordnet, Stem: porter\n",
      "\n",
      "Gridsearched model acc: 0.813 | pre: 0.773 | rec = 0.887 | f1 = 0.826\n",
      "     Default model acc: 0.862 | pre: 0.791 | rec = 0.984 | f1 = 0.877\n",
      "-------------------------------------------------------\n",
      "\n",
      "Fitting 4 folds for each of 8 candidates, totalling 32 fits\n"
     ]
    },
    {
     "name": "stderr",
     "output_type": "stream",
     "text": [
      "[Parallel(n_jobs=-1)]: Done  32 out of  32 | elapsed:   16.8s finished\n"
     ]
    },
    {
     "name": "stdout",
     "output_type": "stream",
     "text": [
      "\n",
      "Result of gridsearch:\n",
      "Parameter            | Optimal  | Gridsearch values\n",
      "-------------------------------------------------------\n",
      "convert_lyrics__max_features | 1000     | [None, 50, 100, 500, 1000, 5000, 10000, 12000]\n",
      "\n",
      "Comparing model with gridsearch params to initial model on Test set.\n",
      "\n",
      "Stopwords: addsw, Lemm: None, Stem: None\n",
      "\n",
      "Gridsearched model acc: 0.835 | pre: 0.782 | rec = 0.927 | f1 = 0.849\n",
      "     Default model acc: 0.823 | pre: 0.740 | rec = 0.994 | f1 = 0.848\n",
      "-------------------------------------------------------\n",
      "\n",
      "Fitting 4 folds for each of 8 candidates, totalling 32 fits\n"
     ]
    },
    {
     "name": "stderr",
     "output_type": "stream",
     "text": [
      "[Parallel(n_jobs=-1)]: Done  32 out of  32 | elapsed:   19.4s finished\n"
     ]
    },
    {
     "name": "stdout",
     "output_type": "stream",
     "text": [
      "\n",
      "Result of gridsearch:\n",
      "Parameter            | Optimal  | Gridsearch values\n",
      "-------------------------------------------------------\n",
      "convert_lyrics__max_features | 500      | [None, 50, 100, 500, 1000, 5000, 10000, 12000]\n",
      "\n",
      "Comparing model with gridsearch params to initial model on Test set.\n",
      "\n",
      "Stopwords: addsw, Lemm: None, Stem: snowball\n",
      "\n",
      "Gridsearched model acc: 0.801 | pre: 0.753 | rec = 0.896 | f1 = 0.819\n",
      "     Default model acc: 0.798 | pre: 0.715 | rec = 0.992 | f1 = 0.831\n",
      "-------------------------------------------------------\n",
      "\n",
      "Fitting 4 folds for each of 8 candidates, totalling 32 fits\n"
     ]
    },
    {
     "name": "stderr",
     "output_type": "stream",
     "text": [
      "[Parallel(n_jobs=-1)]: Done  32 out of  32 | elapsed:   15.0s finished\n"
     ]
    },
    {
     "name": "stdout",
     "output_type": "stream",
     "text": [
      "\n",
      "Result of gridsearch:\n",
      "Parameter            | Optimal  | Gridsearch values\n",
      "-------------------------------------------------------\n",
      "convert_lyrics__max_features | 500      | [None, 50, 100, 500, 1000, 5000, 10000, 12000]\n",
      "\n",
      "Comparing model with gridsearch params to initial model on Test set.\n",
      "\n",
      "Stopwords: addsw, Lemm: None, Stem: porter\n",
      "\n",
      "Gridsearched model acc: 0.804 | pre: 0.755 | rec = 0.900 | f1 = 0.821\n",
      "     Default model acc: 0.803 | pre: 0.720 | rec = 0.992 | f1 = 0.834\n",
      "-------------------------------------------------------\n",
      "\n",
      "Fitting 4 folds for each of 8 candidates, totalling 32 fits\n"
     ]
    },
    {
     "name": "stderr",
     "output_type": "stream",
     "text": [
      "[Parallel(n_jobs=-1)]: Done  32 out of  32 | elapsed:   15.1s finished\n"
     ]
    },
    {
     "name": "stdout",
     "output_type": "stream",
     "text": [
      "\n",
      "Result of gridsearch:\n",
      "Parameter            | Optimal  | Gridsearch values\n",
      "-------------------------------------------------------\n",
      "convert_lyrics__max_features | 1000     | [None, 50, 100, 500, 1000, 5000, 10000, 12000]\n",
      "\n",
      "Comparing model with gridsearch params to initial model on Test set.\n",
      "\n",
      "Stopwords: addsw, Lemm: wordnet, Stem: None\n",
      "\n",
      "Gridsearched model acc: 0.831 | pre: 0.782 | rec = 0.917 | f1 = 0.844\n",
      "     Default model acc: 0.807 | pre: 0.724 | rec = 0.994 | f1 = 0.837\n",
      "-------------------------------------------------------\n",
      "\n",
      "Fitting 4 folds for each of 8 candidates, totalling 32 fits\n"
     ]
    },
    {
     "name": "stderr",
     "output_type": "stream",
     "text": [
      "[Parallel(n_jobs=-1)]: Done  32 out of  32 | elapsed:   15.2s finished\n"
     ]
    },
    {
     "name": "stdout",
     "output_type": "stream",
     "text": [
      "\n",
      "Result of gridsearch:\n",
      "Parameter            | Optimal  | Gridsearch values\n",
      "-------------------------------------------------------\n",
      "convert_lyrics__max_features | 500      | [None, 50, 100, 500, 1000, 5000, 10000, 12000]\n",
      "\n",
      "Comparing model with gridsearch params to initial model on Test set.\n",
      "\n",
      "Stopwords: addsw, Lemm: wordnet, Stem: snowball\n",
      "\n",
      "Gridsearched model acc: 0.806 | pre: 0.758 | rec = 0.898 | f1 = 0.822\n",
      "     Default model acc: 0.805 | pre: 0.722 | rec = 0.992 | f1 = 0.835\n",
      "-------------------------------------------------------\n",
      "\n",
      "Fitting 4 folds for each of 8 candidates, totalling 32 fits\n"
     ]
    },
    {
     "name": "stderr",
     "output_type": "stream",
     "text": [
      "[Parallel(n_jobs=-1)]: Done  32 out of  32 | elapsed:   15.8s finished\n"
     ]
    },
    {
     "name": "stdout",
     "output_type": "stream",
     "text": [
      "\n",
      "Result of gridsearch:\n",
      "Parameter            | Optimal  | Gridsearch values\n",
      "-------------------------------------------------------\n",
      "convert_lyrics__max_features | 500      | [None, 50, 100, 500, 1000, 5000, 10000, 12000]\n",
      "\n",
      "Comparing model with gridsearch params to initial model on Test set.\n",
      "\n",
      "Stopwords: addsw, Lemm: wordnet, Stem: porter\n",
      "\n",
      "Gridsearched model acc: 0.808 | pre: 0.761 | rec = 0.898 | f1 = 0.824\n",
      "     Default model acc: 0.807 | pre: 0.724 | rec = 0.992 | f1 = 0.837\n",
      "-------------------------------------------------------\n",
      "\n",
      "Fitting 4 folds for each of 8 candidates, totalling 32 fits\n"
     ]
    },
    {
     "name": "stderr",
     "output_type": "stream",
     "text": [
      "[Parallel(n_jobs=-1)]: Done  32 out of  32 | elapsed:    8.6s finished\n"
     ]
    },
    {
     "name": "stdout",
     "output_type": "stream",
     "text": [
      "\n",
      "Result of gridsearch:\n",
      "Parameter            | Optimal  | Gridsearch values\n",
      "-------------------------------------------------------\n",
      "convert_lyrics__max_features | 500      | [None, 50, 100, 500, 1000, 5000, 10000, 12000]\n",
      "\n",
      "Comparing model with gridsearch params to initial model on Test set.\n",
      "\n",
      "Stopwords: allsw, Lemm: None, Stem: None\n",
      "\n",
      "Gridsearched model acc: 0.818 | pre: 0.780 | rec = 0.887 | f1 = 0.830\n",
      "     Default model acc: 0.915 | pre: 0.866 | rec = 0.982 | f1 = 0.920\n",
      "-------------------------------------------------------\n",
      "\n",
      "Fitting 4 folds for each of 8 candidates, totalling 32 fits\n"
     ]
    },
    {
     "name": "stderr",
     "output_type": "stream",
     "text": [
      "[Parallel(n_jobs=-1)]: Done  32 out of  32 | elapsed:   11.8s finished\n"
     ]
    },
    {
     "name": "stdout",
     "output_type": "stream",
     "text": [
      "\n",
      "Result of gridsearch:\n",
      "Parameter            | Optimal  | Gridsearch values\n",
      "-------------------------------------------------------\n",
      "convert_lyrics__max_features | 500      | [None, 50, 100, 500, 1000, 5000, 10000, 12000]\n",
      "\n",
      "Comparing model with gridsearch params to initial model on Test set.\n",
      "\n",
      "Stopwords: allsw, Lemm: None, Stem: snowball\n",
      "\n",
      "Gridsearched model acc: 0.812 | pre: 0.771 | rec = 0.888 | f1 = 0.825\n",
      "     Default model acc: 0.880 | pre: 0.818 | rec = 0.977 | f1 = 0.891\n",
      "-------------------------------------------------------\n",
      "\n",
      "Fitting 4 folds for each of 8 candidates, totalling 32 fits\n"
     ]
    },
    {
     "name": "stderr",
     "output_type": "stream",
     "text": [
      "[Parallel(n_jobs=-1)]: Done  32 out of  32 | elapsed:   10.2s finished\n"
     ]
    },
    {
     "name": "stdout",
     "output_type": "stream",
     "text": [
      "\n",
      "Result of gridsearch:\n",
      "Parameter            | Optimal  | Gridsearch values\n",
      "-------------------------------------------------------\n",
      "convert_lyrics__max_features | 500      | [None, 50, 100, 500, 1000, 5000, 10000, 12000]\n",
      "\n",
      "Comparing model with gridsearch params to initial model on Test set.\n",
      "\n",
      "Stopwords: allsw, Lemm: None, Stem: porter\n",
      "\n",
      "Gridsearched model acc: 0.810 | pre: 0.767 | rec = 0.890 | f1 = 0.824\n",
      "     Default model acc: 0.880 | pre: 0.818 | rec = 0.977 | f1 = 0.891\n",
      "-------------------------------------------------------\n",
      "\n",
      "Fitting 4 folds for each of 8 candidates, totalling 32 fits\n"
     ]
    },
    {
     "name": "stderr",
     "output_type": "stream",
     "text": [
      "[Parallel(n_jobs=-1)]: Done  32 out of  32 | elapsed:    9.8s finished\n"
     ]
    },
    {
     "name": "stdout",
     "output_type": "stream",
     "text": [
      "\n",
      "Result of gridsearch:\n",
      "Parameter            | Optimal  | Gridsearch values\n",
      "-------------------------------------------------------\n",
      "convert_lyrics__max_features | 500      | [None, 50, 100, 500, 1000, 5000, 10000, 12000]\n",
      "\n",
      "Comparing model with gridsearch params to initial model on Test set.\n",
      "\n",
      "Stopwords: allsw, Lemm: wordnet, Stem: None\n",
      "\n",
      "Gridsearched model acc: 0.821 | pre: 0.778 | rec = 0.898 | f1 = 0.834\n",
      "     Default model acc: 0.895 | pre: 0.836 | rec = 0.984 | f1 = 0.904\n",
      "-------------------------------------------------------\n",
      "\n",
      "Fitting 4 folds for each of 8 candidates, totalling 32 fits\n"
     ]
    },
    {
     "name": "stderr",
     "output_type": "stream",
     "text": [
      "[Parallel(n_jobs=-1)]: Done  32 out of  32 | elapsed:    9.4s finished\n"
     ]
    },
    {
     "name": "stdout",
     "output_type": "stream",
     "text": [
      "\n",
      "Result of gridsearch:\n",
      "Parameter            | Optimal  | Gridsearch values\n",
      "-------------------------------------------------------\n",
      "convert_lyrics__max_features | 500      | [None, 50, 100, 500, 1000, 5000, 10000, 12000]\n",
      "\n",
      "Comparing model with gridsearch params to initial model on Test set.\n",
      "\n",
      "Stopwords: allsw, Lemm: wordnet, Stem: snowball\n",
      "\n",
      "Gridsearched model acc: 0.814 | pre: 0.774 | rec = 0.887 | f1 = 0.826\n",
      "     Default model acc: 0.881 | pre: 0.819 | rec = 0.977 | f1 = 0.891\n",
      "-------------------------------------------------------\n",
      "\n",
      "Fitting 4 folds for each of 8 candidates, totalling 32 fits\n"
     ]
    },
    {
     "name": "stderr",
     "output_type": "stream",
     "text": [
      "[Parallel(n_jobs=-1)]: Done  32 out of  32 | elapsed:    8.7s finished\n"
     ]
    },
    {
     "name": "stdout",
     "output_type": "stream",
     "text": [
      "\n",
      "Result of gridsearch:\n",
      "Parameter            | Optimal  | Gridsearch values\n",
      "-------------------------------------------------------\n",
      "convert_lyrics__max_features | 5000     | [None, 50, 100, 500, 1000, 5000, 10000, 12000]\n",
      "\n",
      "Comparing model with gridsearch params to initial model on Test set.\n",
      "\n",
      "Stopwords: allsw, Lemm: wordnet, Stem: porter\n",
      "\n",
      "Gridsearched model acc: 0.897 | pre: 0.853 | rec = 0.959 | f1 = 0.903\n",
      "     Default model acc: 0.880 | pre: 0.818 | rec = 0.977 | f1 = 0.891\n",
      "-------------------------------------------------------\n",
      "\n",
      "Fitting 4 folds for each of 8 candidates, totalling 32 fits\n"
     ]
    },
    {
     "name": "stderr",
     "output_type": "stream",
     "text": [
      "[Parallel(n_jobs=-1)]: Done  32 out of  32 | elapsed:   19.4s finished\n"
     ]
    },
    {
     "name": "stdout",
     "output_type": "stream",
     "text": [
      "\n",
      "Result of gridsearch:\n",
      "Parameter            | Optimal  | Gridsearch values\n",
      "-------------------------------------------------------\n",
      "convert_lyrics__max_features | 1000     | [None, 50, 100, 500, 1000, 5000, 10000, 12000]\n",
      "\n",
      "Comparing model with gridsearch params to initial model on Test set.\n",
      "\n",
      "Stopwords: sw_none, Lemm: None, Stem: None\n",
      "\n",
      "Gridsearched model acc: 0.823 | pre: 0.775 | rec = 0.911 | f1 = 0.838\n",
      "     Default model acc: 0.814 | pre: 0.731 | rec = 0.994 | f1 = 0.842\n",
      "-------------------------------------------------------\n",
      "\n",
      "Fitting 4 folds for each of 8 candidates, totalling 32 fits\n"
     ]
    },
    {
     "name": "stderr",
     "output_type": "stream",
     "text": [
      "[Parallel(n_jobs=-1)]: Done  32 out of  32 | elapsed:   15.4s finished\n"
     ]
    },
    {
     "name": "stdout",
     "output_type": "stream",
     "text": [
      "\n",
      "Result of gridsearch:\n",
      "Parameter            | Optimal  | Gridsearch values\n",
      "-------------------------------------------------------\n",
      "convert_lyrics__max_features | 500      | [None, 50, 100, 500, 1000, 5000, 10000, 12000]\n",
      "\n",
      "Comparing model with gridsearch params to initial model on Test set.\n",
      "\n",
      "Stopwords: sw_none, Lemm: None, Stem: snowball\n",
      "\n",
      "Gridsearched model acc: 0.805 | pre: 0.763 | rec = 0.885 | f1 = 0.819\n",
      "     Default model acc: 0.794 | pre: 0.711 | rec = 0.992 | f1 = 0.828\n",
      "-------------------------------------------------------\n",
      "\n",
      "Fitting 4 folds for each of 8 candidates, totalling 32 fits\n"
     ]
    },
    {
     "name": "stderr",
     "output_type": "stream",
     "text": [
      "[Parallel(n_jobs=-1)]: Done  32 out of  32 | elapsed:   23.1s finished\n"
     ]
    },
    {
     "name": "stdout",
     "output_type": "stream",
     "text": [
      "\n",
      "Result of gridsearch:\n",
      "Parameter            | Optimal  | Gridsearch values\n",
      "-------------------------------------------------------\n",
      "convert_lyrics__max_features | 1000     | [None, 50, 100, 500, 1000, 5000, 10000, 12000]\n",
      "\n",
      "Comparing model with gridsearch params to initial model on Test set.\n",
      "\n",
      "Stopwords: sw_none, Lemm: None, Stem: porter\n",
      "\n",
      "Gridsearched model acc: 0.828 | pre: 0.784 | rec = 0.906 | f1 = 0.841\n",
      "     Default model acc: 0.796 | pre: 0.712 | rec = 0.992 | f1 = 0.829\n",
      "-------------------------------------------------------\n",
      "\n",
      "Fitting 4 folds for each of 8 candidates, totalling 32 fits\n"
     ]
    },
    {
     "name": "stderr",
     "output_type": "stream",
     "text": [
      "[Parallel(n_jobs=-1)]: Done  32 out of  32 | elapsed:   18.4s finished\n"
     ]
    },
    {
     "name": "stdout",
     "output_type": "stream",
     "text": [
      "\n",
      "Result of gridsearch:\n",
      "Parameter            | Optimal  | Gridsearch values\n",
      "-------------------------------------------------------\n",
      "convert_lyrics__max_features | 1000     | [None, 50, 100, 500, 1000, 5000, 10000, 12000]\n",
      "\n",
      "Comparing model with gridsearch params to initial model on Test set.\n",
      "\n",
      "Stopwords: sw_none, Lemm: wordnet, Stem: None\n",
      "\n",
      "Gridsearched model acc: 0.826 | pre: 0.779 | rec = 0.909 | f1 = 0.839\n",
      "     Default model acc: 0.803 | pre: 0.720 | rec = 0.992 | f1 = 0.834\n",
      "-------------------------------------------------------\n",
      "\n",
      "Fitting 4 folds for each of 8 candidates, totalling 32 fits\n"
     ]
    },
    {
     "name": "stderr",
     "output_type": "stream",
     "text": [
      "[Parallel(n_jobs=-1)]: Done  32 out of  32 | elapsed:   18.4s finished\n"
     ]
    },
    {
     "name": "stdout",
     "output_type": "stream",
     "text": [
      "\n",
      "Result of gridsearch:\n",
      "Parameter            | Optimal  | Gridsearch values\n",
      "-------------------------------------------------------\n",
      "convert_lyrics__max_features | 500      | [None, 50, 100, 500, 1000, 5000, 10000, 12000]\n",
      "\n",
      "Comparing model with gridsearch params to initial model on Test set.\n",
      "\n",
      "Stopwords: sw_none, Lemm: wordnet, Stem: snowball\n",
      "\n",
      "Gridsearched model acc: 0.807 | pre: 0.764 | rec = 0.888 | f1 = 0.822\n",
      "     Default model acc: 0.798 | pre: 0.715 | rec = 0.992 | f1 = 0.831\n",
      "-------------------------------------------------------\n",
      "\n",
      "Fitting 4 folds for each of 8 candidates, totalling 32 fits\n"
     ]
    },
    {
     "name": "stderr",
     "output_type": "stream",
     "text": [
      "[Parallel(n_jobs=-1)]: Done  32 out of  32 | elapsed:   19.2s finished\n"
     ]
    },
    {
     "name": "stdout",
     "output_type": "stream",
     "text": [
      "\n",
      "Result of gridsearch:\n",
      "Parameter            | Optimal  | Gridsearch values\n",
      "-------------------------------------------------------\n",
      "convert_lyrics__max_features | 1000     | [None, 50, 100, 500, 1000, 5000, 10000, 12000]\n",
      "\n",
      "Comparing model with gridsearch params to initial model on Test set.\n",
      "\n",
      "Stopwords: sw_none, Lemm: wordnet, Stem: porter\n",
      "\n",
      "Gridsearched model acc: 0.830 | pre: 0.785 | rec = 0.908 | f1 = 0.842\n",
      "     Default model acc: 0.799 | pre: 0.716 | rec = 0.992 | f1 = 0.832\n",
      "-------------------------------------------------------\n",
      "\n"
     ]
    }
   ],
   "source": [
    "lyrics_gridsearch(full_dataset, combs_list)"
   ]
  },
  {
   "cell_type": "code",
   "execution_count": null,
   "metadata": {},
   "outputs": [],
   "source": []
  }
 ],
 "metadata": {
  "kernelspec": {
   "display_name": "Python 3",
   "language": "python",
   "name": "python3"
  },
  "language_info": {
   "codemirror_mode": {
    "name": "ipython",
    "version": 3
   },
   "file_extension": ".py",
   "mimetype": "text/x-python",
   "name": "python",
   "nbconvert_exporter": "python",
   "pygments_lexer": "ipython3",
   "version": "3.6.5"
  }
 },
 "nbformat": 4,
 "nbformat_minor": 2
}
