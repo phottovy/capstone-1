{
 "cells": [
  {
   "cell_type": "code",
   "execution_count": 1,
   "metadata": {},
   "outputs": [
    {
     "name": "stdout",
     "output_type": "stream",
     "text": [
      "/Users/phottovy/galvanize/04_Capstone_1/song_lyric_classifier/src\n"
     ]
    }
   ],
   "source": [
    "cd ../src"
   ]
  },
  {
   "cell_type": "code",
   "execution_count": 2,
   "metadata": {},
   "outputs": [],
   "source": [
    "import numpy as np\n",
    "import pandas as pd\n",
    "import matplotlib.pyplot as plt\n",
    "import string\n",
    "from sklearn.model_selection import train_test_split, KFold, GridSearchCV\n",
    "from sklearn.feature_extraction.stop_words import ENGLISH_STOP_WORDS\n",
    "from sklearn.pipeline import Pipeline\n",
    "from sklearn.feature_extraction.text import CountVectorizer, TfidfTransformer\n",
    "from sklearn.naive_bayes import MultinomialNB\n",
    "from sklearn import metrics\n",
    "from nltk.stem.porter import PorterStemmer\n",
    "from nltk.stem.snowball import SnowballStemmer\n",
    "from nltk.stem.wordnet import WordNetLemmatizer\n",
    "import itertools\n",
    "from tabulate import tabulate"
   ]
  },
  {
   "cell_type": "code",
   "execution_count": 3,
   "metadata": {},
   "outputs": [],
   "source": [
    "from add_stop_words import add_stop_words, nltk_s_words\n",
    "from main import get_data, set_pipeline, make_predictions, data_test_train_split, combine_stopwords"
   ]
  },
  {
   "cell_type": "code",
   "execution_count": 4,
   "metadata": {},
   "outputs": [],
   "source": [
    "plt.style.use('seaborn-darkgrid')\n",
    "plt.rcParams[\"patch.force_edgecolor\"] = True"
   ]
  },
  {
   "cell_type": "code",
   "execution_count": 5,
   "metadata": {},
   "outputs": [],
   "source": [
    "porter = PorterStemmer()\n",
    "snowball = SnowballStemmer('english')\n",
    "wordnet = WordNetLemmatizer()\n",
    "sksw = ENGLISH_STOP_WORDS\n",
    "nltksw = nltk_s_words()\n",
    "addsw = add_stop_words()\n",
    "allsw = combine_stopwords"
   ]
  },
  {
   "cell_type": "code",
   "execution_count": 6,
   "metadata": {},
   "outputs": [],
   "source": [
    "def clean_full_dataset(dataset, stopwords=sksw, lemm=None, stem=None):\n",
    "    clean_dataset = dataset.copy()\n",
    "    clean_dataset['Lyrics'] = clean_strip_lyrics(\n",
    "        clean_dataset['Lyrics'], stopwords, lemm, stem)\n",
    "    clean_lyrics = clean_dataset['Lyrics']\n",
    "    return clean_dataset, clean_lyrics"
   ]
  },
  {
   "cell_type": "code",
   "execution_count": 7,
   "metadata": {},
   "outputs": [],
   "source": [
    "def clean_strip_lyrics(dataset, stopwords=sksw, lemm=None, stem=None):\n",
    "    '''\n",
    "    Strip punctuation and cleans the word list\n",
    "\n",
    "    Steps\n",
    "    -----\n",
    "    1. remove punctuation\n",
    "    2. remove stopwords from provided dictionary, default sksw list\n",
    "        allsw for a combination of three sets of stopwords\n",
    "    3. stem word list, default None\n",
    "    4. lemmatize word list, default None\n",
    "    5. return list of clean word list from lyrics\n",
    "\n",
    "    Parameters\n",
    "    ----------\n",
    "    lyrics: string of lyrics to be cleaned\n",
    "    stopwords: dictionary of stopwords to exclude from model, default sksw from sklearn\n",
    "    '''\n",
    "    rm_punct = [''.join(\n",
    "        [char for char in word if char not in string.punctuation]) for word in dataset]\n",
    "    rm_stop = [[word.lower() for word in words.split()if word.lower()\n",
    "                not in stopwords] for words in rm_punct]\n",
    "    if lemm == wordnet:\n",
    "        rm_lemm = [[wordnet.lemmatize(word)\n",
    "                    for word in words] for words in rm_stop]\n",
    "    else:\n",
    "        rm_lemm = rm_stop\n",
    "    if stem == porter:\n",
    "        rm_stem = [[porter.stem(word) for word in words] for words in rm_lemm]\n",
    "    elif stem == snowball:\n",
    "        rm_stem = [[snowball.stem(word) for word in words]\n",
    "                   for words in rm_lemm]\n",
    "    else:\n",
    "        rm_stem = rm_lemm\n",
    "    clean_lyrics = [' '.join([word for word in words]) for words in rm_stem]\n",
    "    return pd.Series(clean_lyrics)"
   ]
  },
  {
   "cell_type": "code",
   "execution_count": 8,
   "metadata": {},
   "outputs": [],
   "source": [
    "full_dataset = get_data()\n",
    "clean_dataset, clean_lyrics = clean_full_dataset(\n",
    "    full_dataset, stopwords=sksw, lemm=None, stem=None)\n",
    "X_train, X_test, y_train, y_test = data_test_train_split(clean_dataset)\n",
    "X = clean_dataset['Lyrics']\n",
    "y = clean_dataset['Test_Artist']"
   ]
  },
  {
   "cell_type": "code",
   "execution_count": 9,
   "metadata": {},
   "outputs": [],
   "source": [
    "def confusion_matrix_plot_cv(tn, fp, fn, tp, save_fig=False, cmap=plt.cm.Blues):\n",
    "    '''\n",
    "    This function prints and plots the confusion matrix.\n",
    "    '''\n",
    "    cm = np.array([[tp, fn], [fp, tn]])\n",
    "    classes = ['True', 'False']\n",
    "    plt.figure(figsize=(4, 4))\n",
    "    plt.imshow(cm, interpolation='nearest', cmap=cmap)\n",
    "    plt.grid(b=None)\n",
    "    plt.title('Confusion Matrix', fontsize=20)\n",
    "    tick_marks = np.arange(len(classes))\n",
    "    plt.xticks(tick_marks, classes, rotation=45)\n",
    "    plt.yticks(tick_marks, classes)\n",
    "    fmt = 'd'\n",
    "    thresh = cm.max() / 2.\n",
    "    for i, j in itertools.product(range(cm.shape[0]), range(cm.shape[1])):\n",
    "        plt.text(j, i, format(cm[i, j], fmt),\n",
    "                 horizontalalignment=\"center\",\n",
    "                 color=\"white\" if cm[i, j] > thresh else \"black\")\n",
    "    plt.ylabel('True label', fontsize=12)\n",
    "    plt.xlabel('Predicted label', fontsize=12)\n",
    "    if save_fig:\n",
    "        plt.savefig('confusion_matrix.png')\n",
    "    plt.show()"
   ]
  },
  {
   "cell_type": "code",
   "execution_count": 10,
   "metadata": {},
   "outputs": [],
   "source": [
    "def my_cross_val_score(dataset, num_folds=3, stopwords=sksw, lemm=None, stem=None, max_feats=None):\n",
    "    ''' Returns error for k-fold cross validation. '''\n",
    "    clean_dataset, clean_lyrics = clean_full_dataset(\n",
    "        dataset, stopwords, lemm, stem)\n",
    "    X = clean_dataset['Lyrics']\n",
    "    y = clean_dataset['Test_Artist']\n",
    "\n",
    "    kf = KFold(n_splits=num_folds, shuffle=True)\n",
    "    acc_cv = np.empty(num_folds)\n",
    "    pre_cv = np.empty(num_folds)\n",
    "    rec_cv = np.empty(num_folds)\n",
    "    f1_cv = np.empty(num_folds)\n",
    "    tn, fp, fn, tp = 0, 0, 0, 0\n",
    "    index = 0\n",
    "    for train_index, test_index in kf.split(X):\n",
    "        X_train, X_test = X[train_index], X[test_index]\n",
    "        y_train, y_test = y[train_index], y[test_index]\n",
    "        lyrics_pipeline = set_pipeline(X_train, y_train, max_feats)\n",
    "        y_predict = make_predictions(lyrics_pipeline, X_test)\n",
    "        y_probs = lyrics_pipeline.predict_proba(X_test)[:, 1]\n",
    "        acc_cv[index] = metrics.accuracy_score(y_test, y_predict)\n",
    "        pre_cv[index] = metrics.precision_score(y_test, y_predict)\n",
    "        rec_cv[index] = metrics.recall_score(y_test, y_predict)\n",
    "        f1_cv[index] = metrics.f1_score(y_test, y_predict)\n",
    "        tn += metrics.confusion_matrix(y_test, y_predict).ravel()[0]\n",
    "        fp += metrics.confusion_matrix(y_test, y_predict).ravel()[1]\n",
    "        fn += metrics.confusion_matrix(y_test, y_predict).ravel()[2]\n",
    "        tp += metrics.confusion_matrix(y_test, y_predict).ravel()[3]\n",
    "        index += 1\n",
    "    cols = ['Statistic', 'Result']\n",
    "    acc = ['Accuracy', '{:.4f}'.format(np.mean(acc_cv))]\n",
    "    pre = ['Precision', '{:.4f}'.format(np.mean(pre_cv))]\n",
    "    rec = ['Recall', '{:.4f}'.format(np.mean(rec_cv))]\n",
    "    f1 = ['F1-Score', '{:.4f}'.format(np.mean(f1_cv))]\n",
    "    print('Classification Statistics:\\n')\n",
    "    print(tabulate([cols, acc, pre, rec, f1],\n",
    "                   headers='firstrow', tablefmt='pipe'))\n",
    "    print(np.array([[tp, fn], [fp, tn]]))\n",
    "    confusion_matrix_plot_cv(tn, fp, fn, tp)"
   ]
  },
  {
   "cell_type": "code",
   "execution_count": 11,
   "metadata": {},
   "outputs": [],
   "source": [
    "def cv_scores(max_splits=10):\n",
    "    cv_range = range(2, max_splits+1)\n",
    "\n",
    "    for num in cv_range:\n",
    "        print(f'# of splits: {num}\\n')\n",
    "        my_cross_val_score(full_dataset, num)"
   ]
  },
  {
   "cell_type": "code",
   "execution_count": 12,
   "metadata": {
    "scrolled": false
   },
   "outputs": [
    {
     "name": "stdout",
     "output_type": "stream",
     "text": [
      "# of splits: 2\n",
      "\n",
      "Classification Statistics:\n",
      "\n",
      "| Statistic   |   Result |\n",
      "|:------------|---------:|\n",
      "| Accuracy    |   0.6848 |\n",
      "| Precision   |   0.6319 |\n",
      "| Recall      |   0.9009 |\n",
      "| F1-Score    |   0.7403 |\n",
      "[[555  62]\n",
      " [327 290]]\n"
     ]
    },
    {
     "data": {
      "image/png": "[encoded data removed]",
      "text/plain": [
       "<Figure size 288x288 with 1 Axes>"
      ]
     },
     "metadata": {},
     "output_type": "display_data"
    },
    {
     "name": "stdout",
     "output_type": "stream",
     "text": [
      "# of splits: 3\n",
      "\n",
      "Classification Statistics:\n",
      "\n",
      "| Statistic   |   Result |\n",
      "|:------------|---------:|\n",
      "| Accuracy    |   0.6977 |\n",
      "| Precision   |   0.6414 |\n",
      "| Recall      |   0.9031 |\n",
      "| F1-Score    |   0.7491 |\n",
      "[[557  60]\n",
      " [313 304]]\n"
     ]
    },
    {
     "data": {
      "image/png": "[encoded data removed]",
      "text/plain": [
       "<Figure size 288x288 with 1 Axes>"
      ]
     },
     "metadata": {},
     "output_type": "display_data"
    },
    {
     "name": "stdout",
     "output_type": "stream",
     "text": [
      "# of splits: 4\n",
      "\n",
      "Classification Statistics:\n",
      "\n",
      "| Statistic   |   Result |\n",
      "|:------------|---------:|\n",
      "| Accuracy    |   0.701  |\n",
      "| Precision   |   0.6423 |\n",
      "| Recall      |   0.9129 |\n",
      "| F1-Score    |   0.7534 |\n",
      "[[563  54]\n",
      " [315 302]]\n"
     ]
    },
    {
     "data": {
      "image/png": "[encoded data removed]",
      "text/plain": [
       "<Figure size 288x288 with 1 Axes>"
      ]
     },
     "metadata": {},
     "output_type": "display_data"
    },
    {
     "name": "stdout",
     "output_type": "stream",
     "text": [
      "# of splits: 5\n",
      "\n",
      "Classification Statistics:\n",
      "\n",
      "| Statistic   |   Result |\n",
      "|:------------|---------:|\n",
      "| Accuracy    |   0.6912 |\n",
      "| Precision   |   0.6365 |\n",
      "| Recall      |   0.9027 |\n",
      "| F1-Score    |   0.7457 |\n",
      "[[557  60]\n",
      " [321 296]]\n"
     ]
    },
    {
     "data": {
      "image/png": "[encoded data removed]",
      "text/plain": [
       "<Figure size 288x288 with 1 Axes>"
      ]
     },
     "metadata": {},
     "output_type": "display_data"
    },
    {
     "name": "stdout",
     "output_type": "stream",
     "text": [
      "# of splits: 6\n",
      "\n",
      "Classification Statistics:\n",
      "\n",
      "| Statistic   |   Result |\n",
      "|:------------|---------:|\n",
      "| Accuracy    |   0.6921 |\n",
      "| Precision   |   0.6388 |\n",
      "| Recall      |   0.9086 |\n",
      "| F1-Score    |   0.7467 |\n",
      "[[559  58]\n",
      " [322 295]]\n"
     ]
    },
    {
     "data": {
      "image/png": "[encoded data removed]",
      "text/plain": [
       "<Figure size 288x288 with 1 Axes>"
      ]
     },
     "metadata": {},
     "output_type": "display_data"
    },
    {
     "name": "stdout",
     "output_type": "stream",
     "text": [
      "# of splits: 7\n",
      "\n",
      "Classification Statistics:\n",
      "\n",
      "| Statistic   |   Result |\n",
      "|:------------|---------:|\n",
      "| Accuracy    |   0.6977 |\n",
      "| Precision   |   0.6387 |\n",
      "| Recall      |   0.9149 |\n",
      "| F1-Score    |   0.7517 |\n",
      "[[564  53]\n",
      " [320 297]]\n"
     ]
    },
    {
     "data": {
      "image/png": "[encoded data removed]",
      "text/plain": [
       "<Figure size 288x288 with 1 Axes>"
      ]
     },
     "metadata": {},
     "output_type": "display_data"
    },
    {
     "name": "stdout",
     "output_type": "stream",
     "text": [
      "# of splits: 8\n",
      "\n",
      "Classification Statistics:\n",
      "\n",
      "| Statistic   |   Result |\n",
      "|:------------|---------:|\n",
      "| Accuracy    |   0.6986 |\n",
      "| Precision   |   0.6437 |\n",
      "| Recall      |   0.911  |\n",
      "| F1-Score    |   0.751  |\n",
      "[[561  56]\n",
      " [316 301]]\n"
     ]
    },
    {
     "data": {
      "image/png": "[encoded data removed]",
      "text/plain": [
       "<Figure size 288x288 with 1 Axes>"
      ]
     },
     "metadata": {},
     "output_type": "display_data"
    },
    {
     "name": "stdout",
     "output_type": "stream",
     "text": [
      "# of splits: 9\n",
      "\n",
      "Classification Statistics:\n",
      "\n",
      "| Statistic   |   Result |\n",
      "|:------------|---------:|\n",
      "| Accuracy    |   0.6905 |\n",
      "| Precision   |   0.6335 |\n",
      "| Recall      |   0.9068 |\n",
      "| F1-Score    |   0.745  |\n",
      "[[559  58]\n",
      " [324 293]]\n"
     ]
    },
    {
     "data": {
      "image/png": "[encoded data removed]",
      "text/plain": [
       "<Figure size 288x288 with 1 Axes>"
      ]
     },
     "metadata": {},
     "output_type": "display_data"
    },
    {
     "name": "stdout",
     "output_type": "stream",
     "text": [
      "# of splits: 10\n",
      "\n",
      "Classification Statistics:\n",
      "\n",
      "| Statistic   |   Result |\n",
      "|:------------|---------:|\n",
      "| Accuracy    |   0.6953 |\n",
      "| Precision   |   0.6386 |\n",
      "| Recall      |   0.9085 |\n",
      "| F1-Score    |   0.7476 |\n",
      "[[559  58]\n",
      " [318 299]]\n"
     ]
    },
    {
     "data": {
      "image/png": "[encoded data removed]",
      "text/plain": [
       "<Figure size 288x288 with 1 Axes>"
      ]
     },
     "metadata": {},
     "output_type": "display_data"
    }
   ],
   "source": [
    "cv_scores(10)"
   ]
  },
  {
   "cell_type": "code",
   "execution_count": 13,
   "metadata": {},
   "outputs": [],
   "source": [
    "def gridsearch_with_output(estimator, parameter_grid, X, y):\n",
    "    '''\n",
    "        Parameters: estimator: the type of model (e.g. RandomForestRegressor())\n",
    "                    paramter_grid: dictionary defining the gridsearch parameters\n",
    "                    X_train: 2d numpy array\n",
    "                    y_train: 1d numpy array\n",
    "\n",
    "        Returns:  best parameters and model fit with those parameters\n",
    "    '''\n",
    "    model_gridsearch = GridSearchCV(estimator,\n",
    "                                    parameter_grid,\n",
    "                                    n_jobs=-1,\n",
    "                                    verbose=True,\n",
    "                                    refit=True,\n",
    "                                    cv=4,\n",
    "                                    scoring='f1')  # ['f1', 'precision', 'recall', 'accuracy'])\n",
    "    model_gridsearch.fit(X, y)\n",
    "    best_params = model_gridsearch.best_params_\n",
    "    model_best = model_gridsearch.best_estimator_\n",
    "    print(\"\\nResult of gridsearch:\")\n",
    "    print(\"{0:<20s} | {1:<8s} | {2}\".format(\n",
    "        \"Parameter\", \"Optimal\", \"Gridsearch values\"))\n",
    "    print(\"-\" * 55)\n",
    "    for param, vals in parameter_grid.items():\n",
    "        print(\"{0:<20s} | {1:<8s} | {2}\".format(str(param),\n",
    "                                                str(best_params[param]),\n",
    "                                                str(vals)))\n",
    "    return best_params, model_best"
   ]
  },
  {
   "cell_type": "code",
   "execution_count": 14,
   "metadata": {},
   "outputs": [],
   "source": [
    "def display_default_and_gsearch_model_results(model_default, model_gridsearch,\n",
    "                                              X_test, y_test):\n",
    "    '''\n",
    "        Parameters: model_default: fit model using initial parameters\n",
    "                    model_gridsearch: fit model using parameters from gridsearch\n",
    "                    X_test: 2d numpy array\n",
    "                    y_test: 1d numpy array\n",
    "        Return: None, but prints out mse and r2 for the default and model with\n",
    "                gridsearched parameters\n",
    "    '''\n",
    "    name = model_default.__class__.__name__.replace(\n",
    "        'Regressor', '')  # for printing\n",
    "    y_test_pred = model_gridsearch.predict(X_test)\n",
    "    acc = metrics.accuracy_score(y_test, y_test_pred)\n",
    "    pre = metrics.precision_score(y_test, y_test_pred)\n",
    "    rec = metrics.recall_score(y_test, y_test_pred)\n",
    "    f1 = metrics.f1_score(y_test, y_test_pred)\n",
    "#     print(\"Results for {0}\".format(name))\n",
    "    print(\"Gridsearched model acc: {:0.3f} | pre: {:0.3f} | rec = {:0.3f} | f1 = {:0.3f}\".format(\n",
    "        acc, pre, rec, f1))\n",
    "    y_test_pred = model_default.predict(X_test)\n",
    "    acc = metrics.accuracy_score(y_test, y_test_pred)\n",
    "    pre = metrics.precision_score(y_test, y_test_pred)\n",
    "    rec = metrics.recall_score(y_test, y_test_pred)\n",
    "    f1 = metrics.f1_score(y_test, y_test_pred)\n",
    "    print(\"     Default model acc: {:0.3f} | pre: {:0.3f} | rec = {:0.3f} | f1 = {:0.3f}\".format(\n",
    "        acc, pre, rec, f1))"
   ]
  },
  {
   "cell_type": "code",
   "execution_count": 15,
   "metadata": {},
   "outputs": [],
   "source": [
    "feats_grid = {'convert_lyrics__max_features': [\n",
    "    None, 50, 100, 500, 1000, 5000, 10000, 12000]}"
   ]
  },
  {
   "cell_type": "code",
   "execution_count": 16,
   "metadata": {},
   "outputs": [],
   "source": [
    "cv_pipeline = Pipeline([\n",
    "    ('convert_lyrics', CountVectorizer()),\n",
    "    ('tf-idf', TfidfTransformer()),\n",
    "    ('naive_bayes', MultinomialNB())\n",
    "])"
   ]
  },
  {
   "cell_type": "code",
   "execution_count": 17,
   "metadata": {},
   "outputs": [],
   "source": [
    "full_nb_grid = {'stopwords': ['sksw', 'nltksw', 'addsw', 'allsw', 'sw_none'],\n",
    "                'lemm': [None, 'wordnet'],\n",
    "                'stem': [None, 'snowball', 'porter']}"
   ]
  },
  {
   "cell_type": "code",
   "execution_count": 18,
   "metadata": {},
   "outputs": [],
   "source": [
    "combs = itertools.product(*(full_nb_grid[Name] for Name in full_nb_grid))\n",
    "\n",
    "\n",
    "def print_combs(data=combs):\n",
    "    return ['{}, {}, {}'.format(item[0], item[1], item[2]) for item in data]\n",
    "\n",
    "\n",
    "combs_list = print_combs()"
   ]
  },
  {
   "cell_type": "code",
   "execution_count": 19,
   "metadata": {},
   "outputs": [],
   "source": [
    "combs_dict = {'None': None, 'sksw': sksw, 'nltksw': nltksw, 'addsw': addsw, \n",
    "              'allsw': allsw(),'sw_none': [], 'wordnet': wordnet, \n",
    "              'snowball': snowball, 'porter': porter}"
   ]
  },
  {
   "cell_type": "code",
   "execution_count": 20,
   "metadata": {},
   "outputs": [],
   "source": [
    "def lyrics_gridsearch(full_dataset, feature_list=combs_list):\n",
    "    for item in feature_list:\n",
    "        sw = combs_dict[item.split(', ')[0]]\n",
    "        lm = combs_dict[item.split(', ')[1]]\n",
    "        stm = combs_dict[item.split(', ')[2]]\n",
    "\n",
    "        clean_dataset, clean_lyrics = clean_full_dataset(\n",
    "            full_dataset, sw, lm, stm)\n",
    "        X = clean_lyrics\n",
    "        y = clean_dataset['Test_Artist']\n",
    "\n",
    "        nb_best_params, nb_best_model = gridsearch_with_output(cv_pipeline,\n",
    "                                                               feats_grid,\n",
    "                                                               X, y)\n",
    "        print(\"\\nComparing model with gridsearch params to initial model on Test set.\\n\")\n",
    "        print(\n",
    "            f\"Stopwords: {item.split(', ')[0]}, Lemm: {item.split(', ')[1]}, Stem: {item.split(', ')[2]}\\n\")\n",
    "        lyrics_pipeline = set_pipeline(X_train, y_train)\n",
    "        display_default_and_gsearch_model_results(\n",
    "            lyrics_pipeline, nb_best_model, X_test, y_test)\n",
    "        print('-------------------------------------------------------\\n')"
   ]
  },
  {
   "cell_type": "code",
   "execution_count": 21,
   "metadata": {
    "scrolled": false
   },
   "outputs": [
    {
     "name": "stdout",
     "output_type": "stream",
     "text": [
      "Fitting 4 folds for each of 8 candidates, totalling 32 fits\n"
     ]
    },
    {
     "name": "stderr",
     "output_type": "stream",
     "text": [
      "[Parallel(n_jobs=-1)]: Done  32 out of  32 | elapsed:    5.7s finished\n"
     ]
    },
    {
     "name": "stdout",
     "output_type": "stream",
     "text": [
      "\n",
      "Result of gridsearch:\n",
      "Parameter            | Optimal  | Gridsearch values\n",
      "-------------------------------------------------------\n",
      "convert_lyrics__max_features | 12000    | [None, 50, 100, 500, 1000, 5000, 10000, 12000]\n",
      "\n",
      "Comparing model with gridsearch params to initial model on Test set.\n",
      "\n",
      "Stopwords: sksw, Lemm: None, Stem: None\n",
      "\n",
      "Gridsearched model acc: 0.911 | pre: 0.849 | rec = 0.994 | f1 = 0.916\n",
      "     Default model acc: 0.677 | pre: 0.606 | rec = 0.967 | f1 = 0.745\n",
      "-------------------------------------------------------\n",
      "\n",
      "Fitting 4 folds for each of 8 candidates, totalling 32 fits\n"
     ]
    },
    {
     "name": "stderr",
     "output_type": "stream",
     "text": [
      "[Parallel(n_jobs=-1)]: Done  32 out of  32 | elapsed:    5.6s finished\n"
     ]
    },
    {
     "name": "stdout",
     "output_type": "stream",
     "text": [
      "\n",
      "Result of gridsearch:\n",
      "Parameter            | Optimal  | Gridsearch values\n",
      "-------------------------------------------------------\n",
      "convert_lyrics__max_features | 500      | [None, 50, 100, 500, 1000, 5000, 10000, 12000]\n",
      "\n",
      "Comparing model with gridsearch params to initial model on Test set.\n",
      "\n",
      "Stopwords: sksw, Lemm: None, Stem: snowball\n",
      "\n",
      "Gridsearched model acc: 0.795 | pre: 0.729 | rec = 0.923 | f1 = 0.815\n",
      "     Default model acc: 0.677 | pre: 0.606 | rec = 0.967 | f1 = 0.745\n",
      "-------------------------------------------------------\n",
      "\n",
      "Fitting 4 folds for each of 8 candidates, totalling 32 fits\n"
     ]
    },
    {
     "name": "stderr",
     "output_type": "stream",
     "text": [
      "[Parallel(n_jobs=-1)]: Done  32 out of  32 | elapsed:    5.2s finished\n"
     ]
    },
    {
     "name": "stdout",
     "output_type": "stream",
     "text": [
      "\n",
      "Result of gridsearch:\n",
      "Parameter            | Optimal  | Gridsearch values\n",
      "-------------------------------------------------------\n",
      "convert_lyrics__max_features | 500      | [None, 50, 100, 500, 1000, 5000, 10000, 12000]\n",
      "\n",
      "Comparing model with gridsearch params to initial model on Test set.\n",
      "\n",
      "Stopwords: sksw, Lemm: None, Stem: porter\n",
      "\n",
      "Gridsearched model acc: 0.798 | pre: 0.730 | rec = 0.928 | f1 = 0.818\n",
      "     Default model acc: 0.677 | pre: 0.606 | rec = 0.967 | f1 = 0.745\n",
      "-------------------------------------------------------\n",
      "\n",
      "Fitting 4 folds for each of 8 candidates, totalling 32 fits\n"
     ]
    },
    {
     "name": "stderr",
     "output_type": "stream",
     "text": [
      "[Parallel(n_jobs=-1)]: Done  32 out of  32 | elapsed:    5.7s finished\n"
     ]
    },
    {
     "name": "stdout",
     "output_type": "stream",
     "text": [
      "\n",
      "Result of gridsearch:\n",
      "Parameter            | Optimal  | Gridsearch values\n",
      "-------------------------------------------------------\n",
      "convert_lyrics__max_features | 500      | [None, 50, 100, 500, 1000, 5000, 10000, 12000]\n",
      "\n",
      "Comparing model with gridsearch params to initial model on Test set.\n",
      "\n",
      "Stopwords: sksw, Lemm: wordnet, Stem: None\n",
      "\n",
      "Gridsearched model acc: 0.846 | pre: 0.798 | rec = 0.917 | f1 = 0.853\n",
      "     Default model acc: 0.677 | pre: 0.606 | rec = 0.967 | f1 = 0.745\n",
      "-------------------------------------------------------\n",
      "\n",
      "Fitting 4 folds for each of 8 candidates, totalling 32 fits\n"
     ]
    },
    {
     "name": "stderr",
     "output_type": "stream",
     "text": [
      "[Parallel(n_jobs=-1)]: Done  32 out of  32 | elapsed:    5.6s finished\n"
     ]
    },
    {
     "name": "stdout",
     "output_type": "stream",
     "text": [
      "\n",
      "Result of gridsearch:\n",
      "Parameter            | Optimal  | Gridsearch values\n",
      "-------------------------------------------------------\n",
      "convert_lyrics__max_features | 500      | [None, 50, 100, 500, 1000, 5000, 10000, 12000]\n",
      "\n",
      "Comparing model with gridsearch params to initial model on Test set.\n",
      "\n",
      "Stopwords: sksw, Lemm: wordnet, Stem: snowball\n",
      "\n",
      "Gridsearched model acc: 0.811 | pre: 0.749 | rec = 0.923 | f1 = 0.827\n",
      "     Default model acc: 0.677 | pre: 0.606 | rec = 0.967 | f1 = 0.745\n",
      "-------------------------------------------------------\n",
      "\n",
      "Fitting 4 folds for each of 8 candidates, totalling 32 fits\n"
     ]
    },
    {
     "name": "stderr",
     "output_type": "stream",
     "text": [
      "[Parallel(n_jobs=-1)]: Done  32 out of  32 | elapsed:    5.9s finished\n"
     ]
    },
    {
     "name": "stdout",
     "output_type": "stream",
     "text": [
      "\n",
      "Result of gridsearch:\n",
      "Parameter            | Optimal  | Gridsearch values\n",
      "-------------------------------------------------------\n",
      "convert_lyrics__max_features | 500      | [None, 50, 100, 500, 1000, 5000, 10000, 12000]\n",
      "\n",
      "Comparing model with gridsearch params to initial model on Test set.\n",
      "\n",
      "Stopwords: sksw, Lemm: wordnet, Stem: porter\n",
      "\n",
      "Gridsearched model acc: 0.801 | pre: 0.738 | rec = 0.917 | f1 = 0.818\n",
      "     Default model acc: 0.677 | pre: 0.606 | rec = 0.967 | f1 = 0.745\n",
      "-------------------------------------------------------\n",
      "\n",
      "Fitting 4 folds for each of 8 candidates, totalling 32 fits\n"
     ]
    },
    {
     "name": "stderr",
     "output_type": "stream",
     "text": [
      "[Parallel(n_jobs=-1)]: Done  32 out of  32 | elapsed:    7.6s finished\n"
     ]
    },
    {
     "name": "stdout",
     "output_type": "stream",
     "text": [
      "\n",
      "Result of gridsearch:\n",
      "Parameter            | Optimal  | Gridsearch values\n",
      "-------------------------------------------------------\n",
      "convert_lyrics__max_features | 1000     | [None, 50, 100, 500, 1000, 5000, 10000, 12000]\n",
      "\n",
      "Comparing model with gridsearch params to initial model on Test set.\n",
      "\n",
      "Stopwords: nltksw, Lemm: None, Stem: None\n",
      "\n",
      "Gridsearched model acc: 0.852 | pre: 0.800 | rec = 0.928 | f1 = 0.859\n",
      "     Default model acc: 0.677 | pre: 0.606 | rec = 0.967 | f1 = 0.745\n",
      "-------------------------------------------------------\n",
      "\n",
      "Fitting 4 folds for each of 8 candidates, totalling 32 fits\n"
     ]
    },
    {
     "name": "stderr",
     "output_type": "stream",
     "text": [
      "[Parallel(n_jobs=-1)]: Done  32 out of  32 | elapsed:   10.6s finished\n"
     ]
    },
    {
     "name": "stdout",
     "output_type": "stream",
     "text": [
      "\n",
      "Result of gridsearch:\n",
      "Parameter            | Optimal  | Gridsearch values\n",
      "-------------------------------------------------------\n",
      "convert_lyrics__max_features | 500      | [None, 50, 100, 500, 1000, 5000, 10000, 12000]\n",
      "\n",
      "Comparing model with gridsearch params to initial model on Test set.\n",
      "\n",
      "Stopwords: nltksw, Lemm: None, Stem: snowball\n",
      "\n",
      "Gridsearched model acc: 0.774 | pre: 0.716 | rec = 0.890 | f1 = 0.793\n",
      "     Default model acc: 0.677 | pre: 0.606 | rec = 0.967 | f1 = 0.745\n",
      "-------------------------------------------------------\n",
      "\n",
      "Fitting 4 folds for each of 8 candidates, totalling 32 fits\n"
     ]
    },
    {
     "name": "stderr",
     "output_type": "stream",
     "text": [
      "[Parallel(n_jobs=-1)]: Done  32 out of  32 | elapsed:    9.5s finished\n"
     ]
    },
    {
     "name": "stdout",
     "output_type": "stream",
     "text": [
      "\n",
      "Result of gridsearch:\n",
      "Parameter            | Optimal  | Gridsearch values\n",
      "-------------------------------------------------------\n",
      "convert_lyrics__max_features | 5000     | [None, 50, 100, 500, 1000, 5000, 10000, 12000]\n",
      "\n",
      "Comparing model with gridsearch params to initial model on Test set.\n",
      "\n",
      "Stopwords: nltksw, Lemm: None, Stem: porter\n",
      "\n",
      "Gridsearched model acc: 0.876 | pre: 0.808 | rec = 0.978 | f1 = 0.885\n",
      "     Default model acc: 0.677 | pre: 0.606 | rec = 0.967 | f1 = 0.745\n",
      "-------------------------------------------------------\n",
      "\n",
      "Fitting 4 folds for each of 8 candidates, totalling 32 fits\n"
     ]
    },
    {
     "name": "stderr",
     "output_type": "stream",
     "text": [
      "[Parallel(n_jobs=-1)]: Done  32 out of  32 | elapsed:    9.6s finished\n"
     ]
    },
    {
     "name": "stdout",
     "output_type": "stream",
     "text": [
      "\n",
      "Result of gridsearch:\n",
      "Parameter            | Optimal  | Gridsearch values\n",
      "-------------------------------------------------------\n",
      "convert_lyrics__max_features | 5000     | [None, 50, 100, 500, 1000, 5000, 10000, 12000]\n",
      "\n",
      "Comparing model with gridsearch params to initial model on Test set.\n",
      "\n",
      "Stopwords: nltksw, Lemm: wordnet, Stem: None\n",
      "\n",
      "Gridsearched model acc: 0.933 | pre: 0.894 | rec = 0.978 | f1 = 0.934\n",
      "     Default model acc: 0.677 | pre: 0.606 | rec = 0.967 | f1 = 0.745\n",
      "-------------------------------------------------------\n",
      "\n",
      "Fitting 4 folds for each of 8 candidates, totalling 32 fits\n"
     ]
    },
    {
     "name": "stderr",
     "output_type": "stream",
     "text": [
      "[Parallel(n_jobs=-1)]: Done  32 out of  32 | elapsed:   10.3s finished\n"
     ]
    },
    {
     "name": "stdout",
     "output_type": "stream",
     "text": [
      "\n",
      "Result of gridsearch:\n",
      "Parameter            | Optimal  | Gridsearch values\n",
      "-------------------------------------------------------\n",
      "convert_lyrics__max_features | 500      | [None, 50, 100, 500, 1000, 5000, 10000, 12000]\n",
      "\n",
      "Comparing model with gridsearch params to initial model on Test set.\n",
      "\n",
      "Stopwords: nltksw, Lemm: wordnet, Stem: snowball\n",
      "\n",
      "Gridsearched model acc: 0.782 | pre: 0.729 | rec = 0.878 | f1 = 0.797\n",
      "     Default model acc: 0.677 | pre: 0.606 | rec = 0.967 | f1 = 0.745\n",
      "-------------------------------------------------------\n",
      "\n",
      "Fitting 4 folds for each of 8 candidates, totalling 32 fits\n"
     ]
    },
    {
     "name": "stderr",
     "output_type": "stream",
     "text": [
      "[Parallel(n_jobs=-1)]: Done  32 out of  32 | elapsed:    8.8s finished\n"
     ]
    },
    {
     "name": "stdout",
     "output_type": "stream",
     "text": [
      "\n",
      "Result of gridsearch:\n",
      "Parameter            | Optimal  | Gridsearch values\n",
      "-------------------------------------------------------\n",
      "convert_lyrics__max_features | 500      | [None, 50, 100, 500, 1000, 5000, 10000, 12000]\n",
      "\n",
      "Comparing model with gridsearch params to initial model on Test set.\n",
      "\n",
      "Stopwords: nltksw, Lemm: wordnet, Stem: porter\n",
      "\n",
      "Gridsearched model acc: 0.776 | pre: 0.725 | rec = 0.873 | f1 = 0.792\n",
      "     Default model acc: 0.677 | pre: 0.606 | rec = 0.967 | f1 = 0.745\n",
      "-------------------------------------------------------\n",
      "\n",
      "Fitting 4 folds for each of 8 candidates, totalling 32 fits\n"
     ]
    },
    {
     "name": "stderr",
     "output_type": "stream",
     "text": [
      "[Parallel(n_jobs=-1)]: Done  32 out of  32 | elapsed:   13.7s finished\n"
     ]
    },
    {
     "name": "stdout",
     "output_type": "stream",
     "text": [
      "\n",
      "Result of gridsearch:\n",
      "Parameter            | Optimal  | Gridsearch values\n",
      "-------------------------------------------------------\n",
      "convert_lyrics__max_features | 1000     | [None, 50, 100, 500, 1000, 5000, 10000, 12000]\n",
      "\n",
      "Comparing model with gridsearch params to initial model on Test set.\n",
      "\n",
      "Stopwords: addsw, Lemm: None, Stem: None\n",
      "\n",
      "Gridsearched model acc: 0.863 | pre: 0.853 | rec = 0.867 | f1 = 0.860\n",
      "     Default model acc: 0.677 | pre: 0.606 | rec = 0.967 | f1 = 0.745\n",
      "-------------------------------------------------------\n",
      "\n",
      "Fitting 4 folds for each of 8 candidates, totalling 32 fits\n"
     ]
    },
    {
     "name": "stderr",
     "output_type": "stream",
     "text": [
      "[Parallel(n_jobs=-1)]: Done  32 out of  32 | elapsed:   13.3s finished\n"
     ]
    },
    {
     "name": "stdout",
     "output_type": "stream",
     "text": [
      "\n",
      "Result of gridsearch:\n",
      "Parameter            | Optimal  | Gridsearch values\n",
      "-------------------------------------------------------\n",
      "convert_lyrics__max_features | 500      | [None, 50, 100, 500, 1000, 5000, 10000, 12000]\n",
      "\n",
      "Comparing model with gridsearch params to initial model on Test set.\n",
      "\n",
      "Stopwords: addsw, Lemm: None, Stem: snowball\n",
      "\n",
      "Gridsearched model acc: 0.795 | pre: 0.764 | rec = 0.840 | f1 = 0.800\n",
      "     Default model acc: 0.677 | pre: 0.606 | rec = 0.967 | f1 = 0.745\n",
      "-------------------------------------------------------\n",
      "\n",
      "Fitting 4 folds for each of 8 candidates, totalling 32 fits\n"
     ]
    },
    {
     "name": "stderr",
     "output_type": "stream",
     "text": [
      "[Parallel(n_jobs=-1)]: Done  32 out of  32 | elapsed:   13.3s finished\n"
     ]
    },
    {
     "name": "stdout",
     "output_type": "stream",
     "text": [
      "\n",
      "Result of gridsearch:\n",
      "Parameter            | Optimal  | Gridsearch values\n",
      "-------------------------------------------------------\n",
      "convert_lyrics__max_features | 500      | [None, 50, 100, 500, 1000, 5000, 10000, 12000]\n",
      "\n",
      "Comparing model with gridsearch params to initial model on Test set.\n",
      "\n",
      "Stopwords: addsw, Lemm: None, Stem: porter\n",
      "\n",
      "Gridsearched model acc: 0.792 | pre: 0.760 | rec = 0.840 | f1 = 0.798\n",
      "     Default model acc: 0.677 | pre: 0.606 | rec = 0.967 | f1 = 0.745\n",
      "-------------------------------------------------------\n",
      "\n",
      "Fitting 4 folds for each of 8 candidates, totalling 32 fits\n"
     ]
    },
    {
     "name": "stderr",
     "output_type": "stream",
     "text": [
      "[Parallel(n_jobs=-1)]: Done  32 out of  32 | elapsed:   13.6s finished\n"
     ]
    },
    {
     "name": "stdout",
     "output_type": "stream",
     "text": [
      "\n",
      "Result of gridsearch:\n",
      "Parameter            | Optimal  | Gridsearch values\n",
      "-------------------------------------------------------\n",
      "convert_lyrics__max_features | 1000     | [None, 50, 100, 500, 1000, 5000, 10000, 12000]\n",
      "\n",
      "Comparing model with gridsearch params to initial model on Test set.\n",
      "\n",
      "Stopwords: addsw, Lemm: wordnet, Stem: None\n",
      "\n",
      "Gridsearched model acc: 0.873 | pre: 0.872 | rec = 0.867 | f1 = 0.870\n",
      "     Default model acc: 0.677 | pre: 0.606 | rec = 0.967 | f1 = 0.745\n",
      "-------------------------------------------------------\n",
      "\n",
      "Fitting 4 folds for each of 8 candidates, totalling 32 fits\n"
     ]
    },
    {
     "name": "stderr",
     "output_type": "stream",
     "text": [
      "[Parallel(n_jobs=-1)]: Done  32 out of  32 | elapsed:   14.0s finished\n"
     ]
    },
    {
     "name": "stdout",
     "output_type": "stream",
     "text": [
      "\n",
      "Result of gridsearch:\n",
      "Parameter            | Optimal  | Gridsearch values\n",
      "-------------------------------------------------------\n",
      "convert_lyrics__max_features | 500      | [None, 50, 100, 500, 1000, 5000, 10000, 12000]\n",
      "\n",
      "Comparing model with gridsearch params to initial model on Test set.\n",
      "\n",
      "Stopwords: addsw, Lemm: wordnet, Stem: snowball\n",
      "\n",
      "Gridsearched model acc: 0.792 | pre: 0.763 | rec = 0.834 | f1 = 0.797\n",
      "     Default model acc: 0.677 | pre: 0.606 | rec = 0.967 | f1 = 0.745\n",
      "-------------------------------------------------------\n",
      "\n",
      "Fitting 4 folds for each of 8 candidates, totalling 32 fits\n"
     ]
    },
    {
     "name": "stderr",
     "output_type": "stream",
     "text": [
      "[Parallel(n_jobs=-1)]: Done  32 out of  32 | elapsed:   15.1s finished\n"
     ]
    },
    {
     "name": "stdout",
     "output_type": "stream",
     "text": [
      "\n",
      "Result of gridsearch:\n",
      "Parameter            | Optimal  | Gridsearch values\n",
      "-------------------------------------------------------\n",
      "convert_lyrics__max_features | 500      | [None, 50, 100, 500, 1000, 5000, 10000, 12000]\n",
      "\n",
      "Comparing model with gridsearch params to initial model on Test set.\n",
      "\n",
      "Stopwords: addsw, Lemm: wordnet, Stem: porter\n",
      "\n",
      "Gridsearched model acc: 0.792 | pre: 0.760 | rec = 0.840 | f1 = 0.798\n",
      "     Default model acc: 0.677 | pre: 0.606 | rec = 0.967 | f1 = 0.745\n",
      "-------------------------------------------------------\n",
      "\n",
      "Fitting 4 folds for each of 8 candidates, totalling 32 fits\n"
     ]
    },
    {
     "name": "stderr",
     "output_type": "stream",
     "text": [
      "[Parallel(n_jobs=-1)]: Done  32 out of  32 | elapsed:   10.1s finished\n"
     ]
    },
    {
     "name": "stdout",
     "output_type": "stream",
     "text": [
      "\n",
      "Result of gridsearch:\n",
      "Parameter            | Optimal  | Gridsearch values\n",
      "-------------------------------------------------------\n",
      "convert_lyrics__max_features | 500      | [None, 50, 100, 500, 1000, 5000, 10000, 12000]\n",
      "\n",
      "Comparing model with gridsearch params to initial model on Test set.\n",
      "\n",
      "Stopwords: allsw, Lemm: None, Stem: None\n",
      "\n",
      "Gridsearched model acc: 0.819 | pre: 0.754 | rec = 0.934 | f1 = 0.835\n",
      "     Default model acc: 0.677 | pre: 0.606 | rec = 0.967 | f1 = 0.745\n",
      "-------------------------------------------------------\n",
      "\n",
      "Fitting 4 folds for each of 8 candidates, totalling 32 fits\n"
     ]
    },
    {
     "name": "stderr",
     "output_type": "stream",
     "text": [
      "[Parallel(n_jobs=-1)]: Done  32 out of  32 | elapsed:    7.5s finished\n"
     ]
    },
    {
     "name": "stdout",
     "output_type": "stream",
     "text": [
      "\n",
      "Result of gridsearch:\n",
      "Parameter            | Optimal  | Gridsearch values\n",
      "-------------------------------------------------------\n",
      "convert_lyrics__max_features | 500      | [None, 50, 100, 500, 1000, 5000, 10000, 12000]\n",
      "\n",
      "Comparing model with gridsearch params to initial model on Test set.\n",
      "\n",
      "Stopwords: allsw, Lemm: None, Stem: snowball\n",
      "\n",
      "Gridsearched model acc: 0.784 | pre: 0.717 | rec = 0.923 | f1 = 0.807\n",
      "     Default model acc: 0.677 | pre: 0.606 | rec = 0.967 | f1 = 0.745\n",
      "-------------------------------------------------------\n",
      "\n",
      "Fitting 4 folds for each of 8 candidates, totalling 32 fits\n"
     ]
    },
    {
     "name": "stderr",
     "output_type": "stream",
     "text": [
      "[Parallel(n_jobs=-1)]: Done  32 out of  32 | elapsed:    7.3s finished\n"
     ]
    },
    {
     "name": "stdout",
     "output_type": "stream",
     "text": [
      "\n",
      "Result of gridsearch:\n",
      "Parameter            | Optimal  | Gridsearch values\n",
      "-------------------------------------------------------\n",
      "convert_lyrics__max_features | 500      | [None, 50, 100, 500, 1000, 5000, 10000, 12000]\n",
      "\n",
      "Comparing model with gridsearch params to initial model on Test set.\n",
      "\n",
      "Stopwords: allsw, Lemm: None, Stem: porter\n",
      "\n",
      "Gridsearched model acc: 0.765 | pre: 0.697 | rec = 0.917 | f1 = 0.792\n",
      "     Default model acc: 0.677 | pre: 0.606 | rec = 0.967 | f1 = 0.745\n",
      "-------------------------------------------------------\n",
      "\n",
      "Fitting 4 folds for each of 8 candidates, totalling 32 fits\n"
     ]
    },
    {
     "name": "stderr",
     "output_type": "stream",
     "text": [
      "[Parallel(n_jobs=-1)]: Done  32 out of  32 | elapsed:    7.7s finished\n"
     ]
    },
    {
     "name": "stdout",
     "output_type": "stream",
     "text": [
      "\n",
      "Result of gridsearch:\n",
      "Parameter            | Optimal  | Gridsearch values\n",
      "-------------------------------------------------------\n",
      "convert_lyrics__max_features | 500      | [None, 50, 100, 500, 1000, 5000, 10000, 12000]\n",
      "\n",
      "Comparing model with gridsearch params to initial model on Test set.\n",
      "\n",
      "Stopwords: allsw, Lemm: wordnet, Stem: None\n",
      "\n",
      "Gridsearched model acc: 0.830 | pre: 0.768 | rec = 0.934 | f1 = 0.843\n",
      "     Default model acc: 0.677 | pre: 0.606 | rec = 0.967 | f1 = 0.745\n",
      "-------------------------------------------------------\n",
      "\n",
      "Fitting 4 folds for each of 8 candidates, totalling 32 fits\n"
     ]
    },
    {
     "name": "stderr",
     "output_type": "stream",
     "text": [
      "[Parallel(n_jobs=-1)]: Done  32 out of  32 | elapsed:    7.5s finished\n"
     ]
    },
    {
     "name": "stdout",
     "output_type": "stream",
     "text": [
      "\n",
      "Result of gridsearch:\n",
      "Parameter            | Optimal  | Gridsearch values\n",
      "-------------------------------------------------------\n",
      "convert_lyrics__max_features | 500      | [None, 50, 100, 500, 1000, 5000, 10000, 12000]\n",
      "\n",
      "Comparing model with gridsearch params to initial model on Test set.\n",
      "\n",
      "Stopwords: allsw, Lemm: wordnet, Stem: snowball\n",
      "\n",
      "Gridsearched model acc: 0.784 | pre: 0.717 | rec = 0.923 | f1 = 0.807\n",
      "     Default model acc: 0.677 | pre: 0.606 | rec = 0.967 | f1 = 0.745\n",
      "-------------------------------------------------------\n",
      "\n",
      "Fitting 4 folds for each of 8 candidates, totalling 32 fits\n"
     ]
    },
    {
     "name": "stderr",
     "output_type": "stream",
     "text": [
      "[Parallel(n_jobs=-1)]: Done  32 out of  32 | elapsed:    7.5s finished\n"
     ]
    },
    {
     "name": "stdout",
     "output_type": "stream",
     "text": [
      "\n",
      "Result of gridsearch:\n",
      "Parameter            | Optimal  | Gridsearch values\n",
      "-------------------------------------------------------\n",
      "convert_lyrics__max_features | 5000     | [None, 50, 100, 500, 1000, 5000, 10000, 12000]\n",
      "\n",
      "Comparing model with gridsearch params to initial model on Test set.\n",
      "\n",
      "Stopwords: allsw, Lemm: wordnet, Stem: porter\n",
      "\n",
      "Gridsearched model acc: 0.876 | pre: 0.808 | rec = 0.978 | f1 = 0.885\n",
      "     Default model acc: 0.677 | pre: 0.606 | rec = 0.967 | f1 = 0.745\n",
      "-------------------------------------------------------\n",
      "\n",
      "Fitting 4 folds for each of 8 candidates, totalling 32 fits\n"
     ]
    },
    {
     "name": "stderr",
     "output_type": "stream",
     "text": [
      "[Parallel(n_jobs=-1)]: Done  32 out of  32 | elapsed:   14.3s finished\n"
     ]
    },
    {
     "name": "stdout",
     "output_type": "stream",
     "text": [
      "\n",
      "Result of gridsearch:\n",
      "Parameter            | Optimal  | Gridsearch values\n",
      "-------------------------------------------------------\n",
      "convert_lyrics__max_features | 1000     | [None, 50, 100, 500, 1000, 5000, 10000, 12000]\n",
      "\n",
      "Comparing model with gridsearch params to initial model on Test set.\n",
      "\n",
      "Stopwords: sw_none, Lemm: None, Stem: None\n",
      "\n",
      "Gridsearched model acc: 0.871 | pre: 0.859 | rec = 0.878 | f1 = 0.869\n",
      "     Default model acc: 0.677 | pre: 0.606 | rec = 0.967 | f1 = 0.745\n",
      "-------------------------------------------------------\n",
      "\n",
      "Fitting 4 folds for each of 8 candidates, totalling 32 fits\n"
     ]
    },
    {
     "name": "stderr",
     "output_type": "stream",
     "text": [
      "[Parallel(n_jobs=-1)]: Done  32 out of  32 | elapsed:   14.7s finished\n"
     ]
    },
    {
     "name": "stdout",
     "output_type": "stream",
     "text": [
      "\n",
      "Result of gridsearch:\n",
      "Parameter            | Optimal  | Gridsearch values\n",
      "-------------------------------------------------------\n",
      "convert_lyrics__max_features | 500      | [None, 50, 100, 500, 1000, 5000, 10000, 12000]\n",
      "\n",
      "Comparing model with gridsearch params to initial model on Test set.\n",
      "\n",
      "Stopwords: sw_none, Lemm: None, Stem: snowball\n",
      "\n",
      "Gridsearched model acc: 0.809 | pre: 0.775 | rec = 0.856 | f1 = 0.814\n",
      "     Default model acc: 0.677 | pre: 0.606 | rec = 0.967 | f1 = 0.745\n",
      "-------------------------------------------------------\n",
      "\n",
      "Fitting 4 folds for each of 8 candidates, totalling 32 fits\n"
     ]
    },
    {
     "name": "stderr",
     "output_type": "stream",
     "text": [
      "[Parallel(n_jobs=-1)]: Done  32 out of  32 | elapsed:   15.0s finished\n"
     ]
    },
    {
     "name": "stdout",
     "output_type": "stream",
     "text": [
      "\n",
      "Result of gridsearch:\n",
      "Parameter            | Optimal  | Gridsearch values\n",
      "-------------------------------------------------------\n",
      "convert_lyrics__max_features | 1000     | [None, 50, 100, 500, 1000, 5000, 10000, 12000]\n",
      "\n",
      "Comparing model with gridsearch params to initial model on Test set.\n",
      "\n",
      "Stopwords: sw_none, Lemm: None, Stem: porter\n",
      "\n",
      "Gridsearched model acc: 0.841 | pre: 0.818 | rec = 0.867 | f1 = 0.842\n",
      "     Default model acc: 0.677 | pre: 0.606 | rec = 0.967 | f1 = 0.745\n",
      "-------------------------------------------------------\n",
      "\n",
      "Fitting 4 folds for each of 8 candidates, totalling 32 fits\n"
     ]
    },
    {
     "name": "stderr",
     "output_type": "stream",
     "text": [
      "[Parallel(n_jobs=-1)]: Done  32 out of  32 | elapsed:   14.4s finished\n"
     ]
    },
    {
     "name": "stdout",
     "output_type": "stream",
     "text": [
      "\n",
      "Result of gridsearch:\n",
      "Parameter            | Optimal  | Gridsearch values\n",
      "-------------------------------------------------------\n",
      "convert_lyrics__max_features | 1000     | [None, 50, 100, 500, 1000, 5000, 10000, 12000]\n",
      "\n",
      "Comparing model with gridsearch params to initial model on Test set.\n",
      "\n",
      "Stopwords: sw_none, Lemm: wordnet, Stem: None\n",
      "\n",
      "Gridsearched model acc: 0.876 | pre: 0.877 | rec = 0.867 | f1 = 0.872\n",
      "     Default model acc: 0.677 | pre: 0.606 | rec = 0.967 | f1 = 0.745\n",
      "-------------------------------------------------------\n",
      "\n",
      "Fitting 4 folds for each of 8 candidates, totalling 32 fits\n"
     ]
    },
    {
     "name": "stderr",
     "output_type": "stream",
     "text": [
      "[Parallel(n_jobs=-1)]: Done  32 out of  32 | elapsed:   14.8s finished\n"
     ]
    },
    {
     "name": "stdout",
     "output_type": "stream",
     "text": [
      "\n",
      "Result of gridsearch:\n",
      "Parameter            | Optimal  | Gridsearch values\n",
      "-------------------------------------------------------\n",
      "convert_lyrics__max_features | 500      | [None, 50, 100, 500, 1000, 5000, 10000, 12000]\n",
      "\n",
      "Comparing model with gridsearch params to initial model on Test set.\n",
      "\n",
      "Stopwords: sw_none, Lemm: wordnet, Stem: snowball\n",
      "\n",
      "Gridsearched model acc: 0.811 | pre: 0.785 | rec = 0.845 | f1 = 0.814\n",
      "     Default model acc: 0.677 | pre: 0.606 | rec = 0.967 | f1 = 0.745\n",
      "-------------------------------------------------------\n",
      "\n",
      "Fitting 4 folds for each of 8 candidates, totalling 32 fits\n"
     ]
    },
    {
     "name": "stderr",
     "output_type": "stream",
     "text": [
      "[Parallel(n_jobs=-1)]: Done  32 out of  32 | elapsed:   14.2s finished\n"
     ]
    },
    {
     "name": "stdout",
     "output_type": "stream",
     "text": [
      "\n",
      "Result of gridsearch:\n",
      "Parameter            | Optimal  | Gridsearch values\n",
      "-------------------------------------------------------\n",
      "convert_lyrics__max_features | 1000     | [None, 50, 100, 500, 1000, 5000, 10000, 12000]\n",
      "\n",
      "Comparing model with gridsearch params to initial model on Test set.\n",
      "\n",
      "Stopwords: sw_none, Lemm: wordnet, Stem: porter\n",
      "\n",
      "Gridsearched model acc: 0.836 | pre: 0.812 | rec = 0.862 | f1 = 0.836\n",
      "     Default model acc: 0.677 | pre: 0.606 | rec = 0.967 | f1 = 0.745\n",
      "-------------------------------------------------------\n",
      "\n"
     ]
    }
   ],
   "source": [
    "lyrics_gridsearch(full_dataset, combs_list)"
   ]
  },
  {
   "cell_type": "code",
   "execution_count": null,
   "metadata": {},
   "outputs": [],
   "source": []
  }
 ],
 "metadata": {
  "kernelspec": {
   "display_name": "Python 3",
   "language": "python",
   "name": "python3"
  },
  "language_info": {
   "codemirror_mode": {
    "name": "ipython",
    "version": 3
   },
   "file_extension": ".py",
   "mimetype": "text/x-python",
   "name": "python",
   "nbconvert_exporter": "python",
   "pygments_lexer": "ipython3",
   "version": "3.6.5"
  }
 },
 "nbformat": 4,
 "nbformat_minor": 2
}
