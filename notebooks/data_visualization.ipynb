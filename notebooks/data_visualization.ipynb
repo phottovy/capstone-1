{
 "cells": [
  {
   "cell_type": "code",
   "execution_count": 17,
   "metadata": {},
   "outputs": [],
   "source": [
    "import numpy as np\n",
    "import pandas as pd\n",
    "import matplotlib.pyplot as plt\n",
    "from numpy.random import randn\n",
    "import seaborn as sns\n",
    "import matplotlib as mpl\n",
    "%matplotlib inline"
   ]
  },
  {
   "cell_type": "code",
   "execution_count": 124,
   "metadata": {},
   "outputs": [],
   "source": [
    "from numpy.random import randn\n",
    "import seaborn as sns\n",
    "import matplotlib as mpl\n",
    "from tabulate import tabulate\n",
    "import six\n",
    "from sklearn.feature_extraction.text import CountVectorizer\n",
    "from sklearn.feature_extraction.text import TfidfTransformer, TfidfVectorizer\n",
    "from nltk.corpus import stopwords\n",
    "import string"
   ]
  },
  {
   "cell_type": "code",
   "execution_count": 127,
   "metadata": {},
   "outputs": [],
   "source": [
    "plt.style.use('seaborn')\n",
    "plt.rcParams[\"patch.force_edgecolor\"] = True"
   ]
  },
  {
   "cell_type": "code",
   "execution_count": 128,
   "metadata": {},
   "outputs": [
    {
     "data": {
      "text/html": [
       "<div>\n",
       "<style scoped>\n",
       "    .dataframe tbody tr th:only-of-type {\n",
       "        vertical-align: middle;\n",
       "    }\n",
       "\n",
       "    .dataframe tbody tr th {\n",
       "        vertical-align: top;\n",
       "    }\n",
       "\n",
       "    .dataframe thead th {\n",
       "        text-align: right;\n",
       "    }\n",
       "</style>\n",
       "<table border=\"1\" class=\"dataframe\">\n",
       "  <thead>\n",
       "    <tr style=\"text-align: right;\">\n",
       "      <th></th>\n",
       "      <th>Band</th>\n",
       "      <th>Lyrics</th>\n",
       "      <th>Song</th>\n",
       "      <th>Test_Artist</th>\n",
       "    </tr>\n",
       "  </thead>\n",
       "  <tbody>\n",
       "    <tr>\n",
       "      <th>0</th>\n",
       "      <td>Bob Dylan</td>\n",
       "      <td>Go 'way from my window,\\r\\nLeave at your own c...</td>\n",
       "      <td>It Ain't Me Babe</td>\n",
       "      <td>1</td>\n",
       "    </tr>\n",
       "    <tr>\n",
       "      <th>1</th>\n",
       "      <td>Rick Astley</td>\n",
       "      <td>We're no strangers to love\\r\\nYou know the rul...</td>\n",
       "      <td>Never Gonna Give You Up</td>\n",
       "      <td>0</td>\n",
       "    </tr>\n",
       "  </tbody>\n",
       "</table>\n",
       "</div>"
      ],
      "text/plain": [
       "          Band                                             Lyrics  \\\n",
       "0    Bob Dylan  Go 'way from my window,\\r\\nLeave at your own c...   \n",
       "1  Rick Astley  We're no strangers to love\\r\\nYou know the rul...   \n",
       "\n",
       "                      Song  Test_Artist  \n",
       "0         It Ain't Me Babe            1  \n",
       "1  Never Gonna Give You Up            0  "
      ]
     },
     "execution_count": 128,
     "metadata": {},
     "output_type": "execute_result"
    }
   ],
   "source": [
    "demo_df = pd.read_csv('data/demo_df.csv')\n",
    "demo_df"
   ]
  },
  {
   "cell_type": "code",
   "execution_count": 129,
   "metadata": {},
   "outputs": [],
   "source": [
    "demo_df2 = demo_df.copy()"
   ]
  },
  {
   "cell_type": "code",
   "execution_count": 130,
   "metadata": {},
   "outputs": [],
   "source": [
    "demo_df2['Lyrics'] = 1"
   ]
  },
  {
   "cell_type": "code",
   "execution_count": 131,
   "metadata": {},
   "outputs": [
    {
     "name": "stdout",
     "output_type": "stream",
     "text": [
      "| Band        |   Lyrics | Song                    |   Test_Artist |\n",
      "|:------------|---------:|:------------------------|--------------:|\n",
      "| Bob Dylan   |        1 | It Ain't Me Babe        |             1 |\n",
      "| Rick Astley |        1 | Never Gonna Give You Up |             0 |\n"
     ]
    }
   ],
   "source": [
    "print(tabulate(demo_df2, headers=demo_df.columns, tablefmt='pipe', showindex=False))"
   ]
  },
  {
   "cell_type": "code",
   "execution_count": 132,
   "metadata": {},
   "outputs": [],
   "source": [
    "def render_mpl_df_table(data, col_width=3.0, row_height=0.625, font_size=14,\n",
    "                     header_color='#40466e', row_colors=['#f1f1f2', 'w'], edge_color='w',\n",
    "                     bbox=[0, 0, 1, 1], header_columns=0,\n",
    "                     ax=None, **kwargs):\n",
    "    if ax is None:\n",
    "        size = (np.array(data.shape[::-1]) + np.array([0, 1])) * np.array([col_width, row_height])\n",
    "        fig, ax = plt.subplots(figsize=size)\n",
    "        ax.axis('off')\n",
    "\n",
    "    mpl_table = ax.table(cellText=data.values,  bbox=bbox, colLabels=data.columns, **kwargs)\n",
    "\n",
    "    mpl_table.auto_set_font_size(False)\n",
    "    mpl_table.set_fontsize(font_size)\n",
    "    \n",
    "\n",
    "    for k, cell in  six.iteritems(mpl_table._cells):\n",
    "        cell.set_edgecolor(edge_color)\n",
    "        if k[0] == 0 or k[1] < header_columns:\n",
    "            cell.set_text_props(weight='bold', color='w')\n",
    "            cell.set_facecolor(header_color)\n",
    "        else:\n",
    "            cell.set_facecolor(row_colors[k[0]%len(row_colors) ])\n",
    "    \n",
    "    return ax"
   ]
  },
  {
   "cell_type": "code",
   "execution_count": 133,
   "metadata": {},
   "outputs": [
    {
     "data": {
      "text/plain": [
       "<Figure size 576x396 with 0 Axes>"
      ]
     },
     "metadata": {},
     "output_type": "display_data"
    },
    {
     "data": {
      "image/png": "[encoded data removed]",
      "text/plain": [
       "<Figure size 864x135 with 1 Axes>"
      ]
     },
     "metadata": {},
     "output_type": "display_data"
    }
   ],
   "source": [
    "fig = plt.figure()\n",
    "test = render_mpl_df_table(demo_df)\n",
    "# plt.ihow(aspect='auto')\n",
    "# plt.savefig('demo_df.png');"
   ]
  },
  {
   "cell_type": "code",
   "execution_count": 134,
   "metadata": {},
   "outputs": [
    {
     "name": "stdout",
     "output_type": "stream",
     "text": [
      "We're no strangers to love\r\n",
      "You know the rules and so do I\r\n",
      "A full commitment's what I'm thinking of\r\n",
      "You wouldn't get this from any other guy\r\n",
      "\r\n",
      "I just want to tell you how I'm feeling\r\n",
      "Gotta make you understand\r\n",
      "\r\n",
      "[Chorus]\r\n",
      "Never gonna give you up, never gonna let you down\r\n",
      "Never gonna run around and desert you\r\n",
      "Never gonna make you cry, never gonna say goodbye\r\n",
      "Never gonna tell a lie and hurt you\r\n",
      "\r\n",
      "We've known each other for so long\r\n",
      "Your heart's been aching but you're too shy to say it\r\n",
      "Inside we both know what's been going on\r\n",
      "We know the game and we're gonna play it\r\n",
      "\r\n",
      "And if you ask me how I'm feeling\r\n",
      "Don't tell me you're too blind to see\r\n",
      "\r\n",
      "[Chorus: Repeat x2]\r\n",
      "\r\n",
      "(Ooh give you up)\r\n",
      "(Ooh give you up)\r\n",
      "(Ooh) never gonna give, never gonna give (give you up)\r\n",
      "(Ooh) never gonna give, never gonna give (give you up)\r\n",
      "\r\n",
      "We've known each other for so long\r\n",
      "Your heart's been aching but you're too shy to say it\r\n",
      "Inside we both know what's been going on\r\n",
      "We know the game and we're gonna play it\r\n",
      "\r\n",
      "I just want to tell you how I'm feeling\r\n",
      "Gotta make you understand\r\n",
      "\r\n",
      "[Chorus]\n"
     ]
    }
   ],
   "source": [
    "print(demo_df['Lyrics'][1])"
   ]
  },
  {
   "cell_type": "code",
   "execution_count": 135,
   "metadata": {},
   "outputs": [],
   "source": [
    "additional_s_words = [\"aren't\", \"can't\", \"couldn't\", 'did', \"didn't\", 'does', \"doesn't\", 'doing', \"don't\", \"hadn't\",\n",
    "                      \"hasn't\", \"haven't\", 'having', \"he'd\", \"he'll\", \"he's\", \"here's\", \"how's\", \"i'd\", \"i'll\", \"i'm\",\n",
    "                      \"i've\", \"isn't\", \"it's\", \"let's\", \"mustn't\", 'ought', 'ours', 'ourselves', \"shan't\", \"she'd\",\n",
    "                      \"she'll\", \"she's\", \"shouldn't\", \"that's\", 'theirs', \"there's\", \"they'd\", \"they'll\", \"they're\",\n",
    "                      \"they've\", \"wasn't\", \"we'd\", \"we'll\", \"we're\", \"we've\", \"weren't\", \"what's\", \"when's\", \"where's\",\n",
    "                      \"who's\", \"why's\", \"won't\", \"wouldn't\", \"you'd\", \"you'll\", \"you're\", \"you've\"]"
   ]
  },
  {
   "cell_type": "code",
   "execution_count": 136,
   "metadata": {},
   "outputs": [],
   "source": [
    "def lyric_cleanup(lyrics):\n",
    "    '''\n",
    "    1. remove punctuation\n",
    "    2. remove stopwords from nltk.corpus\n",
    "    3. return list of clean word list from lyrics\n",
    "    '''\n",
    "    rm_additional = [word for word in lyrics.split() if word.lower() not in additional_s_words]\n",
    "    rm_additional = ' '.join(rm_additional)\n",
    "    rm_punct = [char for char in rm_additional if char not in string.punctuation]\n",
    "    rm_punct = ''.join(rm_punct)\n",
    "    return [word.lower() for word in rm_punct.split() if word.lower() not in stopwords.words('english')]"
   ]
  },
  {
   "cell_type": "code",
   "execution_count": 137,
   "metadata": {},
   "outputs": [],
   "source": [
    "vectorizer = CountVectorizer\n",
    "demo_vect = vectorizer(analyzer=lyric_cleanup).fit_transform(demo_df['Lyrics'])\n",
    "demo_vect2 = vectorizer(analyzer=lyric_cleanup).fit(demo_df['Lyrics'])\n",
    "demo_vect3 = demo_vect2.transform(demo_df['Lyrics'])"
   ]
  },
  {
   "cell_type": "code",
   "execution_count": 141,
   "metadata": {},
   "outputs": [],
   "source": [
    "demo_columns = demo_vect2.get_feature_names()\n",
    "demo_data = demo_vect.toarray()\n",
    "demo_word_df = pd.DataFrame(data=demo_data, columns=demo_columns)"
   ]
  },
  {
   "cell_type": "markdown",
   "metadata": {},
   "source": [
    "## Top Words chart"
   ]
  },
  {
   "cell_type": "code",
   "execution_count": 183,
   "metadata": {},
   "outputs": [],
   "source": [
    "sum_words = np.asarray(demo_vect3.sum(axis=0)).ravel().tolist()\n",
    "counts_df = pd.DataFrame({'word': demo_vect2.get_feature_names(), 'count': sum_words})\n",
    "demo_count = counts_df.sort_values(by='count', ascending=False).head(20).set_index('word').transpose()\n",
    "demo_count = demo_count.reset_index().rename(columns={'index':''}).drop(['chorus', 'understand'], axis=1)\n",
    "cols = demo_count.columns "
   ]
  },
  {
   "cell_type": "code",
   "execution_count": 184,
   "metadata": {},
   "outputs": [
    {
     "data": {
      "text/html": [
       "<div>\n",
       "<style scoped>\n",
       "    .dataframe tbody tr th:only-of-type {\n",
       "        vertical-align: middle;\n",
       "    }\n",
       "\n",
       "    .dataframe tbody tr th {\n",
       "        vertical-align: top;\n",
       "    }\n",
       "\n",
       "    .dataframe thead th {\n",
       "        text-align: right;\n",
       "    }\n",
       "</style>\n",
       "<table border=\"1\" class=\"dataframe\">\n",
       "  <thead>\n",
       "    <tr style=\"text-align: right;\">\n",
       "      <th>word</th>\n",
       "      <th></th>\n",
       "      <th>babe</th>\n",
       "      <th>never</th>\n",
       "      <th>gonna</th>\n",
       "      <th>aint</th>\n",
       "      <th>give</th>\n",
       "      <th>someone</th>\n",
       "      <th>say</th>\n",
       "      <th>know</th>\n",
       "      <th>lookin</th>\n",
       "      <th>ooh</th>\n",
       "      <th>go</th>\n",
       "      <th>want</th>\n",
       "      <th>tell</th>\n",
       "      <th>one</th>\n",
       "      <th>make</th>\n",
       "      <th>feeling</th>\n",
       "      <th>inside</th>\n",
       "      <th>going</th>\n",
       "    </tr>\n",
       "  </thead>\n",
       "  <tbody>\n",
       "    <tr>\n",
       "      <th>0</th>\n",
       "      <td>count</td>\n",
       "      <td>13</td>\n",
       "      <td>12</td>\n",
       "      <td>12</td>\n",
       "      <td>9</td>\n",
       "      <td>9</td>\n",
       "      <td>7</td>\n",
       "      <td>6</td>\n",
       "      <td>5</td>\n",
       "      <td>5</td>\n",
       "      <td>4</td>\n",
       "      <td>4</td>\n",
       "      <td>4</td>\n",
       "      <td>4</td>\n",
       "      <td>3</td>\n",
       "      <td>3</td>\n",
       "      <td>3</td>\n",
       "      <td>3</td>\n",
       "      <td>2</td>\n",
       "    </tr>\n",
       "  </tbody>\n",
       "</table>\n",
       "</div>"
      ],
      "text/plain": [
       "word         babe  never  gonna  aint  give  someone  say  know  lookin  ooh  \\\n",
       "0     count    13     12     12     9     9        7    6     5       5    4   \n",
       "\n",
       "word  go  want  tell  one  make  feeling  inside  going  \n",
       "0      4     4     4    3     3        3       3      2  "
      ]
     },
     "execution_count": 184,
     "metadata": {},
     "output_type": "execute_result"
    }
   ],
   "source": [
    "# print(tabulate(demo_count, headers=cols, tablefmt='pipe', showindex=False))\n",
    "demo_count"
   ]
  },
  {
   "cell_type": "code",
   "execution_count": 185,
   "metadata": {},
   "outputs": [],
   "source": [
    "demo_bow = demo_word_df[['gonna','never','babe','give', 'want']]\n",
    "demo_bow.insert(0, value=['Bob Dylan', 'Rick Astley'], column='')\n",
    "demo_bow.insert(1, value=[True, False], column='BD/NotBD')\n",
    "cols = demo_bow.columns"
   ]
  },
  {
   "cell_type": "code",
   "execution_count": 188,
   "metadata": {},
   "outputs": [
    {
     "data": {
      "text/html": [
       "<div>\n",
       "<style scoped>\n",
       "    .dataframe tbody tr th:only-of-type {\n",
       "        vertical-align: middle;\n",
       "    }\n",
       "\n",
       "    .dataframe tbody tr th {\n",
       "        vertical-align: top;\n",
       "    }\n",
       "\n",
       "    .dataframe thead th {\n",
       "        text-align: right;\n",
       "    }\n",
       "</style>\n",
       "<table border=\"1\" class=\"dataframe\">\n",
       "  <thead>\n",
       "    <tr style=\"text-align: right;\">\n",
       "      <th></th>\n",
       "      <th></th>\n",
       "      <th>BD/NotBD</th>\n",
       "      <th>gonna</th>\n",
       "      <th>never</th>\n",
       "      <th>babe</th>\n",
       "      <th>give</th>\n",
       "      <th>want</th>\n",
       "    </tr>\n",
       "  </thead>\n",
       "  <tbody>\n",
       "    <tr>\n",
       "      <th>0</th>\n",
       "      <td>Bob Dylan</td>\n",
       "      <td>True</td>\n",
       "      <td>0</td>\n",
       "      <td>2</td>\n",
       "      <td>13</td>\n",
       "      <td>0</td>\n",
       "      <td>2</td>\n",
       "    </tr>\n",
       "    <tr>\n",
       "      <th>1</th>\n",
       "      <td>Rick Astley</td>\n",
       "      <td>False</td>\n",
       "      <td>12</td>\n",
       "      <td>10</td>\n",
       "      <td>0</td>\n",
       "      <td>9</td>\n",
       "      <td>2</td>\n",
       "    </tr>\n",
       "  </tbody>\n",
       "</table>\n",
       "</div>"
      ],
      "text/plain": [
       "                BD/NotBD  gonna  never  babe  give  want\n",
       "0    Bob Dylan      True      0      2    13     0     2\n",
       "1  Rick Astley     False     12     10     0     9     2"
      ]
     },
     "execution_count": 188,
     "metadata": {},
     "output_type": "execute_result"
    }
   ],
   "source": [
    "# print(tabulate(demo_bow, headers=cols, tablefmt='pipe', showindex=False))\n",
    "demo_bow"
   ]
  },
  {
   "cell_type": "code",
   "execution_count": 189,
   "metadata": {},
   "outputs": [],
   "source": [
    "def render_mpl_table(data, col_width=3.0, row_height=0.625, font_size=14,\n",
    "                     header_color='#40466e', row_colors=['#f1f1f2', 'w'], edge_color='w',\n",
    "                     bbox=[0, 0, 1, 1], header_columns=0,\n",
    "                     ax=None, **kwargs):\n",
    "    if ax is None:\n",
    "        size = (np.array(data.shape[::-1]) + np.array([-13, 1])) * np.array([col_width, row_height])\n",
    "        fig, ax = plt.subplots(figsize=size)\n",
    "        ax.axis('off')\n",
    "\n",
    "    mpl_table = ax.table(cellText=data.values,  bbox=bbox, colLabels=data.columns, **kwargs)\n",
    "\n",
    "    mpl_table.auto_set_font_size(False)\n",
    "    mpl_table.set_fontsize(font_size)\n",
    "    \n",
    "\n",
    "    for k, cell in  six.iteritems(mpl_table._cells):\n",
    "        cell.set_edgecolor(edge_color)\n",
    "        if k[0] == 0 or k[1] < header_columns:\n",
    "            cell.set_text_props(weight='bold', color='w')\n",
    "            cell.set_facecolor(header_color)\n",
    "        else:\n",
    "            cell.set_facecolor(row_colors[k[0]%len(row_colors) ])\n",
    "    return ax"
   ]
  },
  {
   "cell_type": "markdown",
   "metadata": {},
   "source": [
    "## Top Words chart"
   ]
  },
  {
   "cell_type": "code",
   "execution_count": 190,
   "metadata": {},
   "outputs": [],
   "source": [
    "# fig = plt.figure()\n",
    "# test = render_mpl_table(demo_count, header_columns=1)\n",
    "# plt.savefig('bow_count.png');"
   ]
  },
  {
   "cell_type": "code",
   "execution_count": 191,
   "metadata": {},
   "outputs": [],
   "source": [
    "# fig = plt.figure()\n",
    "# test = render_mpl_table(demo_bow, header_columns=2)\n",
    "# plt.savefig('demo_bow.png');"
   ]
  },
  {
   "cell_type": "code",
   "execution_count": 192,
   "metadata": {},
   "outputs": [],
   "source": [
    "# demo_vect = vectorizer(analyzer=lyric_cleanup).fit_transform(demo_df['Lyrics'])\n",
    "# demo_vect2 = vectorizer(analyzer=lyric_cleanup).fit(demo_df['Lyrics'])\n",
    "# demo_vect3 = demo_vect2.transform(demo_df['Lyrics'])\n",
    "# demo_columns = demo_vect2.get_feature_names()\n",
    "# demo_data = demo_vect.toarray()"
   ]
  },
  {
   "cell_type": "code",
   "execution_count": 193,
   "metadata": {},
   "outputs": [],
   "source": [
    "tfidf_transformer = TfidfTransformer().fit(demo_vect3)\n",
    "lyrics_tfidf = tfidf_transformer.transform(demo_vect3)\n",
    "lyrics_features = TfidfVectorizer(analyzer=lyric_cleanup).fit(demo_df['Lyrics'])"
   ]
  },
  {
   "cell_type": "code",
   "execution_count": 194,
   "metadata": {},
   "outputs": [
    {
     "data": {
      "text/html": [
       "<div>\n",
       "<style scoped>\n",
       "    .dataframe tbody tr th:only-of-type {\n",
       "        vertical-align: middle;\n",
       "    }\n",
       "\n",
       "    .dataframe tbody tr th {\n",
       "        vertical-align: top;\n",
       "    }\n",
       "\n",
       "    .dataframe thead th {\n",
       "        text-align: right;\n",
       "    }\n",
       "</style>\n",
       "<table border=\"1\" class=\"dataframe\">\n",
       "  <thead>\n",
       "    <tr style=\"text-align: right;\">\n",
       "      <th></th>\n",
       "      <th>word</th>\n",
       "      <th>weight</th>\n",
       "    </tr>\n",
       "  </thead>\n",
       "  <tbody>\n",
       "    <tr>\n",
       "      <th>7</th>\n",
       "      <td>babe</td>\n",
       "      <td>0.317690</td>\n",
       "    </tr>\n",
       "    <tr>\n",
       "      <th>35</th>\n",
       "      <td>gonna</td>\n",
       "      <td>0.289772</td>\n",
       "    </tr>\n",
       "    <tr>\n",
       "      <th>1</th>\n",
       "      <td>aint</td>\n",
       "      <td>0.219940</td>\n",
       "    </tr>\n",
       "    <tr>\n",
       "      <th>32</th>\n",
       "      <td>give</td>\n",
       "      <td>0.217329</td>\n",
       "    </tr>\n",
       "    <tr>\n",
       "      <th>62</th>\n",
       "      <td>never</td>\n",
       "      <td>0.206588</td>\n",
       "    </tr>\n",
       "    <tr>\n",
       "      <th>80</th>\n",
       "      <td>someone</td>\n",
       "      <td>0.171064</td>\n",
       "    </tr>\n",
       "    <tr>\n",
       "      <th>53</th>\n",
       "      <td>lookin</td>\n",
       "      <td>0.122189</td>\n",
       "    </tr>\n",
       "    <tr>\n",
       "      <th>44</th>\n",
       "      <td>know</td>\n",
       "      <td>0.120738</td>\n",
       "    </tr>\n",
       "    <tr>\n",
       "      <th>77</th>\n",
       "      <td>say</td>\n",
       "      <td>0.103707</td>\n",
       "    </tr>\n",
       "    <tr>\n",
       "      <th>33</th>\n",
       "      <td>go</td>\n",
       "      <td>0.097751</td>\n",
       "    </tr>\n",
       "    <tr>\n",
       "      <th>66</th>\n",
       "      <td>ooh</td>\n",
       "      <td>0.096591</td>\n",
       "    </tr>\n",
       "    <tr>\n",
       "      <th>85</th>\n",
       "      <td>tell</td>\n",
       "      <td>0.096591</td>\n",
       "    </tr>\n",
       "    <tr>\n",
       "      <th>65</th>\n",
       "      <td>one</td>\n",
       "      <td>0.073313</td>\n",
       "    </tr>\n",
       "    <tr>\n",
       "      <th>26</th>\n",
       "      <td>feeling</td>\n",
       "      <td>0.072443</td>\n",
       "    </tr>\n",
       "    <tr>\n",
       "      <th>58</th>\n",
       "      <td>make</td>\n",
       "      <td>0.072443</td>\n",
       "    </tr>\n",
       "    <tr>\n",
       "      <th>11</th>\n",
       "      <td>chorus</td>\n",
       "      <td>0.072443</td>\n",
       "    </tr>\n",
       "    <tr>\n",
       "      <th>89</th>\n",
       "      <td>want</td>\n",
       "      <td>0.069138</td>\n",
       "    </tr>\n",
       "    <tr>\n",
       "      <th>43</th>\n",
       "      <td>inside</td>\n",
       "      <td>0.051750</td>\n",
       "    </tr>\n",
       "    <tr>\n",
       "      <th>87</th>\n",
       "      <td>time</td>\n",
       "      <td>0.048875</td>\n",
       "    </tr>\n",
       "    <tr>\n",
       "      <th>13</th>\n",
       "      <td>close</td>\n",
       "      <td>0.048875</td>\n",
       "    </tr>\n",
       "  </tbody>\n",
       "</table>\n",
       "</div>"
      ],
      "text/plain": [
       "       word    weight\n",
       "7      babe  0.317690\n",
       "35    gonna  0.289772\n",
       "1      aint  0.219940\n",
       "32     give  0.217329\n",
       "62    never  0.206588\n",
       "80  someone  0.171064\n",
       "53   lookin  0.122189\n",
       "44     know  0.120738\n",
       "77      say  0.103707\n",
       "33       go  0.097751\n",
       "66      ooh  0.096591\n",
       "85     tell  0.096591\n",
       "65      one  0.073313\n",
       "26  feeling  0.072443\n",
       "58     make  0.072443\n",
       "11   chorus  0.072443\n",
       "89     want  0.069138\n",
       "43   inside  0.051750\n",
       "87     time  0.048875\n",
       "13    close  0.048875"
      ]
     },
     "execution_count": 194,
     "metadata": {},
     "output_type": "execute_result"
    }
   ],
   "source": [
    "tfidf_weights = TfidfTransformer().fit_transform(demo_vect3)\n",
    "weights = np.asarray(tfidf_weights.mean(axis=0)).ravel().tolist()\n",
    "weights_df = pd.DataFrame({'word': demo_vect2.get_feature_names(), 'weight': weights})\n",
    "weights_df.sort_values(by='weight', ascending=False).head(20)"
   ]
  },
  {
   "cell_type": "code",
   "execution_count": 205,
   "metadata": {},
   "outputs": [],
   "source": [
    "float_formatter = lambda x: f\"{x:.4f}\"\n",
    "np.set_printoptions(formatter={'float_kind':float_formatter})\n",
    "weighted_demo_data = lyrics_tfidf.toarray()\n",
    "weighted_demo_cols = lyrics_features.get_feature_names()\n",
    "pd.options.display.float_format = '{0:.2%}'.format\n",
    "weighted_demo_word_df = pd.DataFrame(data=weighted_demo_data, columns=weighted_demo_cols)\n",
    "demo_tfidf = weighted_demo_word_df[['gonna','never','babe','give', 'want']]\n",
    "demo_tfidf.insert(0, value=['Bob Dylan', 'Rick Astley'], column='')\n",
    "demo_tfidf.insert(1, value=['True', 'False'], column='BD/NotBD')"
   ]
  },
  {
   "cell_type": "code",
   "execution_count": 212,
   "metadata": {},
   "outputs": [
    {
     "data": {
      "text/html": [
       "<div>\n",
       "<style scoped>\n",
       "    .dataframe tbody tr th:only-of-type {\n",
       "        vertical-align: middle;\n",
       "    }\n",
       "\n",
       "    .dataframe tbody tr th {\n",
       "        vertical-align: top;\n",
       "    }\n",
       "\n",
       "    .dataframe thead th {\n",
       "        text-align: right;\n",
       "    }\n",
       "</style>\n",
       "<table border=\"1\" class=\"dataframe\">\n",
       "  <thead>\n",
       "    <tr style=\"text-align: right;\">\n",
       "      <th></th>\n",
       "      <th></th>\n",
       "      <th>BD/NotBD</th>\n",
       "      <th>gonna</th>\n",
       "      <th>never</th>\n",
       "      <th>babe</th>\n",
       "      <th>give</th>\n",
       "      <th>want</th>\n",
       "    </tr>\n",
       "  </thead>\n",
       "  <tbody>\n",
       "    <tr>\n",
       "      <th>0</th>\n",
       "      <td>Bob Dylan</td>\n",
       "      <td>True</td>\n",
       "      <td>0.00%</td>\n",
       "      <td>6.96%</td>\n",
       "      <td>63.54%</td>\n",
       "      <td>0.00%</td>\n",
       "      <td>6.96%</td>\n",
       "    </tr>\n",
       "    <tr>\n",
       "      <th>1</th>\n",
       "      <td>Rick Astley</td>\n",
       "      <td>False</td>\n",
       "      <td>57.95%</td>\n",
       "      <td>34.36%</td>\n",
       "      <td>0.00%</td>\n",
       "      <td>43.47%</td>\n",
       "      <td>6.87%</td>\n",
       "    </tr>\n",
       "  </tbody>\n",
       "</table>\n",
       "</div>"
      ],
      "text/plain": [
       "               BD/NotBD  gonna  never   babe   give  want\n",
       "0    Bob Dylan     True  0.00%  6.96% 63.54%  0.00% 6.96%\n",
       "1  Rick Astley    False 57.95% 34.36%  0.00% 43.47% 6.87%"
      ]
     },
     "execution_count": 212,
     "metadata": {},
     "output_type": "execute_result"
    }
   ],
   "source": [
    "# print(tabulate(demo_tfidf, headers=cols, tablefmt='pipe', showindex=False, floatfmt='%'))\n",
    "demo_tfidf"
   ]
  },
  {
   "cell_type": "code",
   "execution_count": 46,
   "metadata": {},
   "outputs": [],
   "source": [
    "def render_mpl_table_percent(data, col_width=3.0, row_height=0.625, font_size=14,\n",
    "                     header_color='#40466e', row_colors=['#f1f1f2', 'w'], edge_color='w',\n",
    "                     bbox=[0, 0, 1, 1], header_columns=0,\n",
    "                     ax=None, **kwargs):\n",
    "    if ax is None:\n",
    "        size = (np.array(data.shape[::-1]) + np.array([-2, 1])) * np.array([col_width, row_height])\n",
    "        fig, ax = plt.subplots(figsize=size)\n",
    "        ax.axis('off')\n",
    "\n",
    "    fmt = data.values    \n",
    "    fmt2 = []\n",
    "    for i in fmt:\n",
    "        for j in i:\n",
    "            if isinstance(j, str) or isinstance(j, bool):\n",
    "                fmt2.append(j)\n",
    "            else:\n",
    "                fmt2.append('{0:.2%}'.format(j))\n",
    "            \n",
    "    \n",
    "#     fmt2 = [['{0:.2%}'.format(j) for j in i] for i in fmt]\n",
    "    \n",
    "    mpl_table = ax.table(cellText=np.array([fmt2]).reshape(2,7), bbox=bbox, colLabels=data.columns, **kwargs)\n",
    "\n",
    "    mpl_table.auto_set_font_size(False)\n",
    "    mpl_table.set_fontsize(font_size)\n",
    "    \n",
    "\n",
    "    for k, cell in  six.iteritems(mpl_table._cells):\n",
    "        cell.set_edgecolor(edge_color)\n",
    "        if k[0] == 0 or k[1] < header_columns:\n",
    "            cell.set_text_props(weight='bold', color='w')\n",
    "            cell.set_facecolor(header_color)\n",
    "        else:\n",
    "            cell.set_facecolor(row_colors[k[0]%len(row_colors) ])\n",
    "    return ax"
   ]
  },
  {
   "cell_type": "code",
   "execution_count": 47,
   "metadata": {
    "scrolled": true
   },
   "outputs": [],
   "source": [
    "# fig = plt.figure()\n",
    "# render_mpl_table_percent(demo_tfidf, header_columns=2)\n",
    "# plt.savefig('demo_tfidf.png');"
   ]
  },
  {
   "cell_type": "code",
   "execution_count": null,
   "metadata": {},
   "outputs": [],
   "source": []
  }
 ],
 "metadata": {
  "kernelspec": {
   "display_name": "Python 3",
   "language": "python",
   "name": "python3"
  },
  "language_info": {
   "codemirror_mode": {
    "name": "ipython",
    "version": 3
   },
   "file_extension": ".py",
   "mimetype": "text/x-python",
   "name": "python",
   "nbconvert_exporter": "python",
   "pygments_lexer": "ipython3",
   "version": "3.6.5"
  }
 },
 "nbformat": 4,
 "nbformat_minor": 2
}
